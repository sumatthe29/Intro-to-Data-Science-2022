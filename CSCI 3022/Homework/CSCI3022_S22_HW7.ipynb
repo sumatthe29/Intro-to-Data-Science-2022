{
 "cells": [
  {
   "cell_type": "markdown",
   "metadata": {},
   "source": [
    "<a id='top'></a>\n",
    "\n",
    "# CSCI3022 S22\n",
    "\n",
    "\n",
    "\n",
    "# Homework 7: Bootstrapping and SLR\n",
    "\n",
    "## Due Monday, April 18 at 11:59 pm to Canvas and Gradescope\n",
    "***\n",
    "\n",
    "**Name**: Matthew Su\n",
    "\n",
    "\n",
    "***\n",
    "\n",
    "Your solutions to computational questions should include any specified Python code and results as well as written commentary on your conclusions.  Remember that you are encouraged to discuss the problems with your classmates, but **you must write all code and solutions on your own**.\n",
    "\n",
    "**NOTES**: \n",
    "\n",
    "- Any relevant data sets should be available on Canvas. To make life easier on the graders if they need to run your code, do not change the relative path names here. Instead, move the files around on your computer.\n",
    "- If you're not familiar with typesetting math directly into Markdown then by all means, do your work on paper first and then typeset it later.  Here is a [reference guide](https://math.meta.stackexchange.com/questions/5020/mathjax-basic-tutorial-and-quick-reference) linked on Canvas on writing math in Markdown. **All** of your written commentary, justifications and mathematical work should be in Markdown.  I also recommend the [wikibook](https://en.wikibooks.org/wiki/LaTeX) for LaTex.\n",
    "- Because you can technically evaluate notebook cells is a non-linear order, it's a good idea to do **Kernel $\\rightarrow$ Restart & Run All** as a check before submitting your solutions.  That way if we need to run your code you will know that it will work as expected. \n",
    "- It is **bad form** to make your reader interpret numerical output from your code.  If a question asks you to compute some value from the data you should show your code output **AND** write a summary of the results in Markdown directly below your code. \n",
    "- 45 points of this assignment are in problems.  The remaining 5 are for neatness, style, and overall exposition of both code and text.\n",
    "- This probably goes without saying, but... For any question that asks you to calculate something, you **must show all work and justify your answers to receive credit**. Sparse or nonexistent work will receive sparse or nonexistent credit. \n",
    "- There is *not a prescribed API* for these problems.  You may answer coding questions with whatever syntax or object typing you deem fit.  Your evaluation will primarily live in the clarity of how well you present your final results, so don't skip over any interpretations!  Your code should still be commented and readable to ensure you followed the given course algorithm.\n",
    "- There are two ways to quickly make a .pdf out of this notebook for Gradescope submission.  Either:\n",
    " - Use File -> Download as PDF via LaTeX.  This will require your system path find a working install of a TeX compiler\n",
    " - Easier: Use File ->  Print Preview, and then Right-Click -> Print using your default browser and \"Print to PDF\"\n",
    "\n"
   ]
  },
  {
   "cell_type": "code",
   "execution_count": 1,
   "metadata": {},
   "outputs": [],
   "source": [
    "import numpy as np\n",
    "import pandas as pd\n",
    "import matplotlib.pylab as plt\n",
    "import scipy.stats as stats\n",
    "#regression stuff:\n",
    "import statsmodels.api as sm\n",
    "from patsy import dmatrices\n",
    "%matplotlib inline"
   ]
  },
  {
   "cell_type": "markdown",
   "metadata": {},
   "source": [
    "\n",
    "---\n",
    "**Shortcuts:**  [Problem 1](#p1) | [Problem 2](#p2) |\n",
    "---\n"
   ]
  },
  {
   "cell_type": "markdown",
   "metadata": {},
   "source": [
    "<br>\n",
    "\n",
    "---\n",
    "<a/ id='p1'></a>\n",
    "[Back to top](#top)\n",
    "## Problem 1 (Small Samples; 20 points)\n",
    "\n",
    "Consider the `hubble.csv` data set we used in nb15. In that example, we used the large-sample normal approximation and used it to calculate a confidence interval for the mean of a galaxy's distance from Earth in Mega parsecs (column `x` of the data).\n",
    "\n",
    "Unfortunately, the data was only 24 observations!  What could we have done instead?\n"
   ]
  },
  {
   "cell_type": "code",
   "execution_count": 3,
   "metadata": {},
   "outputs": [
    {
     "data": {
      "text/html": [
       "<div>\n",
       "<style scoped>\n",
       "    .dataframe tbody tr th:only-of-type {\n",
       "        vertical-align: middle;\n",
       "    }\n",
       "\n",
       "    .dataframe tbody tr th {\n",
       "        vertical-align: top;\n",
       "    }\n",
       "\n",
       "    .dataframe thead th {\n",
       "        text-align: right;\n",
       "    }\n",
       "</style>\n",
       "<table border=\"1\" class=\"dataframe\">\n",
       "  <thead>\n",
       "    <tr style=\"text-align: right;\">\n",
       "      <th></th>\n",
       "      <th>Galaxy</th>\n",
       "      <th>y</th>\n",
       "      <th>x</th>\n",
       "    </tr>\n",
       "  </thead>\n",
       "  <tbody>\n",
       "    <tr>\n",
       "      <th>0</th>\n",
       "      <td>NGC0300</td>\n",
       "      <td>133</td>\n",
       "      <td>2.00</td>\n",
       "    </tr>\n",
       "    <tr>\n",
       "      <th>1</th>\n",
       "      <td>NGC0925</td>\n",
       "      <td>664</td>\n",
       "      <td>9.16</td>\n",
       "    </tr>\n",
       "    <tr>\n",
       "      <th>2</th>\n",
       "      <td>NGC1326A</td>\n",
       "      <td>1794</td>\n",
       "      <td>16.14</td>\n",
       "    </tr>\n",
       "    <tr>\n",
       "      <th>3</th>\n",
       "      <td>NGC1365</td>\n",
       "      <td>1594</td>\n",
       "      <td>17.95</td>\n",
       "    </tr>\n",
       "    <tr>\n",
       "      <th>4</th>\n",
       "      <td>NGC1425</td>\n",
       "      <td>1473</td>\n",
       "      <td>21.88</td>\n",
       "    </tr>\n",
       "    <tr>\n",
       "      <th>5</th>\n",
       "      <td>NGC2403</td>\n",
       "      <td>278</td>\n",
       "      <td>3.22</td>\n",
       "    </tr>\n",
       "    <tr>\n",
       "      <th>6</th>\n",
       "      <td>NGC2541</td>\n",
       "      <td>714</td>\n",
       "      <td>11.22</td>\n",
       "    </tr>\n",
       "    <tr>\n",
       "      <th>7</th>\n",
       "      <td>NGC2090</td>\n",
       "      <td>882</td>\n",
       "      <td>11.75</td>\n",
       "    </tr>\n",
       "    <tr>\n",
       "      <th>8</th>\n",
       "      <td>NGC3031</td>\n",
       "      <td>80</td>\n",
       "      <td>3.63</td>\n",
       "    </tr>\n",
       "    <tr>\n",
       "      <th>9</th>\n",
       "      <td>NGC3198</td>\n",
       "      <td>772</td>\n",
       "      <td>13.80</td>\n",
       "    </tr>\n",
       "  </tbody>\n",
       "</table>\n",
       "</div>"
      ],
      "text/plain": [
       "     Galaxy     y      x\n",
       "0   NGC0300   133   2.00\n",
       "1   NGC0925   664   9.16\n",
       "2  NGC1326A  1794  16.14\n",
       "3   NGC1365  1594  17.95\n",
       "4   NGC1425  1473  21.88\n",
       "5   NGC2403   278   3.22\n",
       "6   NGC2541   714  11.22\n",
       "7   NGC2090   882  11.75\n",
       "8   NGC3031    80   3.63\n",
       "9   NGC3198   772  13.80"
      ]
     },
     "execution_count": 3,
     "metadata": {},
     "output_type": "execute_result"
    }
   ],
   "source": [
    "# Path to the data - select the path that works for you \n",
    "file_path = '../data/hubble.csv'\n",
    "\n",
    "# Load the data into a DataFrame \n",
    "df = pd.read_csv(file_path)\n",
    "df.head(10)"
   ]
  },
  {
   "cell_type": "markdown",
   "metadata": {},
   "source": [
    "\n",
    "**Part A**:\n",
    "\n",
    "Make a histogram of the data and overlay the theoretical density of the normal with mean $\\bar{X}$ and variance $s^2$.  How closely do the data follow the histogram?\n"
   ]
  },
  {
   "cell_type": "code",
   "execution_count": 45,
   "metadata": {},
   "outputs": [
    {
     "data": {
      "text/plain": [
       "[<matplotlib.lines.Line2D at 0x1b0f7649460>]"
      ]
     },
     "execution_count": 45,
     "metadata": {},
     "output_type": "execute_result"
    },
    {
     "data": {
      "image/png": "[encoded data removed]",
      "text/plain": [
       "<Figure size 1152x432 with 1 Axes>"
      ]
     },
     "metadata": {
      "needs_background": "light"
     },
     "output_type": "display_data"
    }
   ],
   "source": [
    "fig, ax = plt.subplots(nrows=1, ncols=1, figsize=(16,6))\n",
    "xbars = df['x']\n",
    "# df.plot(x = 'x', y = 'y', kind = \"hist\" density = true)\n",
    "ax.hist(x = df['x'], density = True, bins = 10)\n",
    "ax.grid(alpha=0.25)\n",
    "ax.set_axisbelow(True)\n",
    "ax.set_ylabel(\"Density\", fontsize=16)\n",
    "# df['x']\n",
    "ax.plot(stats.norm.pdf(df['x']))\n"
   ]
  },
  {
   "cell_type": "markdown",
   "metadata": {},
   "source": [
    "**Part B**:\n",
    "\n",
    "Things may not look perfectly normal in part A... but let's perform the tests that require normality anyways:\n",
    "\n",
    "For Part B only, assume each observation is independent and identically distributed as a normal random variable.\n",
    "\n",
    "- Create a 95% confidence interval for the mean of a galaxy's distance from Earth in Mega parsecs.\n",
    "- Create a 95% confidence interval for the standard deviation of a galaxy's distance from Earth in Mega parsecs."
   ]
  },
  {
   "cell_type": "code",
   "execution_count": 50,
   "metadata": {},
   "outputs": [
    {
     "name": "stdout",
     "output_type": "stream",
     "text": [
      "Mean 95% CI:  (9.728282115953515, 14.380884550713152) SD 95% CI:  (3.4883474348841643, 8.140949869643801)\n"
     ]
    },
    {
     "name": "stderr",
     "output_type": "stream",
     "text": [
      "<ipython-input-50-50d71b547c77>:3: DeprecationWarning: Calling np.sum(generator) is deprecated, and in the future will give a different result. Use np.sum(np.fromiter(generator)) or the python sum builtin instead.\n",
      "  svar=np.sum((xi-xbar)**2/(n-1) for xi in df['x'])\n"
     ]
    }
   ],
   "source": [
    "n=len(df)\n",
    "xbar=np.sum(df['x'])/n\n",
    "svar=np.sum((xi-xbar)**2/(n-1) for xi in df['x'])\n",
    "sd=np.sqrt(svar)\n",
    "print(\"Mean 95% CI: \",stats.norm.interval(.95, loc=xbar, scale=sd/np.sqrt(n)), \"SD 95% CI: \",\n",
    "stats.norm.interval(.95, loc=sd, scale=sd/np.sqrt(n)))"
   ]
  },
  {
   "cell_type": "markdown",
   "metadata": {},
   "source": [
    "**Part C**:\n",
    "\n",
    "For part C only, assume each observation is independent and identically distributed but is **not** normally distributed.  Instead, use bootstrapping to:\n",
    "\n",
    "- Create a 95% confidence interval for the mean of a galaxy's distance from Earth in Mega parsecs.\n",
    "- Create a 95% confidence interval for the standard deviation of a galaxy's distance from Earth in Mega parsecs.\n",
    "- Create a 95% confidence interval for the interquartile range (both lower and upper quartiles) of a galaxy's distance from Earth in Mega parsecs.\n",
    "\n",
    "Use 10,000 bootstrapped samples to make the statistics above."
   ]
  },
  {
   "cell_type": "code",
   "execution_count": 69,
   "metadata": {
    "scrolled": true
   },
   "outputs": [],
   "source": [
    "# Adapted from notebook 18, modified for this problem\n",
    "\n",
    "def bootstrapped_mean(sample, num_boots=10000):\n",
    "\n",
    "    # np.mean of df['x']\n",
    "    meanci = np.array([np.mean(np.random.choice(sample, replace=True, size=len(sample))) for ii in range(num_boots)])\n",
    "    # 95% -> 2.5% --- 97.5%\n",
    "    L, U = np.percentile(meanci, 2.5), np.percentile(meanci, 97.5)\n",
    "    # Place lower/upper into array and return\n",
    "    CI = np.array([L, U])\n",
    "    return CI \n",
    "    \n",
    "def bootstrapped_var(sample, num_boots=10000):\n",
    "\n",
    "    # np.std of df['x']\n",
    "    sdci = np.array([np.std(np.random.choice(sample, replace=True, size=len(sample))) for ii in range(num_boots)])\n",
    "    L, U = np.percentile(sdci, 2.5), np.percentile(sdci, 97.5)\n",
    "    CI = np.array([L, U])\n",
    "    \n",
    "    return CI \n",
    "    \n"
   ]
  },
  {
   "cell_type": "code",
   "execution_count": 68,
   "metadata": {},
   "outputs": [
    {
     "name": "stdout",
     "output_type": "stream",
     "text": [
      "[ 9.69075    14.30045833] [4.21508947 6.71738595]\n"
     ]
    }
   ],
   "source": [
    "print(bootstrapped_mean(df['x']),bootstrapped_var(df['x']))"
   ]
  },
  {
   "cell_type": "markdown",
   "metadata": {},
   "source": [
    "[Back to top](#top)\n",
    "\n",
    "<a id='p2'></a>\n",
    "\n",
    "## (25 pts) Problem 2 (Theory): Practice with SLR and Inference\n",
    "\n",
    "\n",
    "In this problem we will explore the `mortality.csv` data introduced in notebook21.  In that notebook we found some linear regression coefficients and did a related hypothesis test.  In this exercise we will \"finish\" analysis on that data set by exploring and visualizing the underlying assumptions, and performing some more nuanced inference.\n",
    "\n",
    "This data set has two variables:\n",
    "\n",
    "- `Rate`; the annual mortality rate (as a percentage) over the years 1958–1964 of 61 towns in England and Wales.\n",
    "- `Calc`; the recorded calcium concentration in the drinking water supply for those towns, in parts-per-million"
   ]
  },
  {
   "cell_type": "code",
   "execution_count": 72,
   "metadata": {},
   "outputs": [
    {
     "name": "stdout",
     "output_type": "stream",
     "text": [
      "61\n"
     ]
    },
    {
     "data": {
      "text/html": [
       "<div>\n",
       "<style scoped>\n",
       "    .dataframe tbody tr th:only-of-type {\n",
       "        vertical-align: middle;\n",
       "    }\n",
       "\n",
       "    .dataframe tbody tr th {\n",
       "        vertical-align: top;\n",
       "    }\n",
       "\n",
       "    .dataframe thead th {\n",
       "        text-align: right;\n",
       "    }\n",
       "</style>\n",
       "<table border=\"1\" class=\"dataframe\">\n",
       "  <thead>\n",
       "    <tr style=\"text-align: right;\">\n",
       "      <th></th>\n",
       "      <th>Rate</th>\n",
       "      <th>Calc</th>\n",
       "    </tr>\n",
       "  </thead>\n",
       "  <tbody>\n",
       "    <tr>\n",
       "      <th>0</th>\n",
       "      <td>1.247</td>\n",
       "      <td>105</td>\n",
       "    </tr>\n",
       "    <tr>\n",
       "      <th>1</th>\n",
       "      <td>1.392</td>\n",
       "      <td>73</td>\n",
       "    </tr>\n",
       "    <tr>\n",
       "      <th>2</th>\n",
       "      <td>1.260</td>\n",
       "      <td>21</td>\n",
       "    </tr>\n",
       "    <tr>\n",
       "      <th>3</th>\n",
       "      <td>1.259</td>\n",
       "      <td>133</td>\n",
       "    </tr>\n",
       "    <tr>\n",
       "      <th>4</th>\n",
       "      <td>1.236</td>\n",
       "      <td>101</td>\n",
       "    </tr>\n",
       "    <tr>\n",
       "      <th>5</th>\n",
       "      <td>1.627</td>\n",
       "      <td>53</td>\n",
       "    </tr>\n",
       "    <tr>\n",
       "      <th>6</th>\n",
       "      <td>1.581</td>\n",
       "      <td>14</td>\n",
       "    </tr>\n",
       "    <tr>\n",
       "      <th>7</th>\n",
       "      <td>1.609</td>\n",
       "      <td>18</td>\n",
       "    </tr>\n",
       "    <tr>\n",
       "      <th>8</th>\n",
       "      <td>1.755</td>\n",
       "      <td>12</td>\n",
       "    </tr>\n",
       "    <tr>\n",
       "      <th>9</th>\n",
       "      <td>1.723</td>\n",
       "      <td>44</td>\n",
       "    </tr>\n",
       "  </tbody>\n",
       "</table>\n",
       "</div>"
      ],
      "text/plain": [
       "    Rate  Calc\n",
       "0  1.247   105\n",
       "1  1.392    73\n",
       "2  1.260    21\n",
       "3  1.259   133\n",
       "4  1.236   101\n",
       "5  1.627    53\n",
       "6  1.581    14\n",
       "7  1.609    18\n",
       "8  1.755    12\n",
       "9  1.723    44"
      ]
     },
     "execution_count": 72,
     "metadata": {},
     "output_type": "execute_result"
    }
   ],
   "source": [
    "# Path to the data - select the path that works for you \n",
    "file_path = '../data/mortality.csv'\n",
    "\n",
    "# Load the data into a DataFrame \n",
    "df = pd.read_csv(file_path)\n",
    "print(len(df))\n",
    "df.head(10)"
   ]
  },
  {
   "cell_type": "markdown",
   "metadata": {},
   "source": [
    "**A)** Perform a simple linear regression model using the `OLS` method from `statsmodels`.  Print the resulting `summary` table and then as a print statement or in a markdown cell typeset the actual line of best fit, using the coefficients from your fit.  (See: `.params`.)"
   ]
  },
  {
   "cell_type": "code",
   "execution_count": 79,
   "metadata": {},
   "outputs": [
    {
     "name": "stdout",
     "output_type": "stream",
     "text": [
      "                                 OLS Regression Results                                \n",
      "=======================================================================================\n",
      "Dep. Variable:                   Rate   R-squared (uncentered):                   0.526\n",
      "Model:                            OLS   Adj. R-squared (uncentered):              0.518\n",
      "Method:                 Least Squares   F-statistic:                              66.56\n",
      "Date:                Mon, 18 Apr 2022   Prob (F-statistic):                    2.63e-11\n",
      "Time:                        01:26:43   Log-Likelihood:                         -89.950\n",
      "No. Observations:                  61   AIC:                                      181.9\n",
      "Df Residuals:                      60   BIC:                                      184.0\n",
      "Df Model:                           1                                                  \n",
      "Covariance Type:            nonrobust                                                  \n",
      "==============================================================================\n",
      "                 coef    std err          t      P>|t|      [0.025      0.975]\n",
      "------------------------------------------------------------------------------\n",
      "Calc           0.0184      0.002      8.159      0.000       0.014       0.023\n",
      "==============================================================================\n",
      "Omnibus:                        5.780   Durbin-Watson:                   0.673\n",
      "Prob(Omnibus):                  0.056   Jarque-Bera (JB):                5.375\n",
      "Skew:                          -0.659   Prob(JB):                       0.0681\n",
      "Kurtosis:                       2.386   Cond. No.                         1.00\n",
      "==============================================================================\n",
      "\n",
      "Notes:\n",
      "[1] R² is computed without centering (uncentered) since the model does not contain a constant.\n",
      "[2] Standard Errors assume that the covariance matrix of the errors is correctly specified.\n"
     ]
    }
   ],
   "source": [
    "# In notebook example, Calc is treated as x, Rate is treated as y\n",
    "print((sm.OLS(df['Rate'],df['Calc']).fit()).summary())"
   ]
  },
  {
   "cell_type": "code",
   "execution_count": null,
   "metadata": {},
   "outputs": [],
   "source": []
  },
  {
   "cell_type": "markdown",
   "metadata": {},
   "source": [
    "\n",
    "#### Part B: Visualize.  Make a figure contianing 3 side-by-side plots.  Lefthand plot: scatter plot of the data set with overlay the line of best least-squares fit.  Middle plot: histogram of *residuals* of best least-squares fit are the y-axis.  Righthand plot: scatter plot where the original x-values are the x-axis and the *residuals* are the y-axis."
   ]
  },
  {
   "cell_type": "code",
   "execution_count": 91,
   "metadata": {},
   "outputs": [
    {
     "data": {
      "image/png": "[encoded data removed]",
      "text/plain": [
       "<Figure size 1152x720 with 2 Axes>"
      ]
     },
     "metadata": {
      "needs_background": "light"
     },
     "output_type": "display_data"
    }
   ],
   "source": [
    "fig = plt.figure(figsize=(16,10))\n",
    "fig.subplots_adjust(hspace=0.4, wspace=0.4)\n",
    "\n",
    "ax1 = fig.add_subplot(221)\n",
    "ax1.scatter(df[\"Calc\"], df[\"Rate\"], color=\"steelblue\")\n",
    "ax1.set_ylim([0,3])\n",
    "ax1.set_xlabel(\"Calcium concentration\")\n",
    "ax1.set_ylabel(\"Mortality rate\")\n",
    "# Line of best least square fit\n",
    "bhat, ahat, rval, pval, stderr = stats.linregress(df['Calc'], df['Rate'])\n",
    "ax1.plot(df['Calc'], ahat + bhat*df['Calc'], color=\"steelblue\", lw=3)\n",
    "\n",
    "ax2 = fig.add_subplot(222)\n"
   ]
  },
  {
   "cell_type": "markdown",
   "metadata": {},
   "source": [
    "**Part C**: For each of the 4 major assumptions of the simple linear regression model, use your plots in part B to decide whether or not the data set meets those assumptions."
   ]
  },
  {
   "cell_type": "markdown",
   "metadata": {},
   "source": [
    "**Solution:**\n",
    "- Restate and discuss (briefly) assumption 1 here\n",
    "- Restate and discuss (briefly) assumption 2 here\n",
    "- Restate and discuss (briefly) assumption 3 here\n",
    "- Restate and discuss (briefly) assumption 4 here\n"
   ]
  },
  {
   "cell_type": "markdown",
   "metadata": {},
   "source": [
    "**D**: In the rest of this problem we will draw specific conclusions from our analysis and linear model.  For each prompt, you should provide both a numerical answer and a full sentence explaining the conclusion.\n",
    "\n",
    "**D1)**:  How much of the variance in the mortality rates could be explained by the calcium in the drinking water?  Does this seem like a high value?"
   ]
  },
  {
   "cell_type": "code",
   "execution_count": null,
   "metadata": {},
   "outputs": [],
   "source": []
  },
  {
   "cell_type": "markdown",
   "metadata": {},
   "source": [
    "**D2)**:  A skeptic insists that \"there's no way water quality is actually affecting death rates.\"  You decide that your linear model demonstrates other wise.  State the null and alternative hypotheses, and use the values on your `summary` table at a significance of $\\alpha=0.01$ to argue against this skeptic."
   ]
  },
  {
   "cell_type": "code",
   "execution_count": null,
   "metadata": {},
   "outputs": [],
   "source": []
  },
  {
   "cell_type": "markdown",
   "metadata": {},
   "source": [
    "**D3)**:  The government decides they believe your analysis in **D2)** that `Calc` values matter, but augmenting the drinking supply with Calcium is costly.  They insist that they don't actually want to take any actions unless you can demonstrate that the effects of `Calc` concentration on mortality `Rate` are *large enough*.  In particular, they will implement a calcification campaign if and only if you can demonstrate that at a significance of $\\alpha=0.01$ one part-per-million of `Calcium` decreases mortality rate by more than 0.0025 percentage.\n",
    "\n",
    "State the null and alternative hypotheses, and use the values on your summary table to recommend an action to the government (you may want to check out `.bse` of your linear model)"
   ]
  },
  {
   "cell_type": "code",
   "execution_count": null,
   "metadata": {},
   "outputs": [],
   "source": []
  },
  {
   "cell_type": "markdown",
   "metadata": {},
   "source": [
    "**D4)**:  The town of Manchester and their football clubs are loathsome.  While the town wasn't originally tested, we are told that the calcium concentration in their drinking water is exactly 100 ppm.\n",
    "\n",
    "What is the 95% **prediction** band for the mortality rate in Manchester?  In other words, given our linear model, what is the interval that we think should contain the actual mortality rate for Manchester?\n",
    "\n",
    "What is the 95% **confidence** band for the mortality rate in Manchester?  In other words, what is the interval that we think should contain the **mean** mortality rate for any town with a Calcium concentration of 100 ppm?\n",
    "\n",
    "*Hint:* These are the things computed in the `SLR Confidence and Prediction.ipynb`... make sure to include an intercept!"
   ]
  },
  {
   "cell_type": "code",
   "execution_count": null,
   "metadata": {},
   "outputs": [],
   "source": []
  },
  {
   "cell_type": "markdown",
   "metadata": {},
   "source": [
    "[Back to top](#top)\n"
   ]
  }
 ],
 "metadata": {
  "kernelspec": {
   "display_name": "Python 3",
   "language": "python",
   "name": "python3"
  },
  "language_info": {
   "codemirror_mode": {
    "name": "ipython",
    "version": 3
   },
   "file_extension": ".py",
   "mimetype": "text/x-python",
   "name": "python",
   "nbconvert_exporter": "python",
   "pygments_lexer": "ipython3",
   "version": "3.8.8"
  }
 },
 "nbformat": 4,
 "nbformat_minor": 2
}
