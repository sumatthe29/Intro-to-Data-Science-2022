{
 "cells": [
  {
   "cell_type": "markdown",
   "metadata": {},
   "source": [
    "<a id='top'></a>\n",
    "\n",
    "# CSCI3022 S22\n",
    "\n",
    "\n",
    "\n",
    "# Homework 3: Stochastic Simulation\n",
    "\n",
    "## Due Monday, February 21 at 11:59 pm to Canvas and Gradescope\n",
    "***\n",
    "\n",
    "**Name**: Matthew Su\n",
    "\n",
    "***\n",
    "\n",
    "Your solutions to computational questions should include any specified Python code and results as well as written commentary on your conclusions.  Remember that you are encouraged to discuss the problems with your classmates, but **you must write all code and solutions on your own**.\n",
    "\n",
    "**NOTES**: \n",
    "\n",
    "- Any relevant data sets should be available on Canvas. To make life easier on the graders if they need to run your code, do not change the relative path names here. Instead, move the files around on your computer.\n",
    "- If you're not familiar with typesetting math directly into Markdown then by all means, do your work on paper first and then typeset it later.  Here is a [reference guide](https://math.meta.stackexchange.com/questions/5020/mathjax-basic-tutorial-and-quick-reference) linked on Canvas on writing math in Markdown. **All** of your written commentary, justifications and mathematical work should be in Markdown.  I also recommend the [wikibook](https://en.wikibooks.org/wiki/LaTeX) for LaTex.\n",
    "- Because you can technically evaluate notebook cells is a non-linear order, it's a good idea to do **Kernel $\\rightarrow$ Restart & Run All** as a check before submitting your solutions.  That way if we need to run your code you will know that it will work as expected. \n",
    "- It is **bad form** to make your reader interpret numerical output from your code.  If a question asks you to compute some value from the data you should show your code output **AND** write a summary of the results in Markdown directly below your code. \n",
    "- 45 points of this assignment are in problems.  The remaining 5 are for neatness, style, and overall exposition of both code and text.\n",
    "- This probably goes without saying, but... For any question that asks you to calculate something, you **must show all work and justify your answers to receive credit**. Sparse or nonexistent work will receive sparse or nonexistent credit. \n",
    "- There is *not a prescribed API* for these problems.  You may answer coding questions with whatever syntax or object typing you deem fit.  Your evaluation will primarily live in the clarity of how well you present your final results, so don't skip over any interpretations!  Your code should still be commented and readable to ensure you followed the given course algorithm.\n",
    "- There are two ways to quickly make a .pdf out of this notebook for Gradescope submission.  Either:\n",
    " - Use File -> Download as PDF via LaTeX.  This will require your system path find a working install of a TeX compiler\n",
    " - Easier: Use File ->  Print Preview, and then Right-Click -> Print using your default browser and \"Print to PDF\"\n",
    "\n"
   ]
  },
  {
   "cell_type": "code",
   "execution_count": 1,
   "metadata": {},
   "outputs": [],
   "source": [
    "import numpy as np\n",
    "import pandas as pd\n",
    "import matplotlib.pylab as plt\n",
    "import scipy.stats as stats\n",
    "%matplotlib inline"
   ]
  },
  {
   "cell_type": "markdown",
   "metadata": {},
   "source": [
    "\n",
    "---\n",
    "**Shortcuts:**  [Problem 1](#p1) | [Problem 2](#p2) | [Problem 3](#p3) |\n",
    "---\n"
   ]
  },
  {
   "cell_type": "markdown",
   "metadata": {},
   "source": [
    "***\n",
    "<a/ id='p1'></a>\n",
    "[Back to top](#top)\n",
    "## (15 pts) Problem 1: It's a duel!\n",
    "***\n",
    "\n",
    "Brennan and Dale are back to their competitions.  They've discovered a new sport: Baseball!  But it's hard to play with only 2 of them, so they instead have a simplifed variant of a game with the following properties:\n",
    "\n",
    "- Dale gets one attempt to hit a pitch thrown by Brennan.  He succeeds with with probability $p$.\n",
    "- Brennan gets one attempt to hit a pitch thrown by Dale.  He succeeds with with probability $q$.\n",
    "- If one of them succeeded and the other didn't, the one that succeeded is the winner!\n",
    "- If neither succeeded **OR** neither failed, the game continues from the start.\n",
    "\n",
    "(NB: this is similar to e.g. [Horse](https://en.wikipedia.org/wiki/NBA_All-Star_Weekend_H%E2%80%93O%E2%80%93R%E2%80%93S%E2%80%93E_Competition) in basketball)\n",
    "\n",
    "Denote the following:\n",
    "- D is the event that Dale wins the game at the end.\n",
    "- B is the event that Brennan wins the game at the end.\n",
    "- E is the event that the game ends in the first round.\n",
    "- C is the event that the game continues to additional rounds.\n",
    "\n"
   ]
  },
  {
   "cell_type": "markdown",
   "metadata": {},
   "source": [
    "**A**: The duel will continue until Dale or Brennan wins.  What is the sample space $\\Omega$ for this \"experiment\"?  Represent the outcomes of individual pitches by $H$ for a successful hit and $W$ for a failure (whiff). Assume that Dale has the first attempt to hit in each round. At the very least, your answer should include all of the events in $\\Omega$ that include one or two rounds."
   ]
  },
  {
   "cell_type": "markdown",
   "metadata": {},
   "source": [
    "Essentially it will take at minimum 1 round to determine a winner. \n",
    "\n",
    "This can happen as:\n",
    "\n",
    "- \"DH and BW\" or \"DW and BH\"\n",
    "\n",
    "Ties occur when:\n",
    "\n",
    "- \"DH and BH\" or \"DW and BW\"\n",
    "\n",
    "When a tie occurs, another round is required to see if anyone wins again.\n",
    "\n",
    "At this point then, a win/loss looks like:\n",
    "\n",
    "- \"DH and BH\" followed by \"DH and BW\"\n",
    "\n",
    "- \"DH and BH\" followed by \"DW and BH\"\n",
    "\n",
    "- \"DW and BW\" followed by \"DH and BH\"\n",
    "\n",
    "- \"DW and BW\" followed by \"DW and BH\"\n",
    "\n",
    "This continues round to round until someone wins.\n",
    "\n",
    "Overall for a 2 round limit it looks as follows:\n",
    "\n",
    "- \"DH and BW\"\n",
    "- \"DW and BH\"\n",
    "- \"DH and BH\"\n",
    "- \"DW and BW\"\n",
    "- \"DH and BH\" followed by \"DH and BW\"\n",
    "\n",
    "- \"DH and BH\" followed by \"DW and BH\"\n",
    "\n",
    "- \"DW and BW\" followed by \"DH and BH\"\n",
    "\n",
    "- \"DW and BW\" followed by \"DW and BH\""
   ]
  },
  {
   "cell_type": "markdown",
   "metadata": {},
   "source": [
    "**B:** Determine $P(D \\mid E)$ in terms of $p$ and $q$."
   ]
  },
  {
   "cell_type": "markdown",
   "metadata": {},
   "source": [
    "We are aware that D (the event that Dale wins the game) is the same as his success probability of hitting the pitch first and the probability that Brennan fails. For Brennan, it's the opposite (his success probability and the probability that Dale fails).\n",
    "\n",
    "This can be represented as:\n",
    "\n",
    "$$P(D) = p * (1-q) $$  <br>\n",
    "\n",
    "\n",
    "When we break down $P(D \\mid E)$ (conditional probability):\n",
    "$$\n",
    "P(D \\mid E) = \\dfrac{P(D \\cap E)}{P(E)}\n",
    "$$\n",
    "\n",
    "$P(E)$ can only occur if one person wins and one person loses, represented as $p(1-q), q(1-p)$ for Dale and Brennan \n",
    "\n",
    "<br>\n",
    "$$\n",
    "P(D \\mid E) = \\dfrac{p(1-q)}{p(1-q) + q(1-p)}\n",
    "$$\n",
    "\n"
   ]
  },
  {
   "cell_type": "markdown",
   "metadata": {},
   "source": [
    "**C**: Explain why events $C$ and $D$ are independent (words/intuition are fine!)"
   ]
  },
  {
   "cell_type": "markdown",
   "metadata": {},
   "source": [
    "The event that the game requires one more round (C) does not depend on Dale winning (D), but rather Dale winning AND Brennen losing. P(C) represents the scenerio where D and B either both hit the ball or both whiff."
   ]
  },
  {
   "cell_type": "markdown",
   "metadata": {},
   "source": [
    "**D**: Use the Law of Total Probability to show that $P(D) = p(1-q) + (2pq - p - q +1) P(D \\mid C)$."
   ]
  },
  {
   "cell_type": "markdown",
   "metadata": {},
   "source": [
    "$P(C)$ is representative of the probability of either all hits or all whiffs:\n",
    "\n",
    "$$P(C) = (1-q)(1-p) + pq = (2pq-p-q+1)$$\n",
    "\n",
    "And we know that $P(D \\mid E)$ is $\\dfrac{p(1-q)}{P(E)}$, so multiplying it by $P(E)$ cancels it out leaving only the numerator $p(1-q)$: \n",
    "\n",
    "$$P(D) = P(D \\mid E) * P(E) + P(D \\mid C) * P(C)$$\n",
    "\n",
    "\n",
    "\n",
    "\n",
    "\n",
    " \n"
   ]
  },
  {
   "cell_type": "markdown",
   "metadata": {},
   "source": [
    "**E**: Use the fact from **Part C** that $P(D \\mid C) = P(D)$ to determine $P(D)$ in terms of $p$ and $q$. "
   ]
  },
  {
   "cell_type": "markdown",
   "metadata": {},
   "source": [
    "$$P(D) = (p * (1-q)) + (2pq-p-q+1)P(D)$$\n",
    "\n",
    "$$-p(1-q) = -P(D) + (2pq-p-q+1)P(D)$$\n",
    "\n",
    "$$p(1-q) = P(D)(1-2pq+p+q-1)$$\n",
    "\n",
    "$$P(D) = \\dfrac{p(1-q)}{(-2pq+p+q)}$$"
   ]
  },
  {
   "cell_type": "markdown",
   "metadata": {},
   "source": [
    "**Part F (2 Points)**: Explain why the answers to **Part B** and **Part E** are the same. "
   ]
  },
  {
   "cell_type": "markdown",
   "metadata": {},
   "source": [
    "The relationship between $P(D \\mid E)$ and $P(D \\mid C)$ is that the probability of either a 1st round exit or a continuation of rounds is directly dependent on the win probability of either D or B (which are interdependent on each other). Trying to find the probability of either event moving on or a one round exit isn't possible with just D's win probability since D winning does not incur either event without B losing. The odds of a win situation versus a tie/whiff situation are the same between E and C, but are not accounted for in $P(D \\mid E)$ nor $P(D \\mid C)$ since they only look at D's chance of winning, which is same round to round regardless of E or C."
   ]
  },
  {
   "cell_type": "markdown",
   "metadata": {},
   "source": [
    "[Back to top](#top)\n",
    "\n",
    "<a id='p2'></a>\n",
    "\n",
    "## (15 pts) Problem 2 (Simulation): Poker and games\n",
    "***\n",
    "\n",
    "One of the big payoffs of simulation is that it can let us answer some probability questions that are otherwise quite difficult.  We can instead just simulate the process and get approximate results based on simulation.\n",
    "\n",
    "\n",
    "A common example for discrete counting and probability questions are poker hands.  Consider using a standard 52-card playing deck, with card faces `[A,2,3,4,5,6,7,8,9,10,J,Q,K]` across the standard 4 suits: `[C,D,H,S]`.\n",
    "\n",
    "Suppose we draw 5 cards at random from the deck.\n",
    "\n",
    "**A:** What is the exact probability that we have \"three of a kind:\" a hand with 3 copies of one card face type (of any suits) and the other two cards not matching either that face or each other. Typeset your work below.  You may leave your answer in terms of a ratio of products, but you should simplify away any combinatoric notation such as ${n \\choose k}$ or $P(n,k)$.\n"
   ]
  },
  {
   "cell_type": "markdown",
   "metadata": {},
   "source": [
    "There are 13 possible faces to have a ToaK, and 12 remaining values avaliable for the next 2 picks after the face is selected and the number of unique cards (3) required to make up that Toak out of the 4 cards that exist in the deck with the same face.\n",
    "\n",
    "\n",
    "Three of a Kind $\n",
    " = (\\dfrac{13}{1}) * (\\dfrac{12}{2}) * (\\dfrac{4}{3})\n",
    "$\n",
    "\n",
    "\n",
    "Each additional card choice is represented as  $ (\\dfrac{4}{1})$\n",
    "\n",
    "Thus our final probability is:\n",
    "\n",
    "Three of a Kind $\n",
    " = (\\dfrac{13}{1}) * (\\dfrac{12}{2}) * (\\dfrac{4}{3}) * (\\dfrac{4}{1})^2\n",
    "$ \n",
    "\n",
    "Which roughly equates to ~2%\n",
    "\n",
    "\n",
    "\n"
   ]
  },
  {
   "cell_type": "markdown",
   "metadata": {},
   "source": [
    "**B:**\n",
    "Poker with computers!\n",
    "\n",
    "Write a simulation that draws a hand of 5 cards from a standard 52-card deck. Repeat this simulation 10000 times, and report how many \"three of a kind\" hands were observed. Verify that the result is consistent with your answer to part A.\n",
    "\n",
    "NB: The function `np.unique` can make checking hands easier.  Your actual simulation should have 52 distinct cards, even if we're only using the faces (and not suits) for the check of the final hand."
   ]
  },
  {
   "cell_type": "code",
   "execution_count": 21,
   "metadata": {},
   "outputs": [
    {
     "name": "stdout",
     "output_type": "stream",
     "text": [
      "Three of a kind probability:  0.0184\n"
     ]
    }
   ],
   "source": [
    "from random import sample\n",
    "\n",
    "# All the different faces in a deck of cards\n",
    "faces = ['A','1','2','3','4','5','6','7','8','9','10','J','Q','K']\n",
    "\n",
    "#Global variable to store number of Toaks\n",
    "Toak = 0\n",
    "\n",
    "#run though 10000 hand scenerios\n",
    "for i in range (10000):\n",
    "    # array to store user hand\n",
    "    hand = []\n",
    "    # number of each cards/faces avaliable\n",
    "    cardcount = []\n",
    "    # 'A','A','A','A','1','2':4,'3':4,'4':4,'5':4,'6':4,'7':4,'8':4,'9':4,'10':4,'J':4,'Q':4,'K':4\n",
    "    \n",
    "    for j in range (len(faces)):\n",
    "        cardcount.extend([faces[j] for k in range(4)])\n",
    "    \n",
    "    \n",
    "    hand = sample(cardcount, 5)\n",
    "    \n",
    "    if (max(np.unique(hand,return_counts=True)[1]) == 3):\n",
    "        Toak += 1\n",
    "    else:\n",
    "        continue\n",
    "        \n",
    "\n",
    "print(\"Three of a kind probability: \", Toak/10000)\n",
    "        \n",
    "        \n",
    "        "
   ]
  },
  {
   "cell_type": "markdown",
   "metadata": {},
   "source": [
    "[Back to top](#top)\n",
    "\n",
    "<a id='p3'></a>\n",
    "\n",
    "## (15 pts) Problem 3 (Simulation): Is it fair?\n",
    "***\n",
    "\n",
    "Hopefully you enjoyed the Super Bowl, which (again) this year tragically did not involve the Detroit Lions.  One narrative that is often discussed in the NFL playoffs is whether or not overtime - the way games tied after 4 quarters are handled -  is *fair*.  The general rules of an NFL overtime are as follows:\n",
    "\n",
    "- The teams alternate who gets the ball to try to score.  The team that wins the coin toss gets to try first.\n",
    "- The game is over whenever a team scores, and that team is the winner.  There are two exceptions to this rule, listed in the next bullet point.\n",
    "- If the first team (Team 0) scores a \"Field Goal,\" the other team has a chance to get the ball.  In this case, if the other team (Team 1) scores a \"Touchdown\" they win, if Team 1 scores a \"Field Goal,\" the game continues but reverts to next-score-wins, and if Team 1 failes to score they lose.\n",
    "- The game ends at a tie (in the regular season) if neither team scores at all within 10 minutes.  The game is also a tie if they each scored Field Goals in their first drives and then no scores followed in an overall duration of 10 minutes.  It's also possible for Team 0 to win by scoring a Field Goal and having the clock run out during Team 1's subsequent drive.\n",
    "\n",
    "We're going to *simulate* NFL overtimes to determine whether or not they're fair!  Note that in theory this **should** be a similar to problem 1: if $p=q=.5$ in the dueling problem, you should be able to quickly compute that both Dale and Brennan would be equally likely to win.  But the NFL rules are a little different, and not every scenario involves both teams getting an equal number of chances...\n",
    "\n",
    "To simulate NFL overtimes, we're going to simulate **drives** of each team.  These is the outcomes of each of their turns to have the ball.  In particular, we'll assume each and every drive follows the (simplified) probabilities given by the approximate NFL average for drives:\n",
    "\n",
    "- A drive has 30% chance to end in a Touchdown.\n",
    "- A drive has 1/6 chance to end in a Field Goal.\n",
    "- All other drives end in no points and the other team getting the ball.\n",
    "- The **duration** of drives is an exponential random variable with average length of 2.4 minutes (`scale=2.4`) .\n",
    "\n",
    "\n",
    "**Implementation Comments**:\n",
    "\n",
    "-- You'll probably want various if-then statements to describe what happens if the time runs out\n",
    "\n",
    "-- Make sure your function returns either the total number of possessions or the possessions themselves, since you'll be asked about them!\n",
    "\n",
    "-- If the rules are at all confusing, they're in slightly more depth [here](https://operations.nfl.com/the-rules/nfl-overtime-rules/)"
   ]
  },
  {
   "cell_type": "code",
   "execution_count": 2,
   "metadata": {},
   "outputs": [],
   "source": [
    "drive ={'drives' : np.array([\"TD\", \"FG\", \"TO\"]), 'probs' : np.array([3/10, 1/6, 16/30])} \n",
    "\n",
    "def sim_overtime():\n",
    "    time=0 #maybe increment this each drive\n",
    "    \n",
    "    #H and T represent a team (winner of coin toss, not literally heads or tails)\n",
    "    \n",
    "    coin = np.array([\"H\", \"T\"])\n",
    "    \n",
    "    ct = np.random.choice(coin)\n",
    "    \n",
    "    numposs = 1\n",
    "    \n",
    "    fgh = 0\n",
    "    fgt = 0\n",
    "    \n",
    "    #for each possession:\n",
    "        #check if the time has run out?  If not...\n",
    "        #record what happened: TD, FG, or no point\n",
    "        #check if the game is over based on points being scored?\n",
    "        \n",
    "    while time < 10:\n",
    "        intime = time + np.random.exponential(scale=2.4)\n",
    "        \n",
    "        # I wanted the time first to determine how much time a team takes on a drive first,\n",
    "        # then determining the outcome as a result. I felt that determining an outcome then\n",
    "        # calculating a time was not representative of what happens in an actual game,\n",
    "        # so this approach limits my poss quite a bit but in a more realistic way, as in \n",
    "        # actual games you don't really get more than 4 drives during overtime\n",
    "        \n",
    "        if intime < 10:\n",
    "            time = intime\n",
    "            dout = np.random.choice(drive['drives'], p=drive['probs'])\n",
    "            \n",
    "            if ct == \"H\":\n",
    "                if dout == \"TD\":\n",
    "                    winner = ct\n",
    "                    possessions = numposs \n",
    "                    break\n",
    "                elif dout == \"FG\":\n",
    "                    # no one scored a FG yet (MP)\n",
    "                    if (fgh == 0) and (fgt == 0):\n",
    "                        fgh = 1\n",
    "                        numposs+=1\n",
    "                        continue\n",
    "                    # H scores a fg, T already scored a fg (MP)\n",
    "                    elif (fgh == 0) and (fgt == 1):\n",
    "                        fgh = 0\n",
    "                        fgt = 0\n",
    "                        numposs+=1\n",
    "                        continue\n",
    "                    # H already scored, H scores again (W)\n",
    "                    elif (fgh == 1) and (fgt == 0):\n",
    "                        winner = ct\n",
    "                        possessions = numposs\n",
    "                        break\n",
    "                else:\n",
    "                    ct = \"T\"\n",
    "                    continue\n",
    "            else:\n",
    "                if dout == \"TD\":\n",
    "                    winner = ct\n",
    "                    possessions = numposs \n",
    "                    break\n",
    "                elif dout == \"FG\":\n",
    "                    # no one scored a FG yet (MP)\n",
    "                    if (fgh == 0) and (fgt == 0):\n",
    "                        fgt = 1\n",
    "                        numposs+=1\n",
    "                        continue\n",
    "                    # T scores a fg, H already scored a fg (MP)\n",
    "                    elif (fgh == 1) and (fgt == 0):\n",
    "                        fgh = 0\n",
    "                        fgt = 0\n",
    "                        numposs+=1\n",
    "                        continue\n",
    "                    # T already scored, H scores again (W)\n",
    "                    elif (fgh == 0) and (fgt == 1):\n",
    "                        winner = ct\n",
    "                        possessions = numposs\n",
    "                        break\n",
    "                    else:\n",
    "                        ct = \"H\"\n",
    "                        continue\n",
    "                    \n",
    "                        \n",
    "        else:\n",
    "            if fgh == 1 and fgt == 0:\n",
    "                winner = \"H\"\n",
    "                possessions = numposs\n",
    "                break\n",
    "            elif fgh == 0 and fgt == 1:\n",
    "                winner = \"T\"\n",
    "                possessions = numposs\n",
    "                break\n",
    "            else:\n",
    "                winner = \"TIE\"\n",
    "                possessions = numposs\n",
    "                break\n",
    "                    \n",
    "    return winner, possessions\n",
    "\n",
    "def results(num_samples):\n",
    "    results = np.array([sim_overtime() for ii in range(num_samples)])\n",
    "    print(\"Team 0 win prob: \", np.sum(results == \"H\")/num_samples)\n",
    "    print(\"Team 1 win prob: \", np.sum(results == \"T\")/num_samples)\n",
    "    print (\"Ties: \", np.sum(results == \"TIE\")/num_samples)\n"
   ]
  },
  {
   "cell_type": "code",
   "execution_count": 3,
   "metadata": {},
   "outputs": [
    {
     "name": "stdout",
     "output_type": "stream",
     "text": [
      "Team 0 win prob:  0.212\n",
      "Team 1 win prob:  0.639\n",
      "Ties:  0.149\n"
     ]
    }
   ],
   "source": [
    "results(1000)\n"
   ]
  },
  {
   "cell_type": "markdown",
   "metadata": {},
   "source": [
    "**B**:  Run your function in Part **A** at least 1000 times.  Make sure to save (in one or more objects) both the win/lose/tie status of the game and the number of possessions.  \n",
    "\n",
    "Then report simulated/estimated probabilities for Team 1 winning, Team 2 winning, or a tie.\n",
    "\n"
   ]
  },
  {
   "cell_type": "code",
   "execution_count": 4,
   "metadata": {},
   "outputs": [
    {
     "name": "stdout",
     "output_type": "stream",
     "text": [
      "Team 0 win prob:  0.202\n",
      "Team 1 win prob:  0.649\n",
      "Ties:  0.149\n"
     ]
    }
   ],
   "source": [
    "results(1000)"
   ]
  },
  {
   "cell_type": "markdown",
   "metadata": {},
   "source": [
    "**C**: Create a histogram of the possession lengths."
   ]
  },
  {
   "cell_type": "code",
   "execution_count": 43,
   "metadata": {},
   "outputs": [
    {
     "data": {
      "text/plain": [
       "(array([690.,   0.,   0., 299.,   0.,   0.,  10.,   0.,   0.,   1.]),\n",
       " array([1. , 1.3, 1.6, 1.9, 2.2, 2.5, 2.8, 3.1, 3.4, 3.7, 4. ]),\n",
       " <BarContainer object of 10 artists>)"
      ]
     },
     "execution_count": 43,
     "metadata": {},
     "output_type": "execute_result"
    },
    {
     "data": {
      "image/png": "[encoded data removed]",
      "text/plain": [
       "<Figure size 432x288 with 1 Axes>"
      ]
     },
     "metadata": {
      "needs_background": "light"
     },
     "output_type": "display_data"
    }
   ],
   "source": [
    "drive ={'drives' : np.array([\"TD\", \"FG\", \"TO\"]), 'probs' : np.array([3/10, 1/6, 16/30])} \n",
    "\n",
    "def sim_overtime_poss():\n",
    "    time=0 #maybe increment this each drive\n",
    "    \n",
    "    #H and T represent a team (winner of coin toss, not literally heads or tails)\n",
    "    \n",
    "    coin = np.array([\"H\", \"T\"])\n",
    "    \n",
    "    ct = np.random.choice(coin)\n",
    "    \n",
    "    numposs = 1\n",
    "    possessions = 0\n",
    "    \n",
    "    fgh = 0\n",
    "    fgt = 0\n",
    "    \n",
    "    #for each possession:\n",
    "        #check if the time has run out?  If not...\n",
    "        #record what happened: TD, FG, or no point\n",
    "        #check if the game is over based on points being scored?\n",
    "        \n",
    "    while time < 10:\n",
    "        time = time + np.random.exponential(scale=2.4, size=None) \n",
    "        if time < 10:\n",
    "            dout = np.random.choice(drive['drives'], p = drive['probs'])\n",
    "            \n",
    "            if ct == \"H\":\n",
    "                if dout == \"TD\":\n",
    "                    winner = ct\n",
    "                    possessions = numposs \n",
    "                    break\n",
    "                elif dout == \"FG\":\n",
    "                    # no one scored a FG yet (MP)\n",
    "                    if (fgh == 0) and (fgt == 0):\n",
    "                        fgh = 1\n",
    "                        numposs+=1\n",
    "                        continue\n",
    "                    # H scores a fg, T already scored a fg (MP)\n",
    "                    elif (fgh == 0) and (fgt == 1):\n",
    "                        fgh = 0\n",
    "                        fgt = 0\n",
    "                        numposs+=1\n",
    "                        continue\n",
    "                    # H already scored, H scores again (W)\n",
    "                    elif (fgh == 1) and (fgt == 0):\n",
    "                        winner = ct\n",
    "                        possessions = numposs\n",
    "                        break\n",
    "                else:\n",
    "                    ct = \"T\"\n",
    "                    continue\n",
    "            else:\n",
    "                if dout == \"TD\":\n",
    "                    winner = ct\n",
    "                    possessions = numposs \n",
    "                    break\n",
    "                elif dout == \"FG\":\n",
    "                    # no one scored a FG yet (MP)\n",
    "                    if (fgh == 0) and (fgt == 0):\n",
    "                        fgt = 1\n",
    "                        numposs+=1\n",
    "                        continue\n",
    "                    # T scores a fg, H already scored a fg (MP)\n",
    "                    elif (fgh == 1) and (fgt == 0):\n",
    "                        fgh = 0\n",
    "                        fgt = 0\n",
    "                        numposs+=1\n",
    "                        continue\n",
    "                    # T already scored, H scores again (W)\n",
    "                    elif (fgh == 0) and (fgt == 1):\n",
    "                        winner = ct\n",
    "                        possessions = numposs\n",
    "                        break\n",
    "                    else:\n",
    "                        ct = \"H\"\n",
    "                        continue\n",
    "                    \n",
    "                        \n",
    "        else:\n",
    "            \n",
    "            if fgh == 1 and fgt == 0:\n",
    "                winner = \"H\"\n",
    "                possessions = numposs\n",
    "                break\n",
    "            elif fgh == 0 and fgt == 1:\n",
    "                winner = \"T\"\n",
    "                possessions = numposs\n",
    "                break\n",
    "            else:\n",
    "                winner = \"TIE\"\n",
    "                possessions = numposs\n",
    "                break\n",
    "                    \n",
    "    return possessions\n",
    "\n",
    "# results = np.array([np.random.exponential(scale=2.4, size=None) for ii in range(1000)])\n",
    "\n",
    "# I wanted the time first to determine how much time a team takes on a drive first,\n",
    "        # then determining the outcome as a result. I felt that determining an outcome then\n",
    "        # calculating a time was not representative of what happens in an actual game,\n",
    "        # so this approach limits my poss quite a bit but in a more realistic way, as in \n",
    "        # actual games you don't really get more than 4 drives during overtime\n",
    "        \n",
    "results = np.array([sim_overtime_poss() for ii in range(1000)])\n",
    "\n",
    "plt.hist(results)"
   ]
  },
  {
   "cell_type": "markdown",
   "metadata": {},
   "source": [
    "**D**: Do the results match your expectation?  If not, why not?  Where are some places this model might improve?  Do you think that the duration of a possession should be independent of whether or not that possession generated points?  Should possessions in overtime follow the same distributions as the average regular-season, non-overtime possessions?"
   ]
  },
  {
   "cell_type": "markdown",
   "metadata": {},
   "source": [
    "First of all, if you are the Kansas City Chiefs and you get heads during overtime you automatically win UNLESS you play the Bengals in the AFC Championchip (THANK GOD THEY GOT SMACKED).\n",
    "\n",
    "On a more serious note,\n",
    "\n",
    "Generally speaking this doesn't feel representative of the actual NFL experience since it only takes into account static general probabilities and is not team to team, home or away advantage (it exists, the Denver Broncos are one of many examples of a location advantage MILE HIGH), clutch factor, personel, injuries, etc. This may give a decent overview given what we are given, but the phrase \"any given Sunday\" still rings true, which makes the game less predicable and more interesting as a result. The duration itself is not well represented in this model, which is my biggest problem. More or less, context is extremely important in order to understand the way that teams win. This model does not count for fumbles, interceptions, safeties, strip sacks, muffed punts/kicks, or any other way a turnover can occur. It is totally possible for a possession to be literally a second (the Broncos' first possession against the Seahawks in the SB was about 0.7 seconds or the time it took for the center to hike that ball over the forehead of Peyton Manning) but the context, position on the field, turnover or not, all play a big factor in win chance. Possessions should not follow the same distributions as during the game, especially in terms of the regular season. The regular season and the playoffs are completely different, arbitrarily following that average makes no sense and shoud not interfere with overtime, which is a completely differet game. For fear of writing an essay, all I will say is that number of possessions should not play a significant role in one team beating other in overtime. That's left for regulation, overtime is special because of how it is formatted, a \"all in\" one shot type of situation. And also, whether or not it is fair isn't up to the NFL, 30 people need to watch Young Sheldon after so the game has to end in a timely manner rather then a fair one "
   ]
  }
 ],
 "metadata": {
  "kernelspec": {
   "display_name": "Python 3",
   "language": "python",
   "name": "python3"
  },
  "language_info": {
   "codemirror_mode": {
    "name": "ipython",
    "version": 3
   },
   "file_extension": ".py",
   "mimetype": "text/x-python",
   "name": "python",
   "nbconvert_exporter": "python",
   "pygments_lexer": "ipython3",
   "version": "3.8.8"
  }
 },
 "nbformat": 4,
 "nbformat_minor": 2
}
