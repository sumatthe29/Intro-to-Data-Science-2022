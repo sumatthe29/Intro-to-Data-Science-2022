{
 "cells": [
  {
   "cell_type": "markdown",
   "metadata": {},
   "source": [
    "<a id='top'></a>\n",
    "\n",
    "# CSCI3022 S22\n",
    "\n",
    "\n",
    "\n",
    "# Homework 3: Stochastic Simulation\n",
    "\n",
    "## Due Monday, February 21 at 11:59 pm to Canvas and Gradescope\n",
    "***\n",
    "\n",
    "**Name**: Matthew Su\n",
    "\n",
    "***\n",
    "\n",
    "Your solutions to computational questions should include any specified Python code and results as well as written commentary on your conclusions.  Remember that you are encouraged to discuss the problems with your classmates, but **you must write all code and solutions on your own**.\n",
    "\n",
    "**NOTES**: \n",
    "\n",
    "- Any relevant data sets should be available on Canvas. To make life easier on the graders if they need to run your code, do not change the relative path names here. Instead, move the files around on your computer.\n",
    "- If you're not familiar with typesetting math directly into Markdown then by all means, do your work on paper first and then typeset it later.  Here is a [reference guide](https://math.meta.stackexchange.com/questions/5020/mathjax-basic-tutorial-and-quick-reference) linked on Canvas on writing math in Markdown. **All** of your written commentary, justifications and mathematical work should be in Markdown.  I also recommend the [wikibook](https://en.wikibooks.org/wiki/LaTeX) for LaTex.\n",
    "- Because you can technically evaluate notebook cells is a non-linear order, it's a good idea to do **Kernel $\\rightarrow$ Restart & Run All** as a check before submitting your solutions.  That way if we need to run your code you will know that it will work as expected. \n",
    "- It is **bad form** to make your reader interpret numerical output from your code.  If a question asks you to compute some value from the data you should show your code output **AND** write a summary of the results in Markdown directly below your code. \n",
    "- 45 points of this assignment are in problems.  The remaining 5 are for neatness, style, and overall exposition of both code and text.\n",
    "- This probably goes without saying, but... For any question that asks you to calculate something, you **must show all work and justify your answers to receive credit**. Sparse or nonexistent work will receive sparse or nonexistent credit. \n",
    "- There is *not a prescribed API* for these problems.  You may answer coding questions with whatever syntax or object typing you deem fit.  Your evaluation will primarily live in the clarity of how well you present your final results, so don't skip over any interpretations!  Your code should still be commented and readable to ensure you followed the given course algorithm.\n",
    "- There are two ways to quickly make a .pdf out of this notebook for Gradescope submission.  Either:\n",
    " - Use File -> Download as PDF via LaTeX.  This will require your system path find a working install of a TeX compiler\n",
    " - Easier: Use File ->  Print Preview, and then Right-Click -> Print using your default browser and \"Print to PDF\"\n",
    "\n"
   ]
  },
  {
   "cell_type": "code",
   "execution_count": 1,
   "metadata": {},
   "outputs": [],
   "source": [
    "import numpy as np\n",
    "import pandas as pd\n",
    "import matplotlib.pylab as plt\n",
    "import scipy.stats as stats\n",
    "%matplotlib inline"
   ]
  },
  {
   "cell_type": "markdown",
   "metadata": {},
   "source": [
    "\n",
    "---\n",
    "**Shortcuts:**  [Problem 1](#p1) | [Problem 2](#p2) | [Problem 3](#p3) |\n",
    "---\n"
   ]
  },
  {
   "cell_type": "markdown",
   "metadata": {},
   "source": [
    "***\n",
    "<a/ id='p1'></a>\n",
    "[Back to top](#top)\n",
    "## (15 pts) Problem 1: It's a duel!\n",
    "***\n",
    "\n",
    "Brennan and Dale are back to their competitions.  They've discovered a new sport: Baseball!  But it's hard to play with only 2 of them, so they instead have a simplifed variant of a game with the following properties:\n",
    "\n",
    "- Dale gets one attempt to hit a pitch thrown by Brennan.  He succeeds with with probability $p$.\n",
    "- Brennan gets one attempt to hit a pitch thrown by Dale.  He succeeds with with probability $q$.\n",
    "- If one of them succeeded and the other didn't, the one that succeeded is the winner!\n",
    "- If neither succeeded **OR** neither failed, the game continues from the start.\n",
    "\n",
    "(NB: this is similar to e.g. [Horse](https://en.wikipedia.org/wiki/NBA_All-Star_Weekend_H%E2%80%93O%E2%80%93R%E2%80%93S%E2%80%93E_Competition) in basketball)\n",
    "\n",
    "Denote the following:\n",
    "- D is the event that Dale wins the game at the end.\n",
    "- B is the event that Brennan wins the game at the end.\n",
    "- E is the event that the game ends in the first round.\n",
    "- C is the event that the game continues to additional rounds.\n",
    "\n"
   ]
  },
  {
   "cell_type": "markdown",
   "metadata": {},
   "source": [
    "**A**: The duel will continue until Dale or Brennan wins.  What is the sample space $\\Omega$ for this \"experiment\"?  Represent the outcomes of individual pitches by $H$ for a successful hit and $W$ for a failure (whiff). Assume that Dale has the first attempt to hit in each round. At the very least, your answer should include all of the events in $\\Omega$ that include one or two rounds."
   ]
  },
  {
   "cell_type": "markdown",
   "metadata": {},
   "source": [
    "Essentially it will take at minimum 1 round to determine a winner. \n",
    "\n",
    "This can happen as:\n",
    "\n",
    "- \"DH and BW\" or \"DW and BH\"\n",
    "\n",
    "Ties occur when:\n",
    "\n",
    "- \"DH and BH\" or \"DW and BW\"\n",
    "\n",
    "When a tie occurs, another round is required to see if anyone wins again.\n",
    "\n",
    "At this point then, a win/loss looks like:\n",
    "\n",
    "- \"DH and BH\" followed by \"DH and BW\"\n",
    "\n",
    "- \"DH and BH\" followed by \"DW and BH\"\n",
    "\n",
    "- \"DW and BW\" followed by \"DH and BH\"\n",
    "\n",
    "- \"DW and BW\" followed by \"DW and BH\"\n",
    "\n",
    "This continues round to round until someone wins.\n",
    "\n",
    "Overall for a 2 round limit it looks as follows:\n",
    "\n",
    "- \"DH and BW\"\n",
    "- \"DW and BH\"\n",
    "- \"DH and BH\"\n",
    "- \"DW and BW\"\n",
    "- \"DH and BH\" followed by \"DH and BW\"\n",
    "\n",
    "- \"DH and BH\" followed by \"DW and BH\"\n",
    "\n",
    "- \"DW and BW\" followed by \"DH and BH\"\n",
    "\n",
    "- \"DW and BW\" followed by \"DW and BH\""
   ]
  },
  {
   "cell_type": "markdown",
   "metadata": {},
   "source": [
    "**B:** Determine $P(D \\mid E)$ in terms of $p$ and $q$."
   ]
  },
  {
   "cell_type": "markdown",
   "metadata": {},
   "source": [
    "We are aware that D (the event that Dale wins the game) is the same as his success probability of hitting the pitch first and the probability that Brennan fails. For Brennan, it's the opposite (his success probability and the probability that Dale fails).\n",
    "\n",
    "This can be represented as:\n",
    "\n",
    "$$D = p * (1-q) $$  <br>\n",
    "\n",
    "or the \"probability of individual success and the probability of compatriot failure\"\n",
    "<br> \n",
    "\n",
    "$$E = P(D\\mid B)$$\n",
    "\n",
    "E is the same as the probability that D or B wins as a result of their hit and the other one whiffing (ie the non tie situations mentioned in A versus the tie situations)\n",
    "\n",
    "\n",
    "\n",
    "$$\n",
    "P(D \\mid E) = \\dfrac{P(D \\cap E)}{P(E)}\n",
    "$$\n",
    "\n",
    "$$\n",
    "P(D \\mid E) = \\dfrac{P(D) * P(D\\mid B)}{P(D\\mid B)}\n",
    "$$\n",
    "\n",
    "$$\n",
    "P(D \\mid E) = p * (1-q)\n",
    "$$\n",
    "\n"
   ]
  },
  {
   "cell_type": "markdown",
   "metadata": {},
   "source": [
    "**C**: Explain why events $C$ and $D$ are independent (words/intuition are fine!)"
   ]
  },
  {
   "cell_type": "markdown",
   "metadata": {},
   "source": [
    "The event that the game requires one more round (C) does not depend on Dale winning (D), but rather Dale winning AND Brennen losing. P(C) represents the scenerio where D and B either both hit the ball or both whiff."
   ]
  },
  {
   "cell_type": "markdown",
   "metadata": {},
   "source": [
    "**D**: Use the Law of Total Probability to show that $P(D) = p(1-q) + (2pq - p - q +1) P(D \\mid C)$."
   ]
  },
  {
   "cell_type": "markdown",
   "metadata": {},
   "source": [
    "$$P(D) = P(D \\mid C) * P(C) + P(D \\mid C) * P(C)$$\n",
    "\n",
    "$P(C)$ is representative of the probability of either all hits or all whiffs:\n",
    "\n",
    "$$P(AW \\mid AH) = (1-q)(1-p) + pq = (2pq-p-q+1)$$\n",
    "\n",
    "$$P(D) = P(D \\mid C) * P(C) + P(D \\mid C) * P(C)$$\n"
   ]
  },
  {
   "cell_type": "markdown",
   "metadata": {},
   "source": [
    "**E**: Use the fact from **Part C** that $P(D \\mid C) = P(D)$ to determine $P(D)$ in terms of $p$ and $q$. "
   ]
  },
  {
   "cell_type": "markdown",
   "metadata": {},
   "source": [
    "$$P(D) = P(p * (1-q))$$"
   ]
  },
  {
   "cell_type": "markdown",
   "metadata": {},
   "source": [
    "**Part F (2 Points)**: Explain why the answers to **Part B** and **Part E** are the same. "
   ]
  },
  {
   "cell_type": "markdown",
   "metadata": {},
   "source": [
    "The relationship between $P(D \\mid E)$ and $P(D \\mid C)$ is that the probability of either a 1st round exit or a continuation of rounds is directly dependent on the win probability of either D or B (which are interdependent on each other). Trying to find the probability of either event moving on or a one round exit isn't possible with just D's win probability since D winning does not incur either event without B losing. The odds of a win situation versus a tie/whiff situation are the same between E and C, but are not accounted for in $P(D \\mid E)$ nor $P(D \\mid C)$ since they only look at D's chance of winning, which is same round to round regardless of E or C."
   ]
  },
  {
   "cell_type": "markdown",
   "metadata": {},
   "source": [
    "[Back to top](#top)\n",
    "\n",
    "<a id='p2'></a>\n",
    "\n",
    "## (15 pts) Problem 2 (Simulation): Poker and games\n",
    "***\n",
    "\n",
    "One of the big payoffs of simulation is that it can let us answer some probability questions that are otherwise quite difficult.  We can instead just simulate the process and get approximate results based on simulation.\n",
    "\n",
    "\n",
    "A common example for discrete counting and probability questions are poker hands.  Consider using a standard 52-card playing deck, with card faces `[A,2,3,4,5,6,7,8,9,10,J,Q,K]` across the standard 4 suits: `[C,D,H,S]`.\n",
    "\n",
    "Suppose we draw 5 cards at random from the deck.\n",
    "\n",
    "**A:** What is the exact probability that we have \"three of a kind:\" a hand with 3 copies of one card face type (of any suits) and the other two cards not matching either that face or each other. Typeset your work below.  You may leave your answer in terms of a ratio of products, but you should simplify away any combinatoric notation such as ${n \\choose k}$ or $P(n,k)$.\n"
   ]
  },
  {
   "cell_type": "markdown",
   "metadata": {},
   "source": []
  },
  {
   "cell_type": "markdown",
   "metadata": {},
   "source": [
    "**B:**\n",
    "Poker with computers!\n",
    "\n",
    "Write a simulation that draws a hand of 5 cards from a standard 52-card deck. Repeat this simulation 10000 times, and report how many \"three of a kind\" hands were observed. Verify that the result is consistent with your answer to part A.\n",
    "\n",
    "NB: The function `np.unique` can make checking hands easier.  Your actual simulation should have 52 distinct cards, even if we're only using the faces (and not suits) for the check of the final hand."
   ]
  },
  {
   "cell_type": "code",
   "execution_count": null,
   "metadata": {},
   "outputs": [],
   "source": []
  },
  {
   "cell_type": "markdown",
   "metadata": {},
   "source": [
    "[Back to top](#top)\n",
    "\n",
    "<a id='p3'></a>\n",
    "\n",
    "## (15 pts) Problem 3 (Simulation): Is it fair?\n",
    "***\n",
    "\n",
    "Hopefully you enjoyed the Super Bowl, which (again) this year tragically did not involve the Detroit Lions.  One narrative that is often discussed in the NFL playoffs is whether or not overtime - the way games tied after 4 quarters are handled -  is *fair*.  The general rules of an NFL overtime are as follows:\n",
    "\n",
    "- The teams alternate who gets the ball to try to score.  The team that wins the coin toss gets to try first.\n",
    "- The game is over whenever a team scores, and that team is the winner.  There are two exceptions to this rule, listed in the next bullet point.\n",
    "- If the first team (Team 0) scores a \"Field Goal,\" the other team has a chance to get the ball.  In this case, if the other team (Team 1) scores a \"Touchdown\" they win, if Team 1 scores a \"Field Goal,\" the game continues but reverts to next-score-wins, and if Team 1 failes to score they lose.\n",
    "- The game ends at a tie (in the regular season) if neither team scores at all within 10 minutes.  The game is also a tie if they each scored Field Goals in their first drives and then no scores followed in an overall duration of 10 minutes.  It's also possible for Team 0 to win by scoring a Field Goal and having the clock run out during Team 1's subsequent drive.\n",
    "\n",
    "We're going to *simulate* NFL overtimes to determine whether or not they're fair!  Note that in theory this **should** be a similar to problem 1: if $p=q=.5$ in the dueling problem, you should be able to quickly compute that both Dale and Brennan would be equally likely to win.  But the NFL rules are a little different, and not every scenario involves both teams getting an equal number of chances...\n",
    "\n",
    "To simulate NFL overtimes, we're going to simulate **drives** of each team.  These is the outcomes of each of their turns to have the ball.  In particular, we'll assume each and every drive follows the (simplified) probabilities given by the approximate NFL average for drives:\n",
    "\n",
    "- A drive has 30% chance to end in a Touchdown.\n",
    "- A drive has 1/6 chance to end in a Field Goal.\n",
    "- All other drives end in no points and the other team getting the ball.\n",
    "- The **duration** of drives is an exponential random variable with average length of 2.4 minutes (`scale=2.4`) .\n",
    "\n",
    "\n",
    "**Implementation Comments**:\n",
    "\n",
    "-- You'll probably want various if-then statements to describe what happens if the time runs out\n",
    "\n",
    "-- Make sure your function returns either the total number of possessions or the possessions themselves, since you'll be asked about them!\n",
    "\n",
    "-- If the rules are at all confusing, they're in slightly more depth [here](https://operations.nfl.com/the-rules/nfl-overtime-rules/)"
   ]
  },
  {
   "cell_type": "code",
   "execution_count": 2,
   "metadata": {},
   "outputs": [],
   "source": [
    "def sim_overtime():\n",
    "    time=0 #maybe increment this each drive\n",
    "    \n",
    "    #for each possession:\n",
    "        #check if the time has run out?  If not...\n",
    "        #record what happened: TD, FG, or no point\n",
    "        #check if the game is over based on points being scored?\n",
    "\n",
    "        \n",
    "    return winner, possessions "
   ]
  },
  {
   "cell_type": "code",
   "execution_count": null,
   "metadata": {},
   "outputs": [],
   "source": []
  },
  {
   "cell_type": "markdown",
   "metadata": {},
   "source": [
    "**B**:  Run your function in Part **A** at least 1000 times.  Make sure to save (in one or more objects) both the win/lose/tie status of the game and the number of possessions.  \n",
    "\n",
    "Then report simulated/estimated probabilities for Team 1 winning, Team 2 winning, or a tie.\n",
    "\n"
   ]
  },
  {
   "cell_type": "code",
   "execution_count": null,
   "metadata": {},
   "outputs": [],
   "source": []
  },
  {
   "cell_type": "markdown",
   "metadata": {},
   "source": [
    "**C**: Create a histogram of the possession lengths."
   ]
  },
  {
   "cell_type": "code",
   "execution_count": null,
   "metadata": {},
   "outputs": [],
   "source": []
  },
  {
   "cell_type": "markdown",
   "metadata": {},
   "source": [
    "**D**: Do the results match your expectation?  If not, why not?  Where are some places this model might improve?  Do you think that the duration of a possession should be independent of whether or not that possession generated points?  Should possessions in overtime follow the same distributions as the average regular-season, non-overtime possessions?"
   ]
  },
  {
   "cell_type": "markdown",
   "metadata": {},
   "source": []
  }
 ],
 "metadata": {
  "kernelspec": {
   "display_name": "Python 3",
   "language": "python",
   "name": "python3"
  },
  "language_info": {
   "codemirror_mode": {
    "name": "ipython",
    "version": 3
   },
   "file_extension": ".py",
   "mimetype": "text/x-python",
   "name": "python",
   "nbconvert_exporter": "python",
   "pygments_lexer": "ipython3",
   "version": "3.8.8"
  }
 },
 "nbformat": 4,
 "nbformat_minor": 2
}
