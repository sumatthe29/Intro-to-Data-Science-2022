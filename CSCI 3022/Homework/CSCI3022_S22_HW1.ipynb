{
 "cells": [
  {
   "cell_type": "markdown",
   "metadata": {},
   "source": [
    "<a id='top'></a>\n",
    "\n",
    "# CSCI3022 S22\n",
    "\n",
    "\n",
    "\n",
    "# Homework 1: Measures of Centrality and Dispersion, Slicing Data\n",
    "\n",
    "## Due Friday, January 28 at 11:59 pm to Canvas and Gradescope\n",
    "***\n",
    "\n",
    "**Name**: Matthew Su\n",
    "***\n",
    "\n",
    "Your solutions to computational questions should include any specified Python code and results as well as written commentary on your conclusions.  Remember that you are encouraged to discuss the problems with your classmates, but **you must write all code and solutions on your own**.\n",
    "\n",
    "**NOTES**: \n",
    "\n",
    "- Any relevant data sets should be available on Canvas. To make life easier on the graders if they need to run your code, do not change the relative path names here. Instead, move the files around on your computer.\n",
    "- If you're not familiar with typesetting math directly into Markdown then by all means, do your work on paper first and then typeset it later.  Here is a [reference guide](https://math.meta.stackexchange.com/questions/5020/mathjax-basic-tutorial-and-quick-reference) linked on Canvas on writing math in Markdown. **All** of your written commentary, justifications and mathematical work should be in Markdown.  I also recommend the [wikibook](https://en.wikibooks.org/wiki/LaTeX) for LaTex.\n",
    "- Because you can technically evaluate notebook cells is a non-linear order, it's a good idea to do **Kernel $\\rightarrow$ Restart & Run All** as a check before submitting your solutions.  That way if we need to run your code you will know that it will work as expected. \n",
    "- It is **bad form** to make your reader interpret numerical output from your code.  If a question asks you to compute some value from the data you should show your code output **AND** write a summary of the results in Markdown directly below your code. \n",
    "- 45 points of this assignment are in problems.  The remaining 5 are for neatness, style, and overall exposition of both code and text.\n",
    "- This probably goes without saying, but... For any question that asks you to calculate something, you **must show all work and justify your answers to receive credit**. Sparse or nonexistent work will receive sparse or nonexistent credit. \n",
    "- There is *not a prescribed API* for these problems.  You may answer coding questions with whatever syntax or object typing you deem fit.  Your evaluation will primarily live in the clarity of how well you present your final results, so don't skip over any interpretations!  Your code should still be commented and readable to ensure you followed the given course algorithm.\n",
    "- There are two ways to quickly make a .pdf out of this notebook for Gradescope submission.  Either:\n",
    " - Use File -> Download as PDF via LaTeX.  This will require your system path find a working install of a TeX compiler\n",
    " - Easier: Use File ->  Print Preview, and then Right-Click -> Print using your default browser and \"Print to PDF\"\n",
    "\n"
   ]
  },
  {
   "cell_type": "code",
   "execution_count": 1,
   "metadata": {},
   "outputs": [],
   "source": [
    "import numpy as np\n",
    "import pandas as pd\n",
    "import matplotlib.pylab as plt\n",
    "%matplotlib inline\n"
   ]
  },
  {
   "cell_type": "markdown",
   "metadata": {},
   "source": [
    "\n",
    "## (5 pts) Problem 1: Sampling\n",
    "***\n",
    "\n",
    "Suppose we wish to create a data set where CU polls current undergraduate students regarding their satisfaction with the decision to start the Spring 2022 semester the week before MLK day as a fully-remote start.\n",
    "\n",
    "The Registrar's office contains a list of all currently enrolled students.  They provide this list, with e-mail addresses, to the office of Data Analytics, who consider the following 3 ways to poll:\n",
    "\n",
    "- A) Send an e-mail to each and every current CU student on the list\n",
    "- B) For each department at CU, randomly choose 10% of their declared majors and send them an e-mail\n",
    "- C) Sort the list by the students' Student ID numbers, then send e-mails to exactly 10% of the list by sending it to the 4th, 14th, 24th, 34th, etc. students in the order of the sorted list.\n",
    "\n",
    "What kinds of samples are *A, B*, and *C*?  Use the definitions from class.  Provide a 1-setence justification or definition for each type as part of your answer."
   ]
  },
  {
   "cell_type": "markdown",
   "metadata": {},
   "source": [
    "A. When you send an email to each and every CU student on the list, you are generating a Census Sample as it incompasses everything in the population.\n",
    "\n",
    "B. By sorting based on department and randomlly selecting based on declared major, this is taking a Stratified Sample.\n",
    "\n",
    "C. By ordering and choosing based on some kth unit, you are generating a Systematic Sample"
   ]
  },
  {
   "cell_type": "markdown",
   "metadata": {},
   "source": [
    "\n",
    "## (20 pts) Problem 2: Computation (Streaming Means)\n",
    "***\n",
    "\n",
    "Data science is often divided into two categories: questions of *what* the best value might be to repreesnt a data problem, and questions of *how* to compute that data value.  Question 1 - and prior lectures - should tell you that computing the mean is valuable!  But *how* do we compute the mean?\n",
    "\n",
    "Let $x_1, x_2, \\ldots, x_n$ be $n$ observations of a variable of interest.  Recall that the sample mean $\\bar{x}_n$ and sample variance $s^2_n$ are given by \n",
    "<a id='eq1'></a>\n",
    "$$\n",
    "\\bar{x}_n = \\frac{1}{n}\\sum_{k=1}^n x_k \\quad \\textrm{and} \\quad s^2_n = \\frac{1}{n-1}\\sum_{k=1}^n \\left( x_k - \\bar{x}_n\\right)^2 \\qquad \\tag{Equation 1}\n",
    "$$"
   ]
  },
  {
   "cell_type": "markdown",
   "metadata": {},
   "source": [
    "**Part A**:\n",
    "\n",
    "How many computations - floating point operations: addition, subtraction, multiplication, division each count as 1 operation - are required to compute the mean of the data set with $n$ observations?\n"
   ]
  },
  {
   "cell_type": "markdown",
   "metadata": {},
   "source": [
    "(n-1)+1 || n computations, as you are counting the summation actions of addition as \"n\" minus one operation plus the additional division post summation\n"
   ]
  },
  {
   "cell_type": "markdown",
   "metadata": {},
   "source": [
    "**Part B**:\n",
    "\n",
    "Now suppose our data is *streaming*- we slowly add observations one at a time, instead of seeing the entire data set at once.  We are still interested in the mean, so if we stream the data set `[4,6,0,10, ...]`, we first compute the mean of the the first data point `[4]`, then we recompute the mean of the first two points `[4,6]`, then we recompute the mean of three `[4,6,0]`, and so forth.\n",
    "\n",
    "Suppose we recompute the mean from scratch after each and every one of our $n$ observations are one-by-one added to our data set.  How many floating point operations are spent computing (and re-computing) the mean of the data set?"
   ]
  },
  {
   "cell_type": "markdown",
   "metadata": {},
   "source": [
    "2n-2 Computations, as the only thing that changes is that the number of division operations occurs n amount of time.  "
   ]
  },
  {
   "cell_type": "markdown",
   "metadata": {},
   "source": [
    "We should be convinced that streaming a mean costs a lot more computer time than just computing once!\n",
    "\n",
    "In this problem we explore a smarter method for such an _online_ computation of the mean.  \n",
    "\n",
    "**Result**: The following relation holds between the mean of the first $n-1$ observations and the mean of all $n$ observations: \n",
    "\n",
    "$$\n",
    "\\bar{x}_n = \\bar{x}_{n-1} + \\frac{x_n - \\bar{x}_{n-1}}{n}\n",
    "$$\n",
    "\n",
    "\n",
    "A proof of this result is in the [Appendix](#Appendix) after this problem, and requires some careful manipulations of the sum $\\bar{x}_n$.  Your task will be to computationally verify and utilize this result.\n",
    "\n",
    "**Part C**: Write a function `my_sample_mean` that takes as its input a numpy array and returns the mean of that numpy array using the formulas from class ([Equation 1](#eq1)). Write another function `my_sample_var` that takes as its input a numpy array and returns the variance of that numpy array, again using the formulas from class ([Equation 1](#eq1)). You may **not** use any built-in sample mean or variance functions."
   ]
  },
  {
   "cell_type": "code",
   "execution_count": 2,
   "metadata": {},
   "outputs": [],
   "source": [
    "def my_sample_mean(nparray):\n",
    "    return sum(nparray)/len(nparray)\n",
    "def my_sample_var(nparray):\n",
    "    dev = [(i-my_sample_mean(nparray))**2 for i in nparray]\n",
    "    return sum(dev)/(len(nparray)-1)\n",
    "    "
   ]
  },
  {
   "cell_type": "markdown",
   "metadata": {},
   "source": [
    "**Part D**: Use your functions from Part C to compute the sample mean and sample variance of the following array, which contains the minutes late that the BuffBus is running on Friday afternoon.\n",
    "\n",
    "`bus = [4, 10, 0, 312, 22, 39, 81, 19, 8, 60, 1,3,80, 42,12,1]`"
   ]
  },
  {
   "cell_type": "code",
   "execution_count": 3,
   "metadata": {},
   "outputs": [
    {
     "name": "stdout",
     "output_type": "stream",
     "text": [
      "Sample mean is:  43.375 ; sample variance is:  5884.516666666666\n"
     ]
    }
   ],
   "source": [
    "bus = [4, 10, 0, 312, 22, 39, 81, 19, 8, 60, 1,3,80, 42,12,1]\n",
    "mean = my_sample_mean(bus)\n",
    "var = my_sample_var(bus)\n",
    "print(\"Sample mean is: \", mean,\"; sample variance is: \", var)"
   ]
  },
  {
   "cell_type": "markdown",
   "metadata": {},
   "source": [
    "**Part E**: Implement a third function called `update_mean` that implements the formula discussed as the **Result**  after part B. Note that this function will need to take as its input three things: $x_n$, $\\bar{x}_{n-1}$ and $n$, and returns $\\bar{x}_{n}$. A function header and return statement are provided for you. This function may be auto-graded, so please do not change the given header API - the order of inputs matters! If you change it, you might lose points.\n",
    "\n",
    "Use this function to compute the values that you get from taking the mean of the first buff buses' lateness, the first two buff buses' lateness, the first three buff buses' lateness, and so on up to all of the `bus` data points from **Part D**. Store your streaming bus means in a numpy array called `buffbus_bad_means`.  Report all 16 estimates in `buffbus_bad_means`."
   ]
  },
  {
   "cell_type": "code",
   "execution_count": 4,
   "metadata": {},
   "outputs": [],
   "source": [
    "# Given API:\n",
    "def update_mean(prev_mean, xn, n):\n",
    "    new_mean = ((prev_mean*(n-1))+xn)/n\n",
    "    return new_mean\n"
   ]
  },
  {
   "cell_type": "markdown",
   "metadata": {},
   "source": [
    "To ensure your function complies with the given API, run this small test, where we suppose we have a mean of $\\bar{x}_n = 1$ with the first $2$ data points (`prev_mean`), and we update this with the 3rd ($n=3$) data point which is $x_3=2$:"
   ]
  },
  {
   "cell_type": "code",
   "execution_count": 5,
   "metadata": {},
   "outputs": [],
   "source": [
    "assert update_mean(1,2,3)==4/3, \"Warning: function seems broken.\""
   ]
  },
  {
   "cell_type": "markdown",
   "metadata": {},
   "source": [
    "**Part F**:\n",
    "\n",
    "How many floating point operations were spent computing the final result in your code in part E?  Is this truly better than the uninformed approach from part B?"
   ]
  },
  {
   "cell_type": "markdown",
   "metadata": {},
   "source": [
    "Counting operations, only 3 (*,+,/). It was an imporvement over part B with this python implementation."
   ]
  },
  {
   "cell_type": "markdown",
   "metadata": {},
   "source": [
    "**Part G:**\n",
    "A similar result to the formula preceding part C holds for variance.  In particular, we can write that:\n",
    "\n",
    "$$\n",
    "\\displaystyle s^2 = \\frac{\\sum_{i=1}^n (x_i-\\bar{x})^2}{n-1} = \\frac{1}{n(n-1)} \\left(n \\cdot \\sum_{i=1}^n x_i^2 - \\left(\\sum_{i=1}^n x_i \\right)^2 \\right)\n",
    "$$\n",
    "\n",
    "Describe in **words** and/or **psuedocode** how you might adapt the function you made in part **E** to perform running calculations of both variance and mean.  Be very clear as to what the input/instantiation arguments would be as well as what the output arguments would be in addition to any intermediate calculations."
   ]
  },
  {
   "cell_type": "markdown",
   "metadata": {},
   "source": [
    "Generally I would probably pass inputs of n and xi and utilize a helper function to generate values for the summation portions of the equation. Then the arthmatic parts can be calculated seperated for easy of troubleshooting and formatted to fit the pemdas operation order of the equation pushing out a varaince response.  "
   ]
  },
  {
   "cell_type": "markdown",
   "metadata": {},
   "source": [
    "<a id='Appendix'></a>\n",
    "\n",
    "## Appendix \n",
    "\n",
    "*Goal*: Prove that \n",
    "$$\n",
    "\\bar{x}_n = \\bar{x}_{n-1} + \\frac{x_n - \\bar{x}_{n-1}}{n}\n",
    "$$\n",
    "\n",
    "Note that you can get an expression for $\\bar{x}_{n-1}$ by simply replacing $n$ in Equation 1 above with $n-1$.\n",
    "\n",
    "We'll start with $\\bar{x}_n$ and massage it until we get the righthand side of the formula\n",
    "\n",
    "\\begin{eqnarray}\n",
    "\\nonumber \\bar{x}_n &=& \\frac{1}{n} \\sum_{k=1}^n x_k \\\\\n",
    "&=& \\frac{1}{n} \\sum_{k=1}^{n-1} x_k + \\frac{1}{n}x_n \\\\\n",
    "&=& \\frac{n-1}{n-1}\\frac{1}{n} \\sum_{k=1}^{n-1} x_k + \\frac{1}{n}x_n \\\\\n",
    "&=& \\frac{n-1}{n} \\left(\\frac{1}{n-1} \\sum_{k=1}^{n-1} x_k\\right) + \\frac{1}{n}x_n \\\\\n",
    "&=& \\frac{n-1}{n} \\bar{x}_{n-1} + \\frac{1}{n}x_n \\\\\n",
    "&=& \\frac{n}{n}\\bar{x}_{n-1} - \\frac{1}{n}\\bar{x}_{n-1} + \\frac{1}{n}x_n \\\\\n",
    "&=&  \\bar{x}_{n-1} + \\frac{x_n - \\bar{x}_{n-1}}{n} \\quad \\checkmark\n",
    "\\end{eqnarray}\n",
    "\n"
   ]
  },
  {
   "cell_type": "markdown",
   "metadata": {},
   "source": [
    "[Back to top](#top)\n",
    "<a id='p3'></a>\n",
    "\n",
    "## (20 pts) Problem 3: Practice (Titanic)\n",
    "*** \n",
    "The sinking of the RMS Titanic was a terrible tragedy that saw the loss of many lives. Even within this tragedy, thanks to the combinations of the records of the White Star Line and the thorough nature of follow-up research after the accident we have some records that can help us try to piece together the course of events on board the ship. Many of the historians and other researchers who have investigated this event have speculated as to what exactly happened.\n",
    "\n",
    "We have the data on survival rates by class, gender, and age, so let's figure out whether there is evidence for some of these scenarios. Access the Titanic data in `titanic_data.csv` and store it in a Pandas DataFrame. The data contains information pertaining to class status (**Pclass**), survival (**Survived**), and gender (**Sex**) of passengers, among other things. Be sure to use the `titanic_data.csv` data set, *not* the `clean_titanic_data` file or `dirty_titanic_data` file from the in-class notebook exercises."
   ]
  },
  {
   "cell_type": "code",
   "execution_count": 6,
   "metadata": {},
   "outputs": [
    {
     "name": "stdout",
     "output_type": "stream",
     "text": [
      "(891, 12)\n"
     ]
    },
    {
     "data": {
      "text/html": [
       "<div>\n",
       "<style scoped>\n",
       "    .dataframe tbody tr th:only-of-type {\n",
       "        vertical-align: middle;\n",
       "    }\n",
       "\n",
       "    .dataframe tbody tr th {\n",
       "        vertical-align: top;\n",
       "    }\n",
       "\n",
       "    .dataframe thead th {\n",
       "        text-align: right;\n",
       "    }\n",
       "</style>\n",
       "<table border=\"1\" class=\"dataframe\">\n",
       "  <thead>\n",
       "    <tr style=\"text-align: right;\">\n",
       "      <th></th>\n",
       "      <th>PassengerId</th>\n",
       "      <th>Survived</th>\n",
       "      <th>Pclass</th>\n",
       "      <th>Name</th>\n",
       "      <th>Sex</th>\n",
       "      <th>Age</th>\n",
       "      <th>SibSp</th>\n",
       "      <th>Parch</th>\n",
       "      <th>Ticket</th>\n",
       "      <th>Fare</th>\n",
       "      <th>Cabin</th>\n",
       "      <th>Embarked</th>\n",
       "    </tr>\n",
       "  </thead>\n",
       "  <tbody>\n",
       "    <tr>\n",
       "      <th>0</th>\n",
       "      <td>1</td>\n",
       "      <td>0</td>\n",
       "      <td>3</td>\n",
       "      <td>Braund, Mr. Owen Harris</td>\n",
       "      <td>male</td>\n",
       "      <td>36.0</td>\n",
       "      <td>1</td>\n",
       "      <td>0</td>\n",
       "      <td>A/5 21171</td>\n",
       "      <td>7.2500</td>\n",
       "      <td>NaN</td>\n",
       "      <td>S</td>\n",
       "    </tr>\n",
       "    <tr>\n",
       "      <th>1</th>\n",
       "      <td>2</td>\n",
       "      <td>1</td>\n",
       "      <td>1</td>\n",
       "      <td>Cumings, Mrs. John Bradley (Florence Briggs Th...</td>\n",
       "      <td>female</td>\n",
       "      <td>18.0</td>\n",
       "      <td>1</td>\n",
       "      <td>0</td>\n",
       "      <td>PC 17599</td>\n",
       "      <td>71.2833</td>\n",
       "      <td>C85</td>\n",
       "      <td>C</td>\n",
       "    </tr>\n",
       "    <tr>\n",
       "      <th>2</th>\n",
       "      <td>3</td>\n",
       "      <td>1</td>\n",
       "      <td>3</td>\n",
       "      <td>Heikkinen, Miss. Laina</td>\n",
       "      <td>female</td>\n",
       "      <td>14.0</td>\n",
       "      <td>0</td>\n",
       "      <td>0</td>\n",
       "      <td>STON/O2. 3101282</td>\n",
       "      <td>7.9250</td>\n",
       "      <td>NaN</td>\n",
       "      <td>S</td>\n",
       "    </tr>\n",
       "    <tr>\n",
       "      <th>3</th>\n",
       "      <td>4</td>\n",
       "      <td>1</td>\n",
       "      <td>1</td>\n",
       "      <td>Futrelle, Mrs. Jacques Heath (Lily May Peel)</td>\n",
       "      <td>female</td>\n",
       "      <td>27.0</td>\n",
       "      <td>1</td>\n",
       "      <td>0</td>\n",
       "      <td>113803</td>\n",
       "      <td>53.1000</td>\n",
       "      <td>C123</td>\n",
       "      <td>S</td>\n",
       "    </tr>\n",
       "    <tr>\n",
       "      <th>4</th>\n",
       "      <td>5</td>\n",
       "      <td>0</td>\n",
       "      <td>3</td>\n",
       "      <td>Allen, Mr. William Henry</td>\n",
       "      <td>male</td>\n",
       "      <td>63.0</td>\n",
       "      <td>0</td>\n",
       "      <td>0</td>\n",
       "      <td>373450</td>\n",
       "      <td>8.0500</td>\n",
       "      <td>NaN</td>\n",
       "      <td>S</td>\n",
       "    </tr>\n",
       "  </tbody>\n",
       "</table>\n",
       "</div>"
      ],
      "text/plain": [
       "   PassengerId  Survived  Pclass  \\\n",
       "0            1         0       3   \n",
       "1            2         1       1   \n",
       "2            3         1       3   \n",
       "3            4         1       1   \n",
       "4            5         0       3   \n",
       "\n",
       "                                                Name     Sex   Age  SibSp  \\\n",
       "0                            Braund, Mr. Owen Harris    male  36.0      1   \n",
       "1  Cumings, Mrs. John Bradley (Florence Briggs Th...  female  18.0      1   \n",
       "2                             Heikkinen, Miss. Laina  female  14.0      0   \n",
       "3       Futrelle, Mrs. Jacques Heath (Lily May Peel)  female  27.0      1   \n",
       "4                           Allen, Mr. William Henry    male  63.0      0   \n",
       "\n",
       "   Parch            Ticket     Fare Cabin Embarked  \n",
       "0      0         A/5 21171   7.2500   NaN        S  \n",
       "1      0          PC 17599  71.2833   C85        C  \n",
       "2      0  STON/O2. 3101282   7.9250   NaN        S  \n",
       "3      0            113803  53.1000  C123        S  \n",
       "4      0            373450   8.0500   NaN        S  "
      ]
     },
     "execution_count": 6,
     "metadata": {},
     "output_type": "execute_result"
    }
   ],
   "source": [
    "filepath = '../data/titanic_data.csv'\n",
    "df = pd.read_csv(filepath)\n",
    "print(df.shape)\n",
    "df.head()\n"
   ]
  },
  {
   "cell_type": "markdown",
   "metadata": {},
   "source": [
    "**Part A**:\n",
    "Based on the overall population of passengers, report the proportion that survived.\n",
    "\n",
    "$$P(Survived=1)$$"
   ]
  },
  {
   "cell_type": "code",
   "execution_count": 7,
   "metadata": {},
   "outputs": [
    {
     "name": "stdout",
     "output_type": "stream",
     "text": [
      "<class 'pandas.core.frame.DataFrame'>\n",
      "RangeIndex: 891 entries, 0 to 890\n",
      "Data columns (total 12 columns):\n",
      " #   Column       Non-Null Count  Dtype  \n",
      "---  ------       --------------  -----  \n",
      " 0   PassengerId  891 non-null    int64  \n",
      " 1   Survived     891 non-null    int64  \n",
      " 2   Pclass       891 non-null    int64  \n",
      " 3   Name         891 non-null    object \n",
      " 4   Sex          891 non-null    object \n",
      " 5   Age          714 non-null    float64\n",
      " 6   SibSp        891 non-null    int64  \n",
      " 7   Parch        891 non-null    int64  \n",
      " 8   Ticket       891 non-null    object \n",
      " 9   Fare         891 non-null    float64\n",
      " 10  Cabin        204 non-null    object \n",
      " 11  Embarked     889 non-null    object \n",
      "dtypes: float64(2), int64(5), object(5)\n",
      "memory usage: 83.7+ KB\n"
     ]
    }
   ],
   "source": [
    "df.info()\n"
   ]
  },
  {
   "cell_type": "code",
   "execution_count": 8,
   "metadata": {},
   "outputs": [
    {
     "name": "stdout",
     "output_type": "stream",
     "text": [
      "Total survived:  350\n",
      "Survival rate: 0.393\n"
     ]
    }
   ],
   "source": [
    "# totsuv = df.loc[df[\"Survived\"] == 1, \"Survived\"].sum()\n",
    "survived = (df.loc[:,\"Survived\"]==1).sum()\n",
    "totsuv = len(df)\n",
    "print(\"Total survived: \", survived)\n",
    "print (\"Survival rate: {:.3f}\".format(survived/totsuv))"
   ]
  },
  {
   "cell_type": "markdown",
   "metadata": {},
   "source": [
    "**Part B**: \n",
    "Some claim that the final hours aboard the RMS Titanic were marked by \"class warfare\" in which the people with first-class tickets took all the good spots on the lifeboats; others claim that the final hours were characterized by male chivalry, in which the men valiantly gave up their positions in the boats and succumbed bravely to the depths of the Atlantic. \n",
    "\n",
    "Consider the two claims: class warfare, and male chivalry. Suppose that class warfare occurred in the final hours aboard the Titanic.  What patterns might you expect to see in the data?  Suppose that male chivalry was widespread during the final hours instead. What patterns might you then expect to see in the data?  Explain both of these hypothesized patterns in words. Are these two hypotheses mutually exclusive or not?"
   ]
  },
  {
   "cell_type": "markdown",
   "metadata": {},
   "source": [
    "Generally, if the class welfare behaviour existed, we would expect to see a large proportion of class 1 survive out of their population, making up the largest proportion of survivors out of the total number of passengers. In general we would notice that the class 3 passengers would sustain the lowest survival rate followed by class 2 and finally class 1.\n",
    "\n",
    "If male chivalry occured instead, the male survival rate would be closer to or near zero reflecting a boosted (but not 100%) survival rate for higher to middle class women.  "
   ]
  },
  {
   "cell_type": "markdown",
   "metadata": {},
   "source": [
    "**Part C**: Use Pandas methods (such as `drop`) to create a clean data set by removing any rows from the DataFrame that are missing values corresponding to **Survived**, **Pclass**, **Age**, or **Sex**. Store the clean data in a DataFrame called dfTitanic. Be sure to show any exploratory work determining if/where there are rows with missing values. _HINT: There should be 714 rows in your cleaned data set._"
   ]
  },
  {
   "cell_type": "code",
   "execution_count": 9,
   "metadata": {},
   "outputs": [
    {
     "data": {
      "text/html": [
       "<div>\n",
       "<style scoped>\n",
       "    .dataframe tbody tr th:only-of-type {\n",
       "        vertical-align: middle;\n",
       "    }\n",
       "\n",
       "    .dataframe tbody tr th {\n",
       "        vertical-align: top;\n",
       "    }\n",
       "\n",
       "    .dataframe thead th {\n",
       "        text-align: right;\n",
       "    }\n",
       "</style>\n",
       "<table border=\"1\" class=\"dataframe\">\n",
       "  <thead>\n",
       "    <tr style=\"text-align: right;\">\n",
       "      <th></th>\n",
       "      <th>PassengerId</th>\n",
       "      <th>Survived</th>\n",
       "      <th>Pclass</th>\n",
       "      <th>Name</th>\n",
       "      <th>Sex</th>\n",
       "      <th>Age</th>\n",
       "      <th>SibSp</th>\n",
       "      <th>Parch</th>\n",
       "      <th>Ticket</th>\n",
       "      <th>Fare</th>\n",
       "      <th>Cabin</th>\n",
       "      <th>Embarked</th>\n",
       "    </tr>\n",
       "  </thead>\n",
       "  <tbody>\n",
       "    <tr>\n",
       "      <th>0</th>\n",
       "      <td>1</td>\n",
       "      <td>0</td>\n",
       "      <td>3</td>\n",
       "      <td>Braund, Mr. Owen Harris</td>\n",
       "      <td>male</td>\n",
       "      <td>36.0</td>\n",
       "      <td>1</td>\n",
       "      <td>0</td>\n",
       "      <td>A/5 21171</td>\n",
       "      <td>7.2500</td>\n",
       "      <td>NaN</td>\n",
       "      <td>S</td>\n",
       "    </tr>\n",
       "    <tr>\n",
       "      <th>1</th>\n",
       "      <td>2</td>\n",
       "      <td>1</td>\n",
       "      <td>1</td>\n",
       "      <td>Cumings, Mrs. John Bradley (Florence Briggs Th...</td>\n",
       "      <td>female</td>\n",
       "      <td>18.0</td>\n",
       "      <td>1</td>\n",
       "      <td>0</td>\n",
       "      <td>PC 17599</td>\n",
       "      <td>71.2833</td>\n",
       "      <td>C85</td>\n",
       "      <td>C</td>\n",
       "    </tr>\n",
       "    <tr>\n",
       "      <th>2</th>\n",
       "      <td>3</td>\n",
       "      <td>1</td>\n",
       "      <td>3</td>\n",
       "      <td>Heikkinen, Miss. Laina</td>\n",
       "      <td>female</td>\n",
       "      <td>14.0</td>\n",
       "      <td>0</td>\n",
       "      <td>0</td>\n",
       "      <td>STON/O2. 3101282</td>\n",
       "      <td>7.9250</td>\n",
       "      <td>NaN</td>\n",
       "      <td>S</td>\n",
       "    </tr>\n",
       "    <tr>\n",
       "      <th>3</th>\n",
       "      <td>4</td>\n",
       "      <td>1</td>\n",
       "      <td>1</td>\n",
       "      <td>Futrelle, Mrs. Jacques Heath (Lily May Peel)</td>\n",
       "      <td>female</td>\n",
       "      <td>27.0</td>\n",
       "      <td>1</td>\n",
       "      <td>0</td>\n",
       "      <td>113803</td>\n",
       "      <td>53.1000</td>\n",
       "      <td>C123</td>\n",
       "      <td>S</td>\n",
       "    </tr>\n",
       "    <tr>\n",
       "      <th>4</th>\n",
       "      <td>5</td>\n",
       "      <td>0</td>\n",
       "      <td>3</td>\n",
       "      <td>Allen, Mr. William Henry</td>\n",
       "      <td>male</td>\n",
       "      <td>63.0</td>\n",
       "      <td>0</td>\n",
       "      <td>0</td>\n",
       "      <td>373450</td>\n",
       "      <td>8.0500</td>\n",
       "      <td>NaN</td>\n",
       "      <td>S</td>\n",
       "    </tr>\n",
       "  </tbody>\n",
       "</table>\n",
       "</div>"
      ],
      "text/plain": [
       "   PassengerId  Survived  Pclass  \\\n",
       "0            1         0       3   \n",
       "1            2         1       1   \n",
       "2            3         1       3   \n",
       "3            4         1       1   \n",
       "4            5         0       3   \n",
       "\n",
       "                                                Name     Sex   Age  SibSp  \\\n",
       "0                            Braund, Mr. Owen Harris    male  36.0      1   \n",
       "1  Cumings, Mrs. John Bradley (Florence Briggs Th...  female  18.0      1   \n",
       "2                             Heikkinen, Miss. Laina  female  14.0      0   \n",
       "3       Futrelle, Mrs. Jacques Heath (Lily May Peel)  female  27.0      1   \n",
       "4                           Allen, Mr. William Henry    male  63.0      0   \n",
       "\n",
       "   Parch            Ticket     Fare Cabin Embarked  \n",
       "0      0         A/5 21171   7.2500   NaN        S  \n",
       "1      0          PC 17599  71.2833   C85        C  \n",
       "2      0  STON/O2. 3101282   7.9250   NaN        S  \n",
       "3      0            113803  53.1000  C123        S  \n",
       "4      0            373450   8.0500   NaN        S  "
      ]
     },
     "execution_count": 9,
     "metadata": {},
     "output_type": "execute_result"
    }
   ],
   "source": [
    "dfCTitanic = df.dropna(subset=[\"Survived\", \"Pclass\", \"Age\", \"Sex\"])\n",
    "dfCTitanic.head()\n",
    "\n",
    "# Taken from n3"
   ]
  },
  {
   "cell_type": "markdown",
   "metadata": {},
   "source": [
    "**Part D**: Compute the probability of survival of both men and women.  Then, compute the probability of survival of passengers in each of the 3 passenger classes.  Finally, compute the probabilities of survival and men and women *within* each passenger class (all 6 subsets).  Then, answer the following questions:\n",
    "* **(i)** When reviewing class survival probability, how do the results compare to the base survival probability results from **Part A**?\n",
    "* **(ii)** When reviewing gender survival probability, how do the results compare to the base survival probability results from **Part A**?\n",
    "* **(iii)** Within each passenger class, were men or women more/less/equally likely to survive?\n",
    "* **(iv)**  Did men in first class or women in third class have a higher survival probability?\n"
   ]
  },
  {
   "cell_type": "code",
   "execution_count": 10,
   "metadata": {},
   "outputs": [
    {
     "name": "stdout",
     "output_type": "stream",
     "text": [
      "  male Survival Rate: 0.197\n",
      "female Survival Rate: 0.749\n"
     ]
    }
   ],
   "source": [
    "# Generating male/female survival rate\n",
    "\n",
    "for sex in [\"male\",\"female\"]:\n",
    "    survived = dfCTitanic.loc[(dfCTitanic[\"Sex\"] == sex), \"Survived\"].sum()\n",
    "#     totsuv = len(dfCTitanic.loc[dfCTitanic[\"Sex\"] == sex])\n",
    "    totsuv = (dfCTitanic.loc[:,\"Sex\"] == sex).sum()\n",
    "    print (\"{:>6} Survival Rate: {:.3f}\".format(sex,survived/totsuv))"
   ]
  },
  {
   "cell_type": "code",
   "execution_count": 11,
   "metadata": {},
   "outputs": [
    {
     "name": "stdout",
     "output_type": "stream",
     "text": [
      "Class 1 Survival Fraction: 0.643\n",
      "Class 2 Survival Fraction: 0.483\n",
      "Class 3 Survival Fraction: 0.252\n"
     ]
    }
   ],
   "source": [
    "# Generating class 1,2,3 survival rate\n",
    "\n",
    "for pc in [1,2,3]:\n",
    "\n",
    "    survived = dfCTitanic.loc[(dfCTitanic[\"Pclass\"]==pc), \"Survived\"].sum()\n",
    "    totsuv = (dfCTitanic.loc[:,\"Pclass\"]==pc).sum()\n",
    "    print(\"Class {} Survival Fraction: {:.3f}\".format(pc,survived/totsuv)) "
   ]
  },
  {
   "cell_type": "code",
   "execution_count": 12,
   "metadata": {},
   "outputs": [
    {
     "name": "stdout",
     "output_type": "stream",
     "text": [
      "Class 1   male Survival Fraction: 0.387\n",
      "Class 1 female Survival Fraction: 0.960\n",
      "Class 2   male Survival Fraction: 0.184\n",
      "Class 2 female Survival Fraction: 0.931\n",
      "Class 3   male Survival Fraction: 0.138\n",
      "Class 3 female Survival Fraction: 0.525\n"
     ]
    }
   ],
   "source": [
    "# Generating class & sex based survival rate\n",
    "\n",
    "for pc in [1,2,3]:\n",
    "    for sex in [\"male\",\"female\"]:\n",
    "        survived = dfCTitanic.loc[(dfCTitanic[\"Pclass\"] == pc) & (dfCTitanic[\"Sex\"] == sex), \"Survived\"].sum()\n",
    "        \n",
    "        # for some reason .sum() would not work to generate a valid total\n",
    "        # converted to len() of found values instead and it appears to have fixed\n",
    "        # the errors throw, will investigate further why it wasn't happy\n",
    "        \n",
    "        totsuv = len(dfCTitanic.loc[(dfCTitanic[\"Pclass\"] == pc) & (dfCTitanic[\"Sex\"] == sex)])\n",
    "        \n",
    "        print(\"Class {} {:>6} Survival Fraction: {:.3f}\".format(pc, sex, survived/totsuv))\n"
   ]
  },
  {
   "cell_type": "markdown",
   "metadata": {},
   "source": [
    "* **(i)** When reviewing class survival probability, how do the results compare to the base survival probability results from **Part A**?\n",
    "\n",
    "a. Compared to the total survival rate of the passangers as a whole (n = 891, survival rate = 0.393), those who were in class 1 and 2 had a significantly higher survival rate (c1 = 0.643, c2 = 0.483) then those in class 3 (c3 = 0.252). Class 3 passengers most likely had to brave the waters to survive, resulting in significantly lower chances of survival as a general population.\n",
    "\n",
    "* **(ii)** When reviewing gender survival probability, how do the results compare to the base survival probability results from **Part A**?\n",
    "\n",
    "a. Generally speaking, the female rate of survival (f = 0.749) was more than triple the resulting male survival rate (m = 0.197). Looks like the hypothetical cases present in a previous part were more or less what happened in conjunction. \n",
    "\n",
    "* **(iii)** Within each passenger class, were men or women more/less/equally likely to survive?\n",
    "\n",
    "a. Within each passenger class, it was to be expected based on prior comprehensive results that women were significantly more likely to have survived. The highest survival rates for women came from classes 1 and 2 (c1w = 0.960, c2w = 0.931) with class 3 women also having noticably higher survival rates (c3w = 0.525) then even the class 1 men (c1m = 0.387) with class 2 and 3 men essentially lost at sea more or less (c2m = 0.184, c3m = 0.138).\n",
    "\n",
    "* **(iv)**  Did men in first class or women in third class have a higher survival probability?\n",
    "\n",
    "a. As mentioned, women in class 3 (c3w = 0.525) had a much higher survival rate then first class men (c1m = 0.387)."
   ]
  },
  {
   "cell_type": "markdown",
   "metadata": {},
   "source": [
    "**Part E**: One might wonder how a passenger's age is related to the likelihood that they would survive the Titanic disaster. In addition to the \"male chivalry\" argument outlined above, you can perhaps imagine an addendum - \"women and children first!\" - as the cry to ring out across the decks. Or you might imagine the opposite - rather than \"class warfare\", it is simply healthy adults fighting to take lifeboat spots for themselves.\n",
    "\n",
    "To answer this question graphically, plot two density histograms on the *same set* of axes, showing the distribution of the ages of passengers who survived, and the distribution of the ages of passengers who did not.  This means that the two axes should overlap. \n",
    "* Use the bin edges $[0,3,6,\\ldots,75,78,81]$ for both histograms.\n",
    "* To better distinguish between our populations, we will represent survivors with the color arguments `lawngreen` and the passed with `aqua`.\n",
    "* As you plot both histograms on a single set of axes you should use Matplotlib/Pandas plotting functionality to make the faces of the histogram boxes somewhat transparent (`alpha`), so both histograms are visible and their overlap becomes a blend of the two colors.\n",
    "* Include a legend (`plt.legend` after `label=` on the histograms) and label your axes.\n",
    "* Comment on the results. Does your figure suggest that some age ranges are more or less likely to have survived the disaster than other ages? Fully explain your reasoning and use your figure to justify your conclusions.\n",
    "* If you noticed some relationship between age and likelihood of survival, what is one possible explanation?"
   ]
  },
  {
   "cell_type": "code",
   "execution_count": 13,
   "metadata": {},
   "outputs": [
    {
     "data": {
      "image/png": "[encoded data removed]",
      "text/plain": [
       "<Figure size 864x432 with 1 Axes>"
      ]
     },
     "metadata": {
      "needs_background": "light"
     },
     "output_type": "display_data"
    }
   ],
   "source": [
    "fig, ax = plt.subplots(figsize=(12,6))\n",
    "\n",
    "# histogram data\n",
    "dfCTitanic.loc[dfCTitanic[\"Survived\"] == 1].hist(column =\"Age\", density = True, ax=ax, facecolor=\"lawngreen\", alpha = 0.45, edgecolor=\"white\",bins=range(0,81,3))\n",
    "\n",
    "\n",
    "# titles and labels\n",
    "ax.set_xlabel(\"Age\", fontsize=14)\n",
    "ax.set_ylabel(\"Survived/Did Not Survive\", fontsize=14)\n",
    "ax.set_title(\"Passenger Age\", fontsize=24)\n",
    "\n",
    "ax.grid(alpha=0.5)\n",
    "ax.set_axisbelow(True)\n",
    "\n",
    "# histogram data\n",
    "dfCTitanic.loc[dfCTitanic[\"Survived\"] == 0].hist(column =\"Age\", density = True, ax=ax, facecolor=\"aqua\", alpha = 0.85, edgecolor=\"white\",bins=range(0,81,3))\n",
    "\n",
    "\n",
    "# titles and labels\n",
    "ax.set_xlabel(\"Age\", fontsize=14)\n",
    "ax.set_ylabel(\"Survived/Did Not Survive\", fontsize=14)\n",
    "ax.set_title(\"Passenger Age\", fontsize=24)\n",
    "\n",
    "\n",
    "plt.legend(('Survived','Died'), loc = 'upper right')\n",
    "ax.grid(alpha=0.85)\n",
    "ax.set_axisbelow(True)\n",
    "\n",
    "# fig, axes = plt.subplots(nrows=2, ncols=1, figsize=(8,8))\n",
    "\n",
    "# # --------------------------------------\n",
    "# # Plot histogram for Niwot on Top \n",
    "# # --------------------------------------\n",
    "# dfCTitanic.loc[(dfCTitanic[\"Survived\"]==1),\"Age\"].hist(column=\"Age\", density = True, ax=axes[0], facecolor=\"lawngreen\", edgecolor=\"white\",bins=range(0,81,3))\n",
    "                                                      \n",
    "# # Add titles and labels \n",
    "# axes[0].set_title(\"Gross Res Min Daily Temperatures\", fontsize=20)\n",
    "# axes[0].set_xlabel(\"Min Temperature [degrees F]\", fontsize=16)\n",
    "# axes[0].set_ylabel(\"Density\", fontsize=16)\n",
    "\n",
    "# # Make grid lighter and set behind data\n",
    "# axes[0].grid(alpha=0.25)\n",
    "# axes[0].set_axisbelow(True)"
   ]
  },
  {
   "cell_type": "markdown",
   "metadata": {},
   "source": [
    "**Comments**: \n",
    "\n",
    "Comment on the results. Does your figure suggest that some age ranges \n",
    "are more or less likely to have survived the disaster than other ages? \n",
    "Fully explain your reasoning and use your figure to justify your conclusions.\n",
    "\n",
    "a. Based on what I can see, those who were on the younger side of 30 and older than 18-20 managed to have a better chance at surviving. This can be attributed to healthier, stronger, and preservation of younger life versus those who were older and died because of their age, physical shape, or relinquish their spot in favor of others. Children under the age of 10 also showed decent survivability compared to other age ranges as many probably gave up their young to someone on a lifeboat, but that sample size is smaller due to less babies and toddlers being on board to begin with. \n",
    "\n",
    "If you noticed some relationship between age and likelihood of survival, what is one possible explanation?\n",
    "\n",
    "a. Generally preservation of younger healthier individuals in their prime would affect likelyhood of survival. Those who could be carried such as babies or toddlers could also be handed over and taken on a boat with little resistance. Priotizing those in certain parts of their lives as a group effort would help your survival chances. "
   ]
  },
  {
   "cell_type": "markdown",
   "metadata": {},
   "source": [
    "**Part F:** In Part E, we plotted two *density* histograms, showing the distributions of ages of passengers that survived or did not survive the Titanic disaster. Why would it be misleading for us to have plotted these as *frequency* histograms instead?"
   ]
  },
  {
   "cell_type": "markdown",
   "metadata": {},
   "source": [
    "Frequency is problematic because it can misrespresent its findings on scale or start/end points on the x/y alone. When a density histogram derives the data down to a factor of 1, we can more accuratly portray the data and give a better representation of what is going on not influenced by how the histogram itself is set up. "
   ]
  },
  {
   "cell_type": "markdown",
   "metadata": {},
   "source": [
    "**Part G**: Do the data suggest class warfare, male chivalry, age bias, or some combination of these characteristics in the final hours aboard the Titanic?  Justify your conclusions based on the computations done above, or do any other analysis that you like, but be sure to clearly justify your conclusions."
   ]
  },
  {
   "cell_type": "markdown",
   "metadata": {},
   "source": [
    "The data definetly shows some form of class warfare, male chivalry, and age bias when people effectively prioritized certain people over others. We witnessed that those who were female were prioritized the most out of gender, with even class 3 women having a higher survival rate then even class 1 men. We also saw that those in class 1 and 2 had higher survival rates then those in class 3, representing a large majority of those who survived in general. This is most likely due to the percieved importance those people may have had over others as well, whereas class 3 passengers were more or less cargo to begin with. Finally, passangers were definitly prioritized based on age, as those who could literally live more life were prioritized over those who were already past their primes. We can see that a group effort was made to essentialy get what society deemed the most important demographic makeup passengers off before anyone else. "
   ]
  },
  {
   "cell_type": "markdown",
   "metadata": {},
   "source": [
    "**Part H**: In lecture we described some types of sampling from a *sample frame*.  Suppose we considered the passenger log the sample frame, and decided to generate smaller samples to work with for computing means and propotions.  Perform the following operations:\n",
    "\n",
    "1) Since the overall ship had around 65% men, create a *sample* (see `df.sample`) of distinct passengers from the overall ship that consists of exactly 13 randomly chosen men and 7 randomly chosen women.  Report the proportion of those passengers that survived.\n",
    "\n",
    "2) Repeat the sampling process from part 1) 1000 times.  Report the **mean** survival proportion of those 1000 samples.  Is this close to the survival rate in part A?  Why or why not?\n",
    "\n",
    "3) What was the name for this kind of sampling?\n",
    "\n"
   ]
  },
  {
   "cell_type": "code",
   "execution_count": 14,
   "metadata": {},
   "outputs": [
    {
     "name": "stdout",
     "output_type": "stream",
     "text": [
      "Surviving passanger rate: 0.45\n"
     ]
    }
   ],
   "source": [
    "#1. \n",
    "    \n",
    "ran_m = dfCTitanic[dfCTitanic[\"Sex\"] == \"male\"].sample(13)\n",
    "\n",
    "ran_w = dfCTitanic[dfCTitanic[\"Sex\"] == \"female\"].sample(7)\n",
    "    \n",
    "    # Combine samples\n",
    "\n",
    "comb = pd.concat([ran_m, ran_w])\n",
    "    \n",
    "    # Discover number of passengers who survived\n",
    "\n",
    "output = (comb.loc[:,\"Survived\"] == 1).sum()\n",
    "    \n",
    "    # Return the mean\n",
    "\n",
    "print(\"Surviving passanger rate:\", output/20)\n",
    "\n"
   ]
  },
  {
   "cell_type": "code",
   "execution_count": 15,
   "metadata": {},
   "outputs": [
    {
     "name": "stdout",
     "output_type": "stream",
     "text": [
      "Survial Rate out of 1000, 0.38890000000000063\n"
     ]
    }
   ],
   "source": [
    "#2 \n",
    "\n",
    "def randpass():\n",
    "    \n",
    "    ran_m = dfCTitanic[dfCTitanic[\"Sex\"] == \"male\"].sample(13)\n",
    "\n",
    "    ran_w = dfCTitanic[dfCTitanic[\"Sex\"] == \"female\"].sample(7)\n",
    "    \n",
    "    # Combine samples\n",
    "\n",
    "    comb = pd.concat([ran_m, ran_w])\n",
    "    \n",
    "    # Discover number of passengers who survived\n",
    "\n",
    "    output = (comb.loc[:,\"Survived\"] == 1).sum()\n",
    "    \n",
    "    # Return the mean\n",
    "\n",
    "    return output/20 \n",
    "\n",
    "# awful time crunched implementation to rerun randpass 1000 times don't judge me\n",
    "# it's 11:35\n",
    "\n",
    "def thousrand():\n",
    "    total = 0\n",
    "    for x in range(1000):\n",
    "        total = total + randpass()\n",
    "    return total\n",
    "\n",
    "mean = thousrand()\n",
    "\n",
    "print(\"Survial Rate out of 1000,\", mean/1000)\n",
    "    \n",
    "    "
   ]
  },
  {
   "cell_type": "markdown",
   "metadata": {},
   "source": [
    "2) Repeat the sampling process from part 1) 1000 times.  Report the **mean** survival proportion of those 1000 samples.  Is this close to the survival rate in part A?  Why or why not?\n",
    "\n",
    "a. The survival rate is very similar to what was calculated before (sr = 0.393). This is most likely due to random sampling of a data set evenutally representing the data set if enough random samples are taken over time, in a way increasing accuracy of calculated survival rate for every new mean. \n",
    "\n"
   ]
  },
  {
   "cell_type": "markdown",
   "metadata": {},
   "source": [
    "3) What was the name for this kind of sampling?\n",
    "\n",
    "a. This kind of sampling is stratified simple.\n",
    "\n"
   ]
  },
  {
   "cell_type": "code",
   "execution_count": null,
   "metadata": {},
   "outputs": [],
   "source": []
  }
 ],
 "metadata": {
  "kernelspec": {
   "display_name": "Python 3",
   "language": "python",
   "name": "python3"
  },
  "language_info": {
   "codemirror_mode": {
    "name": "ipython",
    "version": 3
   },
   "file_extension": ".py",
   "mimetype": "text/x-python",
   "name": "python",
   "nbconvert_exporter": "python",
   "pygments_lexer": "ipython3",
   "version": "3.8.8"
  }
 },
 "nbformat": 4,
 "nbformat_minor": 2
}
