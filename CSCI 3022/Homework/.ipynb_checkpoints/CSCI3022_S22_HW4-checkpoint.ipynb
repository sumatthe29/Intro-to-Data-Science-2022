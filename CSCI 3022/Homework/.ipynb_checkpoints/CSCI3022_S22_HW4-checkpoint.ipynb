{
 "cells": [
  {
   "cell_type": "markdown",
   "metadata": {},
   "source": [
    "<a id='top'></a>\n",
    "\n",
    "# CSCI3022 S22\n",
    "\n",
    "\n",
    "\n",
    "# Homework 4: Working with RVs\n",
    "\n",
    "## Due Friday, March 4 at 11:59 pm to Canvas and Gradescope\n",
    "***\n",
    "\n",
    "**Name**: Matthew Su\n",
    "\n",
    "\n",
    "***\n",
    "\n",
    "Your solutions to computational questions should include any specified Python code and results as well as written commentary on your conclusions.  Remember that you are encouraged to discuss the problems with your classmates, but **you must write all code and solutions on your own**.\n",
    "\n",
    "**NOTES**: \n",
    "\n",
    "- Any relevant data sets should be available on Canvas. To make life easier on the graders if they need to run your code, do not change the relative path names here. Instead, move the files around on your computer.\n",
    "- If you're not familiar with typesetting math directly into Markdown then by all means, do your work on paper first and then typeset it later.  Here is a [reference guide](https://math.meta.stackexchange.com/questions/5020/mathjax-basic-tutorial-and-quick-reference) linked on Canvas on writing math in Markdown. **All** of your written commentary, justifications and mathematical work should be in Markdown.  I also recommend the [wikibook](https://en.wikibooks.org/wiki/LaTeX) for LaTex.\n",
    "- Because you can technically evaluate notebook cells is a non-linear order, it's a good idea to do **Kernel $\\rightarrow$ Restart & Run All** as a check before submitting your solutions.  That way if we need to run your code you will know that it will work as expected. \n",
    "- It is **bad form** to make your reader interpret numerical output from your code.  If a question asks you to compute some value from the data you should show your code output **AND** write a summary of the results in Markdown directly below your code. \n",
    "- 45 points of this assignment are in problems.  The remaining 5 are for neatness, style, and overall exposition of both code and text.\n",
    "- This probably goes without saying, but... For any question that asks you to calculate something, you **must show all work and justify your answers to receive credit**. Sparse or nonexistent work will receive sparse or nonexistent credit. \n",
    "- There is *not a prescribed API* for these problems.  You may answer coding questions with whatever syntax or object typing you deem fit.  Your evaluation will primarily live in the clarity of how well you present your final results, so don't skip over any interpretations!  Your code should still be commented and readable to ensure you followed the given course algorithm.\n",
    "- There are two ways to quickly make a .pdf out of this notebook for Gradescope submission.  Either:\n",
    " - Use File -> Download as PDF via LaTeX.  This will require your system path find a working install of a TeX compiler\n",
    " - Easier: Use File ->  Print Preview, and then Right-Click -> Print using your default browser and \"Print to PDF\"\n",
    "\n"
   ]
  },
  {
   "cell_type": "code",
   "execution_count": 1,
   "metadata": {},
   "outputs": [],
   "source": [
    "import numpy as np\n",
    "import pandas as pd\n",
    "import matplotlib.pylab as plt\n",
    "import scipy.stats as stats\n",
    "%matplotlib inline"
   ]
  },
  {
   "cell_type": "markdown",
   "metadata": {},
   "source": [
    "\n",
    "---\n",
    "**Shortcuts:**  [Problem 1](#p1) | [Problem 2](#p2) |\n",
    "---\n"
   ]
  },
  {
   "cell_type": "markdown",
   "metadata": {},
   "source": [
    "[Back to top](#top)\n",
    "\n",
    "<a id='p1'></a>\n",
    "\n",
    "## (25 pts) Problem 1 (Theory): Working with Distributions\n",
    "***\n",
    "\n",
    "When you made a histogram on homework 2 of the precipitation column for Boulder, you might have noticed that one particular point was a **massive** outlier.  Specifically, the [2013 flood](https://en.wikipedia.org/wiki/2013_Colorado_floods) where pretty devastating to the community.  One takeaway a data analyst might derive from the data could be the statement that \"Boulder has storm that generates over 12 inches of rain **once per 60 years**.\"  Let's explore what that probability statement might imply!\n",
    "\n",
    "**Part A**: Suppose that attempt to *count* occurrences of \"massive rainfall\" with a Poisson process.  For a *fixed* interval of 60 years, we would assert that the rate $\\lambda$ of massive rainfalls is $\\lambda = 1 \\frac{heavy\\, rain}{60 \\, yr \\, interval.}$\n",
    "\n",
    "Using `stats.poisson` and the related `scipy.stats`, functions, print a list of the probabilities of observing exactly $k$ such storms in a 60-year interval for $k=0,1,2,\\dots 10$. "
   ]
  },
  {
   "cell_type": "code",
   "execution_count": 2,
   "metadata": {},
   "outputs": [
    {
     "name": "stdout",
     "output_type": "stream",
     "text": [
      "0.36787944117144233\n",
      "0.36787944117144233\n",
      "0.18393972058572114\n",
      "0.06131324019524039\n",
      "0.015328310048810101\n",
      "0.00306566200976202\n",
      "0.0005109436682936698\n",
      "7.299195261338139e-05\n",
      "9.123994076672672e-06\n",
      "1.013777119630298e-06\n",
      "1.0137771196302987e-07\n"
     ]
    }
   ],
   "source": [
    "for i in range(11):\n",
    "    print(stats.poisson.pmf(k = i, mu = 1))\n",
    "    "
   ]
  },
  {
   "cell_type": "markdown",
   "metadata": {},
   "source": [
    "**Part B**: We could instead consider describing the process with the model that \"each year is independently and identically likely to *contain* a heavy storm with probability $1/60$.\"  This would suggest a different random variable to count the number of heavy storms in a 60 year period.  Which one?\n",
    "\n",
    "Using the appropriate random variable and its implementation in `scipy.stats`, again print a list of the probabilities of observing exactly $k$ years with a storm in a 60-year interval (again, do all of $k=0,1,2,\\dots 10$)."
   ]
  },
  {
   "cell_type": "code",
   "execution_count": 3,
   "metadata": {},
   "outputs": [
    {
     "name": "stdout",
     "output_type": "stream",
     "text": [
      "0.36479231075334484\n",
      "0.37097523127460547\n",
      "0.18548761563729835\n",
      "0.06078125258171482\n",
      "0.014680217784566326\n",
      "0.002786753206561736\n",
      "0.00043297013096298793\n",
      "5.66111067118668e-05\n",
      "6.356755626544394e-06\n",
      "6.225071423357996e-07\n",
      "5.380993942224899e-08\n"
     ]
    }
   ],
   "source": [
    "# for i in range(11):\n",
    "#     print(stats.poisson.pm(k=i, mu = 1-stats.geom.cdf(60,1/60)))\n",
    "\n",
    "for i in range(11):\n",
    "    print(stats.binom.pmf(k=i, n = 60, p = 1/60))"
   ]
  },
  {
   "cell_type": "markdown",
   "metadata": {},
   "source": [
    "**Part C**: Are your results in Part A and Part B the same?  Why or why not?  What fundamental assumptions are different in using a Poisson model to describe this process instead of the model in Part B?"
   ]
  },
  {
   "cell_type": "markdown",
   "metadata": {},
   "source": [
    "The results from Part A and Part B are remarkably similar up until k = 7, where then they start to devulge. The key reason why the results overall are different is because a poisson model is deployed for an infinite sample set whereas the binomial deployment is for a finite set. Therefore the probability that is calculated for the poisson model reflects an infinte scale wereas the binomal model is relative to its finite limits."
   ]
  },
  {
   "cell_type": "markdown",
   "metadata": {},
   "source": [
    "**Part D**: We could also use the *Geometric* random variable to track an event like \"what is the probability that we *don't* observe a single heavy storm in the 60 year interval.\"  Would this calculation agree with the corresponding probability (observing $k=0$ storms) from the models in Parts A and B?  Why or why not?  You may use code to justify your answer."
   ]
  },
  {
   "cell_type": "markdown",
   "metadata": {},
   "source": [
    "Our resulting answer be closer to the binom result from part B since it has a fixed number, with binom being a fixed number of trials done finding the probabilty of a number of sucesses and geom being a fixed number of sucesses counting the number of trials required to reach that count of sucessess.. The way the code below sets up results in a similar result to the binom as it is essentially a conversion between the fixed natures of the two. "
   ]
  },
  {
   "cell_type": "code",
   "execution_count": 36,
   "metadata": {},
   "outputs": [
    {
     "data": {
      "text/plain": [
       "0.36479231075334484"
      ]
     },
     "execution_count": 36,
     "metadata": {},
     "output_type": "execute_result"
    }
   ],
   "source": [
    "1 - stats.geom.cdf(k = 60, p = 1/60)"
   ]
  },
  {
   "cell_type": "markdown",
   "metadata": {},
   "source": [
    "[Back to top](#top)\n",
    "\n",
    "<a id='p2'></a>\n",
    "\n",
    "## (25 pts) Problem 2 (Computation): Working with Continuous Distributions\n",
    "***\n",
    "Suppose you are assigned to study a new found species of rodent, and discover that they have variable tail lengths.  A colleague comes back to you and proposes that the tail length of an individual rodent is given by the random variable $X$ with pdf of the form:\n",
    "\n",
    "$$\n",
    "f(x) = \\begin{cases}\n",
    "         \\frac{a}{\\sqrt{x}} & 1 \\leq x < 4 \\\\\n",
    "         0                           & \\text{otherwise}\n",
    "       \\end{cases}\n",
    "$$\n",
    "where $a$ is some normalizing constant.\n",
    "\n",
    "**Part A**: Determine the value of $a$ such that $f(x)$ is a valid probability density function.  Use that value for the rest of the problem."
   ]
  },
  {
   "cell_type": "markdown",
   "metadata": {},
   "source": [
    "$$1 =\\int_{1}^{4} \\frac{a}{\\sqrt{x}}dx$$\n",
    "<br>\n",
    "$$1 = a * \\int_{1}^{4} x^{-\\frac{1}{2}} dx$$\n",
    "<br>\n",
    "$$1 = a * \\frac{x^{-\\frac{1}{2} + 1}}{-\\frac{1}{2} + 1} = 2a * (\\sqrt{4} - \\sqrt{1})$$\n",
    "<br>\n",
    "$$a = 0.5$$"
   ]
  },
  {
   "cell_type": "markdown",
   "metadata": {},
   "source": [
    "**Part B**: Compute *by hand* the cumulative density (cdf) function $F(x)$ for $X$."
   ]
  },
  {
   "cell_type": "markdown",
   "metadata": {},
   "source": [
    "$$\\int_{1}^{x} \\frac{0.5}{\\sqrt{t}}dx$$\n",
    "<br>\n",
    "$$0.5 * \\int_{1}^{x} t^{-\\frac{1}{2}} dx$$\n",
    "<br>\n",
    "$$0.5 * [\\frac{t^{-\\frac{1}{2} + 1}}{-\\frac{1}{2} + 1}] \\Big|_1^x = (\\sqrt{x} - 1) = cdf$$\n",
    "<br>"
   ]
  },
  {
   "cell_type": "markdown",
   "metadata": {},
   "source": [
    "**Part C:**  Use the cdf you derived in **Part B** to calculate the median ($\\tilde{x}$) tail length for a rodent."
   ]
  },
  {
   "cell_type": "markdown",
   "metadata": {},
   "source": [
    "In order to calculate median, set cdf to equal 0.5. Since we have already simplified down the integral, start from there:\n",
    "\n",
    "$$ \\sqrt{x} - 1 = 0.5 $$\n",
    "$$ x = 1.5^{2} = 2.25 $$"
   ]
  },
  {
   "cell_type": "markdown",
   "metadata": {},
   "source": [
    "**Part D:** Compute by hand both the mean $E[X]$ and variance $E[(X-E[X])^2]$ of the tail length distribution."
   ]
  },
  {
   "cell_type": "markdown",
   "metadata": {},
   "source": [
    "Mean: \n",
    "\n",
    "$$\\int_{1}^{4} \\frac{0.5x}{\\sqrt{x}}dx$$\n",
    "<br>\n",
    "$$0.5 * \\int_{1}^{4} \\sqrt{x}dx $$\n",
    "<br>\n",
    "$$0.5 * [\\frac{2}{3}x^{\\frac{3}{2}}] \\Big|_1^4 = \\frac{16}{3} - \\frac{2}{3} * \\frac{1}{2} = \\frac{7}{3}$$\n",
    "<br>\n",
    "\n",
    "Variance:\n",
    "\n",
    "$$\\int_{1}^{4} \\frac{0.5x^{2}}{\\sqrt{x}}dx $$\n",
    "<br>\n",
    "$$0.5 * \\int_{1}^{4} \\frac{2}{5}x^{\\frac{5}{2}}dx $$\n",
    "<br>\n",
    "$$0.5 * [\\frac{2}{5}x^{\\frac{5}{2}}] \\Big|_1^4 = \\frac{64}{5} - \\frac{2}{5} * \\frac{1}{2} = \\frac{31}{5}$$\n",
    "<br>\n",
    "\n",
    "$$ \\frac{31}{5} - \\frac{49}{9} = \\frac{34}{45} $$"
   ]
  },
  {
   "cell_type": "markdown",
   "metadata": {},
   "source": [
    "**Part E**: Create a plot of the pdf $f$ of $X$.  Clearly mark (via vertical lines) where both $E[X]$ and the median of $X$ are on the function.  Which is larger?  Could you have known that directly from the plot before completing parts **B-D**?"
   ]
  },
  {
   "cell_type": "code",
   "execution_count": 20,
   "metadata": {},
   "outputs": [
    {
     "data": {
      "text/plain": [
       "[<matplotlib.lines.Line2D at 0x2d8b205ff10>]"
      ]
     },
     "execution_count": 20,
     "metadata": {},
     "output_type": "execute_result"
    },
    {
     "data": {
      "image/png": "[encoded data removed]",
      "text/plain": [
       "<Figure size 432x288 with 1 Axes>"
      ]
     },
     "metadata": {
      "needs_background": "light"
     },
     "output_type": "display_data"
    }
   ],
   "source": [
    "from matplotlib.pyplot import plot\n",
    "import math\n",
    "def f(x):\n",
    "    if x >=0 and x <=4:\n",
    "        return 1/2 * math.sqrt(x)\n",
    "    else:\n",
    "        return 0\n",
    "    \n",
    "xvalues = np.linspace(0,4,100)\n",
    "yvalues = list(map(f,xvalues))\n",
    "# Median = green\n",
    "plt.axvline(x = 2.25, color = 'green', linestyle='--')\n",
    "\n",
    "#E[X] (Mean) = red\n",
    "plt.axvline(x = 7/3, color = 'red', linestyle='--')\n",
    "\n",
    "plot(xvalues,yvalues)"
   ]
  },
  {
   "cell_type": "markdown",
   "metadata": {},
   "source": [
    "We can see that E[X] is the larger of the two. We could not have know that I believe since they were so close, at least without the graph. With the graph we can see that the logarithmic nature means that there was a leveling off of the probability of larger and larger tails, contributing to a larger sample pool of values that was reflected in the larger mean. Still, it's an educated guess at best in this case without understanding how rat tails are expect to be for that particular scenerio and thus requires this sort of calculation for a better understannding. "
   ]
  },
  {
   "cell_type": "markdown",
   "metadata": {},
   "source": [
    "**Part F:**  You head down to the lab to check out these new rodents, and find a beautiful litter of 5 running around.  You decide to take this random sample and think about measuring it, but before that you think about the underlying random variable you've spent so much work describing.  Assuming your model in this problem was correct, what are:\n",
    "\n",
    "- The probability that at least 4 out of the 5 rodents have tails longer than the **median** tail?\n",
    "- The probability that at least 2 out of the 5 rodents have tails longer than the **average** tail?"
   ]
  },
  {
   "cell_type": "code",
   "execution_count": 29,
   "metadata": {},
   "outputs": [
    {
     "name": "stdout",
     "output_type": "stream",
     "text": [
      "0.18749999999999994\n",
      "0.7526576008797043\n"
     ]
    }
   ],
   "source": [
    "# integral from median = 2.25 to 4 of f(x) = 0.5 = p\n",
    "# 4 rats, 4 rats\n",
    "print(stats.binom.pmf(k=4, n = 5, p = 0.5) + stats.binom.pmf(k=5, n = 5, p = 0.5))\n",
    "count = 0;\n",
    "\n",
    "# integral from E[X] = 7/3 to 4 of f(x) = 2-sqrt(7/3) ~ 0.48 = p\n",
    "# 2 rats, 3 rats, 4 rats, 5 rats\n",
    "for i in range(2,5):\n",
    "    count += stats.binom.pmf(k=i, n = 5, p = 2-math.sqrt(7/3))\n",
    "print (count)"
   ]
  },
  {
   "cell_type": "code",
   "execution_count": null,
   "metadata": {},
   "outputs": [],
   "source": []
  }
 ],
 "metadata": {
  "kernelspec": {
   "display_name": "Python 3",
   "language": "python",
   "name": "python3"
  },
  "language_info": {
   "codemirror_mode": {
    "name": "ipython",
    "version": 3
   },
   "file_extension": ".py",
   "mimetype": "text/x-python",
   "name": "python",
   "nbconvert_exporter": "python",
   "pygments_lexer": "ipython3",
   "version": "3.8.8"
  }
 },
 "nbformat": 4,
 "nbformat_minor": 2
}
