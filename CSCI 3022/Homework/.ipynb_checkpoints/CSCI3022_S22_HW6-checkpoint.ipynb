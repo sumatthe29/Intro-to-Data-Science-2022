{
 "cells": [
  {
   "cell_type": "markdown",
   "metadata": {},
   "source": [
    "<a id='top'></a>\n",
    "\n",
    "# CSCI3022 S22\n",
    "\n",
    "\n",
    "\n",
    "# Homework 6: Hypothesis Testing\n",
    "\n",
    "## Due Monday, April 11 at 11:59 pm to Canvas and Gradescope\n",
    "***\n",
    "\n",
    "**Name**: Matthew Su\n",
    "\n",
    "\n",
    "***\n",
    "\n",
    "Your solutions to computational questions should include any specified Python code and results as well as written commentary on your conclusions.  Remember that you are encouraged to discuss the problems with your classmates, but **you must write all code and solutions on your own**.\n",
    "\n",
    "**NOTES**: \n",
    "\n",
    "- Any relevant data sets should be available on Canvas. To make life easier on the graders if they need to run your code, do not change the relative path names here. Instead, move the files around on your computer.\n",
    "- If you're not familiar with typesetting math directly into Markdown then by all means, do your work on paper first and then typeset it later.  Here is a [reference guide](https://math.meta.stackexchange.com/questions/5020/mathjax-basic-tutorial-and-quick-reference) linked on Canvas on writing math in Markdown. **All** of your written commentary, justifications and mathematical work should be in Markdown.  I also recommend the [wikibook](https://en.wikibooks.org/wiki/LaTeX) for LaTex.\n",
    "- Because you can technically evaluate notebook cells is a non-linear order, it's a good idea to do **Kernel $\\rightarrow$ Restart & Run All** as a check before submitting your solutions.  That way if we need to run your code you will know that it will work as expected. \n",
    "- It is **bad form** to make your reader interpret numerical output from your code.  If a question asks you to compute some value from the data you should show your code output **AND** write a summary of the results in Markdown directly below your code. \n",
    "- 45 points of this assignment are in problems.  The remaining 5 are for neatness, style, and overall exposition of both code and text.\n",
    "- This probably goes without saying, but... For any question that asks you to calculate something, you **must show all work and justify your answers to receive credit**. Sparse or nonexistent work will receive sparse or nonexistent credit. \n",
    "- There is *not a prescribed API* for these problems.  You may answer coding questions with whatever syntax or object typing you deem fit.  Your evaluation will primarily live in the clarity of how well you present your final results, so don't skip over any interpretations!  Your code should still be commented and readable to ensure you followed the given course algorithm.\n",
    "- There are two ways to quickly make a .pdf out of this notebook for Gradescope submission.  Either:\n",
    " - Use File -> Download as PDF via LaTeX.  This will require your system path find a working install of a TeX compiler\n",
    " - Easier: Use File ->  Print Preview, and then Right-Click -> Print using your default browser and \"Print to PDF\"\n",
    "\n"
   ]
  },
  {
   "cell_type": "code",
   "execution_count": 2,
   "metadata": {},
   "outputs": [],
   "source": [
    "import numpy as np\n",
    "import pandas as pd\n",
    "import matplotlib.pylab as plt\n",
    "import scipy.stats as stats\n",
    "%matplotlib inline"
   ]
  },
  {
   "cell_type": "markdown",
   "metadata": {},
   "source": [
    "\n",
    "---\n",
    "**Shortcuts:**  [Problem 1](#p1) | [Problem 2](#p2) | [Problem 3](#p3) |\n",
    "---\n"
   ]
  },
  {
   "cell_type": "markdown",
   "metadata": {},
   "source": [
    "[Back to top](#top)\n",
    "\n",
    "<a id='p1'></a>\n",
    "\n",
    "## (10 pts) Problem 1 (Practice): How did we do?\n",
    "***\n",
    "\n",
    "A  short prompts on applying Hypothesis Tests to data sets:\n",
    "\n",
    "### NFL Overtime\n",
    "\n",
    "On Homework 3 we tested the idea that the first team might be favored in an NFL overtime by estimating the proportions that the first and second teams received the ball.  Suppose we had approached this problem as a hypothesis test, wherein we we would propose a change to a new format if the data suggests a bias towards either team with a signifance of 10%.    Use the large-sample approximation to the Binomial where appropriate.\n",
    "\n",
    "\n",
    "**1A)** State the null and alternative hypothesis for this experiment, both in \"$H_0$\" notation as stated as plain English sentences."
   ]
  },
  {
   "cell_type": "markdown",
   "metadata": {},
   "source": [
    "\"$H_0 : p=\\frac{1}{2}$, as it is to be expected that teams would split possessions evenly as to give each team a shot. In a 10 minute overtime, it should be expected that each team AT LEAST should recieve the ball once. However, it is to be believed that $H_1: p > \\frac{1}{2}$ in favor of the team that recieves the ball first, as it was seen before that the first team often was able to recieve and score the ball without the other team even getting a posession. That would imply that the $H_1$ for the losing team is < $\\frac{1}{2}$.\""
   ]
  },
  {
   "cell_type": "markdown",
   "metadata": {},
   "source": [
    "**1B)** For *your* results from the \"NFL overtime\" problem of HW 3 Problem 3, what is the corresponding Z-statistic $Z_{stat}$, p-value, and critical value $z_\\alpha$?  What decision would you make?\n",
    "\n",
    "Note: If you didn't actually do this problem, you may use the solution simulation values of 542 \"team 1 wins\" and 321 \"team 2 wins\" in 1000 simulations. But use your own exact values if possible!"
   ]
  },
  {
   "cell_type": "code",
   "execution_count": 3,
   "metadata": {},
   "outputs": [
    {
     "name": "stdout",
     "output_type": "stream",
     "text": [
      "zstat, zcrit, and pvalue for team that won coin toss:  9.423587427301772 1.6448536269514722 0.0\n",
      "Values for team that lost coin toss:                 -18.84717485460354 1.6448536269514722 1.5497988381861175e-79\n"
     ]
    }
   ],
   "source": [
    "# Win prob for team 1 used\n",
    "# based on nb17 zscore calc, sig replaced with 10 (not sure where sig came from in this instance, asssumed it was converted alpha)\n",
    "# z = (xbar-mu0)/(sig/np.sqrt(sample_size))\n",
    "\n",
    "import math\n",
    "\n",
    "mean = 0.649\n",
    "zcrit=stats.norm.ppf(1-0.05)\n",
    "# zstat = (mean-0.5)/(np.sqrt(10/500))\n",
    "\n",
    "zstat = (mean-0.5)/np.sqrt((0.5*0.5)/1000)\n",
    "\n",
    "#                   (p1-p2)\n",
    "#   z = ------------------------------\n",
    "#            sqrt(p2(1-p2)(1/1000))\n",
    "\n",
    "#H1 > H0\n",
    "\n",
    "pv1 = 1 - stats.norm.cdf(zstat)\n",
    "\n",
    "print(\"zstat, zcrit, and pvalue for team that won coin toss: \", zstat,zcrit,pv1)\n",
    "\n",
    "# Win prob for team 2 used\n",
    "\n",
    "mean2 = 0.202 # real value x hat\n",
    "zstat2 = (mean2-0.5)/math.sqrt((0.5*0.5)/1000)\n",
    "# zstat2 = (mean2-0.5)/(np.sqrt(10/500))\n",
    "\n",
    "# H1 < H0\n",
    "\n",
    "pv2 = stats.norm.cdf(zstat2)\n",
    "\n",
    "print(\"Values for team that lost coin toss:                \", zstat2,zcrit,pv2)"
   ]
  },
  {
   "cell_type": "markdown",
   "metadata": {},
   "source": [
    "We can throw away the null hypothesis of the team that wins the coin toss since its p score is zero which is less than the alpha of 0.1. \n",
    "We can throw away the null hypothesis of the team that loses the coin toss since its p score is less than the alpha of 0.1. "
   ]
  },
  {
   "cell_type": "markdown",
   "metadata": {},
   "source": [
    "**1C)** Since the overtime change in 2020, actual NFL game data reveals that the team receiving the ball first has won 86 times and tied 10 times out of 164 total overtime games.  What are the corresponding Z-statistic $Z_{stat}$, p-value, and critical value $z_\\alpha$?  What decision would you make with this data?"
   ]
  },
  {
   "cell_type": "code",
   "execution_count": 4,
   "metadata": {},
   "outputs": [
    {
     "name": "stdout",
     "output_type": "stream",
     "text": [
      "zstat, zcrit, and pvalue for team that won coin toss:  1.5425744683748206 1.6448536269514722 0.06146702837025908\n",
      "Values for team that lost coin toss:                 -5.399010639311869 1.6448536269514722 3.3504700283429875e-08\n"
     ]
    }
   ],
   "source": [
    "mean = 86/164\n",
    "zcrit=stats.norm.ppf(1-0.05)\n",
    "# zstat = (mean-0.5)/(np.sqrt(10/500))\n",
    "\n",
    "zstat = (mean-0.5)/np.sqrt((0.5*0.5)/1000)\n",
    "\n",
    "#                   (p1-p2)\n",
    "#   z = ------------------------------\n",
    "#            sqrt(p2(1-p2)(1/1000))\n",
    "\n",
    "#H1 > H0\n",
    "\n",
    "pv1 = 1 - stats.norm.cdf(zstat)\n",
    "\n",
    "print(\"zstat, zcrit, and pvalue for team that won coin toss: \", zstat,zcrit,pv1)\n",
    "\n",
    "# Win prob for team 2 used\n",
    "\n",
    "mean2 = 68/164 # real value x hat\n",
    "zstat2 = (mean2-0.5)/math.sqrt((0.5*0.5)/1000)\n",
    "# zstat2 = (mean2-0.5)/(np.sqrt(10/500))\n",
    "\n",
    "# H1 < H0\n",
    "\n",
    "pv2 = stats.norm.cdf(zstat2)\n",
    "\n",
    "print(\"Values for team that lost coin toss:                \", zstat2,zcrit,pv2)"
   ]
  },
  {
   "cell_type": "markdown",
   "metadata": {},
   "source": [
    "In this case we can keep the null hypothesis for team 1 but continue to reject the null hypothesis for team 2, as the z value is less than -zcrit value."
   ]
  },
  {
   "cell_type": "markdown",
   "metadata": {},
   "source": [
    "<br>\n",
    "\n",
    "---\n",
    "<a/ id='p2'></a>\n",
    "[Back to top](#top)\n",
    "## [15 points] Problem 2- The power!\n",
    "\n",
    "Dale and Brennan were gifted a Playstation, and have replaced playing sports and card games with endless games of FIFA against one another.  Dale is happy to just play and have fun, but Brennan is very interested in demonstrating his superiority over his brother, and wants to *prove* that he's actually better at the game.\n",
    "\n",
    "Suppose they play 100 games and record the results.  Let $B$ be the number of wins for Brennan in 100 games of FIFA, where we perhaps denote the *true* probability of Brennan winning any given game by $p$. \n",
    "\n",
    "Similar to the Belgian Euro example, we hope to *test* whether this set of games is biased **towards Brennan**.\n",
    "\n",
    "#### Part a)\n",
    "\n",
    "State the null and alternative hypotheses.\n"
   ]
  },
  {
   "cell_type": "markdown",
   "metadata": {},
   "source": [
    "$H_0: p = 0.5$ <br>\n",
    "$H_1: p > 0.5$"
   ]
  },
  {
   "cell_type": "markdown",
   "metadata": {},
   "source": [
    "\n",
    "#### Part b)\n",
    "Suppose we define the rejection region to be $B > 59$. \n",
    "\n",
    "Calculate the rate of type I error of this test. (For this, and all remaining parts, calculate probabilities **exactly**, i.e., without using a normal approximation)\n"
   ]
  },
  {
   "cell_type": "code",
   "execution_count": 5,
   "metadata": {},
   "outputs": [
    {
     "data": {
      "text/plain": [
       "0.9823998998911476"
      ]
     },
     "execution_count": 5,
     "metadata": {},
     "output_type": "execute_result"
    }
   ],
   "source": [
    "# 60 wins, 100 games, null p\n",
    "stats.binom.cdf(60,100,0.5)"
   ]
  },
  {
   "cell_type": "markdown",
   "metadata": {},
   "source": [
    "\n",
    "#### Part c)\n",
    "\n",
    "Simulate a single dataset (or appropriate summary of a dataset) under the null hypothesis, and apply your test from part (a). State your conclusion. Is your conclusion in error? If so, which type?\n",
    "\n",
    "Repeat this process 1000 times in total and verify that the error rate appears consistent with your calculations in part b).\n"
   ]
  },
  {
   "cell_type": "code",
   "execution_count": null,
   "metadata": {},
   "outputs": [],
   "source": []
  },
  {
   "cell_type": "markdown",
   "metadata": {},
   "source": [
    "\n",
    "#### Part d)\n",
    "Consider that the *reality* of Brenann being favored to win could take on any possible different value of actual bias $p>.5$, and how well we make our decisions depends on *how* favored Brennan actually is!  Construct a grid/list of some possible values $p$ for the alternative hypothesis $p_{alt}=[0.51,0.52,0.53, \\dots .99, 1.00]$.\n",
    "\n",
    "For each value of $p$ in this list, calculate the **power** of the test from part $a$.  Return exact values rather than simulated/estimated probabilities.\n",
    "\n",
    "(Recall: statistical **power** is the probability of rejecting the null hypothesis while the alternative hypothesis is true, so it's the probability of corrected *detecting* that Brennan is the better player). \n",
    "\n",
    "Plot the power ($y$-axis) against $p$ ($x$-axis) over each of these scenarios. \n",
    "\n",
    "Interpret/comment on this plot. Specifically, as $p$ gets *further* from the specified $p=p_0$ under the null hypothesis, what happens to the power?"
   ]
  },
  {
   "cell_type": "code",
   "execution_count": null,
   "metadata": {},
   "outputs": [],
   "source": []
  },
  {
   "cell_type": "markdown",
   "metadata": {},
   "source": []
  },
  {
   "cell_type": "markdown",
   "metadata": {},
   "source": [
    "#### Part e)\n",
    "\n",
    "(e) Suppose we allowed other rejection regions than $B>59$.  Use the ideas in part (d) to answer the following: how many plays $m$ of a game are necessary to achieve both $\\alpha=0.05$ **and** $\\beta=0.05$ for the hypothesis in part (a).  You may focus on the \"hardest to detect\" value of $p_{alt}$ from the list in part d.\n",
    "\n",
    "In other words: suppose that **either** Brennan is perfectly matches with Dale **or** that Brennan wins exactly 51% of the time.  How many games do they have to play to be able to correctly diagnose both cases 95% of the time?\n",
    "\n",
    "*Hint*: You can brute force this to find the first value of $n$ that satisfies the requirement.  Intuition: to be able to tell a 50% \"coin\" and a 51% coin apart might take quite a few flips..."
   ]
  },
  {
   "cell_type": "markdown",
   "metadata": {},
   "source": []
  },
  {
   "cell_type": "code",
   "execution_count": null,
   "metadata": {
    "scrolled": true
   },
   "outputs": [],
   "source": []
  },
  {
   "attachments": {
    "car%20grid%20hw1.drawio-2.png": {
     "image/png": "[encoded data removed]"
    }
   },
   "cell_type": "markdown",
   "metadata": {},
   "source": [
    "\n",
    "## Problem 3 (Hypothesis Simulation; 20 points)\n",
    "***\n",
    "Suppose our goal is to outperform a very naive self-driving vehicle. This vehicle is so simple that its motion is entirely random!  The goal is for both our self-driving \"car\" and the comparison \"random\" car is to make it from the starting location in the bottom left in Cartesian coordiantes (0,0) and make it to the end goal at (5,2).\n",
    "\n",
    "![car%20grid%20hw1.drawio-2.png](attachment:car%20grid%20hw1.drawio-2.png)\n",
    "\n",
    "Movement for the \"random\" car occurs under the following rules:\n",
    "- Each time step, the car will attempt to choose a cardinal direction to move out of (N, S, W, E)\n",
    "- It will choose to move the **same** direction as its prior motion exactly 50% of the time\n",
    "- It will choose to turn left or right exactly 25% of the time, each.  (So if it was going North, it could stay North or turn to East or West.)\n",
    "- If a movement chosen would result in it leaving the 7x4 region shown, it will choose again from the same options and probabilities until a valid movement is chosen.\n",
    "\n",
    "The car is done moving as soon as it enters the square at (5,2).  It starts at (0,0), and moves as though its prior move was to the East.\n",
    "\n",
    "**Part A**: Needless to say, this car isn't very smart.  Simulate 10,000 \"journies\" of this randomly moving car, saving how many movements were required to reach (5,2). You may use any syntax/API you want, but one option is loosely outlined below."
   ]
  },
  {
   "cell_type": "code",
   "execution_count": 6,
   "metadata": {},
   "outputs": [],
   "source": [
    "#mapping direction indices as clockwise; 0=N, 1=E, 2=S, 3=E.  Makes for a nice way to estimate probs.\n",
    "cartesian_directions=np.array([(0,1), (1,0), (0,-1), (-1,0)])\n",
    "\n",
    "\n",
    "# p denotes past move, compares to see if past move is 1, which means that it was a previous move, true false\n",
    "\n",
    "\n",
    "def journey(initial_location, initial_direction, goal_location):\n",
    "    \n",
    "    n = 0\n",
    "    np = 0\n",
    "    s = 0\n",
    "    sp= 0\n",
    "    # Prior move = east\n",
    "    e = 1\n",
    "    ep = 0\n",
    "    w = 0\n",
    "    wp = 0\n",
    "    \n",
    "    # Counter\n",
    "    movement = 0\n",
    "    \n",
    "    # coordinates\n",
    "    x = 0\n",
    "    y = 0\n",
    "    \n",
    "    if (x != 5 and y != 2):\n",
    "        if(e==1):\n",
    "            move = np.random.choice([0,1,2,3], 1, [0.25,0.5,0.25,0.25]\n",
    "                                    if ()\n",
    "        \n",
    "    else:\n",
    "        return movements\n",
    "        break\n"
   ]
  },
  {
   "cell_type": "code",
   "execution_count": 7,
   "metadata": {},
   "outputs": [
    {
     "ename": "NameError",
     "evalue": "name 'movements' is not defined",
     "output_type": "error",
     "traceback": [
      "\u001b[1;31m---------------------------------------------------------------------------\u001b[0m",
      "\u001b[1;31mNameError\u001b[0m                                 Traceback (most recent call last)",
      "\u001b[1;32m<ipython-input-7-af8c91d1d2ed>\u001b[0m in \u001b[0;36m<module>\u001b[1;34m\u001b[0m\n\u001b[1;32m----> 1\u001b[1;33m \u001b[0mresults\u001b[0m\u001b[1;33m=\u001b[0m\u001b[0mnp\u001b[0m\u001b[1;33m.\u001b[0m\u001b[0marray\u001b[0m\u001b[1;33m(\u001b[0m\u001b[1;33m[\u001b[0m\u001b[0mjourney\u001b[0m\u001b[1;33m(\u001b[0m\u001b[1;33m(\u001b[0m\u001b[1;36m0\u001b[0m\u001b[1;33m,\u001b[0m\u001b[1;36m0\u001b[0m\u001b[1;33m)\u001b[0m\u001b[1;33m,\u001b[0m \u001b[1;36m1\u001b[0m\u001b[1;33m,\u001b[0m \u001b[1;33m[\u001b[0m\u001b[1;36m5\u001b[0m\u001b[1;33m,\u001b[0m \u001b[1;36m2\u001b[0m\u001b[1;33m]\u001b[0m\u001b[1;33m)\u001b[0m \u001b[1;32mfor\u001b[0m \u001b[0m_\u001b[0m \u001b[1;32min\u001b[0m \u001b[0mrange\u001b[0m\u001b[1;33m(\u001b[0m\u001b[1;36m10\u001b[0m\u001b[1;33m**\u001b[0m\u001b[1;36m4\u001b[0m\u001b[1;33m)\u001b[0m\u001b[1;33m]\u001b[0m\u001b[1;33m)\u001b[0m\u001b[1;33m\u001b[0m\u001b[1;33m\u001b[0m\u001b[0m\n\u001b[0m",
      "\u001b[1;32m<ipython-input-7-af8c91d1d2ed>\u001b[0m in \u001b[0;36m<listcomp>\u001b[1;34m(.0)\u001b[0m\n\u001b[1;32m----> 1\u001b[1;33m \u001b[0mresults\u001b[0m\u001b[1;33m=\u001b[0m\u001b[0mnp\u001b[0m\u001b[1;33m.\u001b[0m\u001b[0marray\u001b[0m\u001b[1;33m(\u001b[0m\u001b[1;33m[\u001b[0m\u001b[0mjourney\u001b[0m\u001b[1;33m(\u001b[0m\u001b[1;33m(\u001b[0m\u001b[1;36m0\u001b[0m\u001b[1;33m,\u001b[0m\u001b[1;36m0\u001b[0m\u001b[1;33m)\u001b[0m\u001b[1;33m,\u001b[0m \u001b[1;36m1\u001b[0m\u001b[1;33m,\u001b[0m \u001b[1;33m[\u001b[0m\u001b[1;36m5\u001b[0m\u001b[1;33m,\u001b[0m \u001b[1;36m2\u001b[0m\u001b[1;33m]\u001b[0m\u001b[1;33m)\u001b[0m \u001b[1;32mfor\u001b[0m \u001b[0m_\u001b[0m \u001b[1;32min\u001b[0m \u001b[0mrange\u001b[0m\u001b[1;33m(\u001b[0m\u001b[1;36m10\u001b[0m\u001b[1;33m**\u001b[0m\u001b[1;36m4\u001b[0m\u001b[1;33m)\u001b[0m\u001b[1;33m]\u001b[0m\u001b[1;33m)\u001b[0m\u001b[1;33m\u001b[0m\u001b[1;33m\u001b[0m\u001b[0m\n\u001b[0m",
      "\u001b[1;32m<ipython-input-6-3b2d3bbf7e84>\u001b[0m in \u001b[0;36mjourney\u001b[1;34m(initial_location, initial_direction, goal_location)\u001b[0m\n\u001b[0;32m      8\u001b[0m \u001b[1;32mdef\u001b[0m \u001b[0mjourney\u001b[0m\u001b[1;33m(\u001b[0m\u001b[0minitial_location\u001b[0m\u001b[1;33m,\u001b[0m \u001b[0minitial_direction\u001b[0m\u001b[1;33m,\u001b[0m \u001b[0mgoal_location\u001b[0m\u001b[1;33m)\u001b[0m\u001b[1;33m:\u001b[0m\u001b[1;33m\u001b[0m\u001b[1;33m\u001b[0m\u001b[0m\n\u001b[0;32m      9\u001b[0m \u001b[1;33m\u001b[0m\u001b[0m\n\u001b[1;32m---> 10\u001b[1;33m     \u001b[1;32mreturn\u001b[0m \u001b[0mmovements\u001b[0m\u001b[1;33m\u001b[0m\u001b[1;33m\u001b[0m\u001b[0m\n\u001b[0m",
      "\u001b[1;31mNameError\u001b[0m: name 'movements' is not defined"
     ]
    }
   ],
   "source": [
    "results=np.array([journey((0,0), 1, [5, 2]) for _ in range(10**4)])"
   ]
  },
  {
   "cell_type": "markdown",
   "metadata": {},
   "source": [
    "**Part B**: Create a density histogram of the number of movements observed until the naive car reaches (5,2).  Label axes, and include a title.  Does this appear to be normally distributed? Why would we care?\n",
    "    "
   ]
  },
  {
   "cell_type": "code",
   "execution_count": null,
   "metadata": {},
   "outputs": [],
   "source": []
  },
  {
   "cell_type": "markdown",
   "metadata": {},
   "source": []
  },
  {
   "cell_type": "markdown",
   "metadata": {},
   "source": [
    "**Part C**: You and your team design a new car, and thankfully it uses a **different** algorithm to determine how and where to move.  Unfortunately, you don't get a sample size of 10,000 samples from your car, since it actually drives on a small track.  You drive it on a similar grid to the above 10 times, and find that over those 10 times your car averaged 16 moves, and had a median of 17 moves.  Is this demonstrably better than the car you simulated in parts **A** and **B**?  Answer with the following prompts:\n",
    "\n",
    "**C1**: What is your estimated probability that a single trip of the \"random\" car takes 16 moves or less?\n",
    "\n",
    "**C2**: What would you estimate the probability to be that an *average* number of movements over 10 trips is 16 or less?\n",
    "     \n",
    "**C3**: Suppose we were to create a 1-tailed hypothesis test of the form \"I reject the null hypothesis that my car of the same quality as the random car if a set of 10 trials has an average number of movements less than or equal to $c$.\"  What would you choose for $c$ if you wanted a probability of Type I error of .04 or less?\n",
    "\n",
    "**C4**: Would your results in parts **C1**-**C3** change it all if we compared the *medians* instead of the *means* of your car versus the \"random\" car?\n",
    "\n",
    "**C5**: What can you safely (with statistical rigor!) tell people about your new car?\n",
    "\n",
    "*Hint*: `np.reshape` is a nice way to group your original simulations into sets-of-10, if that interests you"
   ]
  },
  {
   "cell_type": "code",
   "execution_count": null,
   "metadata": {},
   "outputs": [],
   "source": []
  },
  {
   "cell_type": "markdown",
   "metadata": {},
   "source": []
  }
 ],
 "metadata": {
  "kernelspec": {
   "display_name": "Python 3",
   "language": "python",
   "name": "python3"
  },
  "language_info": {
   "codemirror_mode": {
    "name": "ipython",
    "version": 3
   },
   "file_extension": ".py",
   "mimetype": "text/x-python",
   "name": "python",
   "nbconvert_exporter": "python",
   "pygments_lexer": "ipython3",
   "version": "3.8.8"
  }
 },
 "nbformat": 4,
 "nbformat_minor": 2
}
