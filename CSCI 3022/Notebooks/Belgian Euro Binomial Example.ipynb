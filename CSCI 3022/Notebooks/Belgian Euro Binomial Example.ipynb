{
 "cells": [
  {
   "cell_type": "markdown",
   "metadata": {},
   "source": [
    "# The Belgian Euro"
   ]
  },
  {
   "cell_type": "code",
   "execution_count": 1,
   "metadata": {},
   "outputs": [],
   "source": [
    "##Get them states in here\n",
    "import numpy as np \n",
    "import pandas as pd \n",
    "from scipy import stats\n",
    "import matplotlib.pylab as plt \n",
    "%matplotlib inline"
   ]
  },
  {
   "cell_type": "code",
   "execution_count": 42,
   "metadata": {},
   "outputs": [
    {
     "name": "stdout",
     "output_type": "stream",
     "text": [
      "Prob. of exact outcome:  0.04394531249999999\n",
      "Prob. of outcome or more H:  0.0546875\n",
      "Prob. of outcome or more H OR T:  0.109375\n"
     ]
    },
    {
     "data": {
      "text/plain": [
       "<matplotlib.lines.Line2D at 0x1415bfc0390>"
      ]
     },
     "execution_count": 42,
     "metadata": {},
     "output_type": "execute_result"
    },
    {
     "data": {
      "image/png": "[encoded data removed]",
      "text/plain": [
       "<matplotlib.figure.Figure at 0x1415ac5bd68>"
      ]
     },
     "metadata": {},
     "output_type": "display_data"
    }
   ],
   "source": [
    "#So we flip our coin 10 times and we observe k heads.  So what?\n",
    "nflips=10 #sample size\n",
    "k=8 #observed heads; \n",
    "p=0.50\n",
    "outcomes=np.linspace(0,nflips,nflips+1) #set of all outcomes forsummand\n",
    "\n",
    "#Probability of exactly that many heads if the coin is fair\n",
    "print('Prob. of exact outcome: ',stats.binom.pmf(k, n=nflips, p=p))\n",
    "\n",
    "#Probability of that many heads OR MORE if the coin is fair\n",
    "print('Prob. of outcome or more H: ', np.sum([stats.binom.pmf(j, n=nflips, p=p) \\\n",
    "                                              for j in outcomes[outcomes>=k]]))\n",
    "\n",
    "#Probability of that many (heads OR tails) OR MORE if coin is fair\n",
    "print('Prob. of outcome or more H OR T: ', 2*np.sum([stats.binom.pmf(j, n=nflips, p=p) \\\n",
    "                                              for j in outcomes[outcomes>=k]]))\n",
    "\n",
    "#NB: (prior line assumed k>n/2; else result is 1; if non-symmetry would need compound outcomes boolean)\n",
    "\n",
    "##visually:\n",
    "xgrd=np.linspace(0,nflips,nflips+1)\n",
    "plt.scatter(xgrd, stats.binom.pmf(xgrd, n=nflips, p=.5)) #scatter over a line plot for a pmf\n",
    "plt.axvline(k, color='red')\n",
    "plt.axvline(nflips-k, color='red')"
   ]
  },
  {
   "cell_type": "code",
   "execution_count": 39,
   "metadata": {},
   "outputs": [
    {
     "name": "stdout",
     "output_type": "stream",
     "text": [
      "Prob. of outcome or more H OR T:  0.0936872914755572\n"
     ]
    }
   ],
   "source": [
    "#So we flip our coin n times and we observe k heads.  So what?\n",
    "#REJECTION REGIONS: how many H/T until that's 10% or less of the outcomes?\n",
    "#for 10 flips; check k=8, k=9\n",
    "#for 100 flips; check 58,59\n",
    "#for 1000 flips; check 526-527\n",
    "\n",
    "nflips=1000 #sample size\n",
    "k=527 #observed heads; \n",
    "p=0.50\n",
    "outcomes=np.linspace(0,nflips,nflips+1) #set of all outcomes forsummand\n",
    "\n",
    "#Probability of that many (heads OR tails) OR MORE if coin is fair\n",
    "print('Prob. of outcome or more H OR T: ', np.sum([stats.binom.pmf(j, n=nflips, p=p) \\\n",
    "                                              for j in outcomes[outcomes>=k]])+\\\n",
    "                                            np.sum([stats.binom.pmf(j, n=nflips, p=p) \\\n",
    "                                              for j in outcomes[outcomes<=(nflips-k)]])\n",
    "     )\n"
   ]
  },
  {
   "cell_type": "markdown",
   "metadata": {},
   "source": [
    "Suppose we want to find the values of \"k\" for the **rejection region** directly.  This lives in the .ppf!  \n",
    "\n",
    "\"Find the number of heads so that only 5% of the time we see that many heads on a fair coin\" is a rephrasing of our goal."
   ]
  },
  {
   "cell_type": "code",
   "execution_count": 41,
   "metadata": {},
   "outputs": [
    {
     "name": "stdout",
     "output_type": "stream",
     "text": [
      "526.0\n"
     ]
    }
   ],
   "source": [
    "nflips=1000 #sample size\n",
    "p=0.5\n",
    "\n",
    "print(stats.binom.ppf(1-.05, n=nflips, p=p))\n",
    "\n",
    "#This is giving the last value in the \"accept\" region, not the first in the reject region!\n",
    "#why?  because above we have outcomes>=k, and .ppf looks for values of the form <=k, like a cdf.\n",
    "#for a discrete RV, where we have the equals sign matters!"
   ]
  },
  {
   "cell_type": "markdown",
   "metadata": {},
   "source": [
    "Final note: binomials with more than 10 heads and more than 10 tails are *approximately normal*.  So we could get the same estimate by using the Normal distribution!\n",
    "\n",
    "Since a sample probability $\\hat{p} \\stackrel{approx}{\\sim} N\\left(p,\\frac{p(1-p)}{n} \\right)$\n",
    "\n",
    "we can get the same number of heads/tails by asking about what $z$-value represents \"a 10% error\" and then convert that number back to probabilities by adding in the **mean** p and multiplying in the **standard deviation** $\\sqrt{\\frac{p(1-p)}{n}}$"
   ]
  },
  {
   "cell_type": "code",
   "execution_count": 23,
   "metadata": {},
   "outputs": [
    {
     "name": "stdout",
     "output_type": "stream",
     "text": [
      "Reject if proportion of heads/tails is at least 0.5260074193937778\n",
      "Reject if number of heads/tails is at least 526.0074193937778\n"
     ]
    }
   ],
   "source": [
    "nflips=1000 #sample size\n",
    "p=0.5\n",
    "z_score=stats.norm.ppf(1-.05) #LOCATION on the normal with 5% \"error\" area above\n",
    "#this also means we have the other 5% error area below (-1)*z_score.\n",
    "\n",
    "#converted to probabilities\n",
    "#that region's z-value spread out to match probabilities, then centered at .5\n",
    "prob_region=p+z_score*np.sqrt(p*(1-p)/nflips) \n",
    "print('Reject if proportion of heads/tails is at least', prob_region)\n",
    "print('Reject if number of heads/tails is at least', nflips*prob_region)"
   ]
  }
 ],
 "metadata": {
  "kernelspec": {
   "display_name": "Python 3",
   "language": "python",
   "name": "python3"
  },
  "language_info": {
   "codemirror_mode": {
    "name": "ipython",
    "version": 3
   },
   "file_extension": ".py",
   "mimetype": "text/x-python",
   "name": "python",
   "nbconvert_exporter": "python",
   "pygments_lexer": "ipython3",
   "version": "3.8.8"
  }
 },
 "nbformat": 4,
 "nbformat_minor": 2
}
