{
 "cells": [
  {
   "cell_type": "markdown",
   "metadata": {},
   "source": [
    "<a id='top'></a>\n",
    "\n",
    "# CSCI3022 S22\n",
    "\n",
    "\n",
    "\n",
    "# Exam 1 Coding\n",
    "\n",
    "## Due Friday, March 18 at 11:59 pm to Canvas and Gradescope\n",
    "***\n",
    "\n",
    "**Name**: Matthew Su\n",
    "\n",
    "***\n",
    "\n",
    "This exam coding segment is due on Canvas by **11:59 PM on Friday March 18*. Your solutions to theoretical questions should be done in Markdown/MathJax directly below the associated question.  Your solutions to computational questions should include any specified Python code and results as well as written commentary on your conclusions.  \n",
    "\n",
    "**Here are the rules:** \n",
    "\n",
    "1. All work, code and analysis, must be your own. \n",
    "2. You may use your course notes, posted lecture slides, textbooks, in-class notebooks, and homework solutions as resources.  You may also search online for answers to general knowledge questions like the form of a probability distribution function or how to perform a particular operation in Python/Pandas. \n",
    "3. This is meant to be like a coding portion of your midterm exam. So, the instructional team will be a bit less helpful than we typically are with homework. For example, we will not check answers, significantly debug your code, and so on.  But please don't feel like you're totally alone on this: feel free to ask questions or ask for help, and we will decide how best to provide that assistance.\n",
    "4. If something is left open-ended, it is because we want to see how you approach the kinds of problems you will encounter in the wild, where it will not always be clear what sort of tests/methods should be applied. Feel free to ask clarifying questions though.\n",
    "5. You may **NOT** post to message boards or other online resources asking for help.\n",
    "6. You may **NOT** copy-paste solutions *from anywhere*.\n",
    "7. You may **NOT** collaborate with classmates or anyone else.\n",
    "8. In short, **your work must be your own**. It really is that simple.\n",
    "\n",
    "Violation of the above rules will result in an immediate academic sanction (*at the very least*, you will receive a 0 on this exam coding assignment or an F in the course, depending on severity), and a trip to the Honor Code Council.\n",
    "\n",
    "**By submitting this assignment, you agree to abide by the rules given above.**\n",
    "\n",
    "***\n",
    "\n",
    "**NOTES**: \n",
    "\n",
    "- You may not use late days on the exam coding nor can you drop your exam coding grades. \n",
    "- If you have a question for us, post it as a **PRIVATE** message on Piazza.  If we decide that the question is appropriate for the entire class, then we will add it to a exam coding clarifications thread. (NB: you should use public posts for the epidemiology \"warmup\" prompts).\n",
    "- Do **NOT** load or use any Python packages that are not available in Anaconda 3.6. The exam coding assignmnet is designed to be completed using only the packages in the first given code cell.\n",
    "- Some problems with code may be autograded.  If we provide a function API **do not** change it.  If we do not provide a function API then you're free to structure your code however you like. \n",
    "- This should go without saying, but... For any question that asks you to calculate something, you **must show all work to receive credit**. Sparse or nonexistent work will receive sparse or nonexistent credit.\n",
    "- There is *not a prescribed API* for these problems.  You may answer coding questions with whatever syntax or object typing you deem fit.  Your evaluation will primarily live in the clarity of how well you present your final results, so don't skip over any interpretations!  Your code should still be commented and readable to ensure you followed the given course algorithm.\n",
    "- There are two ways to quickly make a .pdf out of this notebook for Gradescope submission.  Either:\n",
    " - Use File -> Download as PDF via LaTeX.  This will require your system path find a working install of a TeX compiler\n",
    " - Easier: Use File ->  Print Preview, and then Right-Click -> Print using your default browser and \"Print to PDF\"\n",
    "\n",
    "---\n",
    "**Shortcuts:**  [Problem 1](#p1) | [Problem 2](#p2) | [Problem 3](#p3) | [Bottom](#bot)\n",
    "\n",
    "---"
   ]
  },
  {
   "cell_type": "code",
   "execution_count": 11,
   "metadata": {},
   "outputs": [],
   "source": [
    "import numpy as np\n",
    "import pandas as pd\n",
    "import matplotlib.pylab as plt\n",
    "import scipy.stats as stats\n",
    "import itertools\n",
    "%matplotlib inline"
   ]
  },
  {
   "cell_type": "markdown",
   "metadata": {},
   "source": [
    "[Back to top](#top)\n",
    "\n",
    "<a id='p1'></a>\n",
    "\n",
    "## 30 pts) Problem 1 (Theory and Computation): Working with Distributions\n",
    "***\n",
    "\n",
    "Here in CSCI3022, we're Arsenal fans.  They have a cool shade of red, we've been itching for some soccer hooliganism in our lives, and really nobody wants to root for Tottenham.\n",
    "\n",
    "Suppose that the English soccer leagues decide to redo their not-very-prestigous Carabao Cup.  Under the new format, the top 4 teams will each play one another **twice**, for a total of 6 games played for each team or 12 games total.  The teams in 2023 are announced as: `[Arsenal, ManUtd, Liverpool, Chelsea]`.  We rejoice, because Arsenal are in and Tottenham aren't!  Losers!\n",
    "\n",
    "We then decide to begin to tackle some data science questions.  We survey some data from prior years, and conclude that each match is *independent* of other matches.  Further, we have following probabilities, which we are confident should hold in 2023:\n",
    "\n",
    "- Arsenal  will beat ManUtd  60% of the time.\n",
    "- Arsenal will beat Chelsea 30% of the time.\n",
    "- Arsenal will beat Liverpool 50% of the time.\n",
    "- ManUtd will beat Liverpool 40% of the time.\n",
    "- ManUtd will beat Chelsea 50% of the time.\n",
    "- Chelsea will beat Liverpool 60% of the time.\n",
    "\n",
    "There are no ties (games go to shootouts), so each game is a win for one team and a loss for the other.\n",
    "\n",
    "At the end of the tournament, the team with the most wins in their 6 games is the winner (or has a share of the title).\n"
   ]
  },
  {
   "cell_type": "markdown",
   "metadata": {},
   "source": [
    "**A**: Using Markdown, what is the exact probability that Aresenal beats Chelsea both times they play?"
   ]
  },
  {
   "cell_type": "markdown",
   "metadata": {},
   "source": [
    "$0.3 * 0.3 = 0.09$ or the probability that Aresenal beats Chelsea both times they play."
   ]
  },
  {
   "cell_type": "markdown",
   "metadata": {},
   "source": [
    "**B**: Using a single call to `scipy.stats`, verify your answer to part **A**."
   ]
  },
  {
   "cell_type": "code",
   "execution_count": 12,
   "metadata": {},
   "outputs": [
    {
     "data": {
      "text/plain": [
       "0.08999999999999998"
      ]
     },
     "execution_count": 12,
     "metadata": {},
     "output_type": "execute_result"
    }
   ],
   "source": [
    "stats.binom.pmf(2,2,0.3)"
   ]
  },
  {
   "cell_type": "markdown",
   "metadata": {},
   "source": [
    "**C**: Using Markdown, what are the exact **expected** number of wins for Aresenal and the **variance** of that number?\n",
    "\n",
    "*Reminder: if you're summing two independent random variables, both the means and variances also sum!*"
   ]
  },
  {
   "cell_type": "markdown",
   "metadata": {},
   "source": [
    "Expected Wins = $(0.6 * 2) + (0.3 * 2) + (0.5 * 2) = 2.8$ <br><br>\n",
    "Variance = $((0.6*4) + (0.3 * 4) + (0.5 * 4)) - (2.8)^2 = $\n",
    "\n"
   ]
  },
  {
   "cell_type": "markdown",
   "metadata": {},
   "source": [
    "**D**:  Using one or more calls to `scipy.stats`, verify your answer to part **C**."
   ]
  },
  {
   "cell_type": "code",
   "execution_count": 13,
   "metadata": {},
   "outputs": [
    {
     "data": {
      "text/plain": [
       "0.5399999999999999"
      ]
     },
     "execution_count": 13,
     "metadata": {},
     "output_type": "execute_result"
    }
   ],
   "source": [
    "stats.binom.pmf(2,2,0.3) + stats.binom.pmf(2,2,0.6) + stats.binom.pmf(2,2,0.3)"
   ]
  },
  {
   "cell_type": "markdown",
   "metadata": {},
   "source": [
    "**E**:  Write a function `sim_tournament` that simulates all 12 games with the probabilities above.  For each team, return their number of wins from that simulation.  Afterwards (outside the function itself), run it once and print the number of wins for each team after that one tournament.\n",
    "\n",
    "*Usage note*: You may find that storing the win probabilities given in a $4 \\times 4$ matrix/array makes it easier to loop over all of the 6 possible matchups.  You could use set it up where e.g. the $(i,j)th$ entry is the probability that team $i$ beats team $j$."
   ]
  },
  {
   "cell_type": "code",
   "execution_count": 35,
   "metadata": {},
   "outputs": [],
   "source": [
    "def sim_tournament(n):\n",
    "\n",
    "    # I could probably have done this more efficently, but I was aiming for easy of debugging and to make sure I covered all cases correctly\n",
    "    TotA = 0\n",
    "    TotC = 0\n",
    "    TotM = 0\n",
    "    TotL = 0\n",
    "\n",
    "    # Additional Counter to Count Ars Cup Wins/Shares \n",
    "    ArsChamps = 0\n",
    "\n",
    "    for j in range(n):\n",
    "        \n",
    "        ArsWins = 0\n",
    "        CheWins = 0\n",
    "        ManWins = 0\n",
    "        LivWins = 0\n",
    "\n",
    "        # Arsenal Games \n",
    "\n",
    "        for i in range(2):\n",
    "            result = np.random.choice(np.array([1,0]), p=[0.3,0.7])\n",
    "            if result == 1:\n",
    "                ArsWins += 1\n",
    "            else:\n",
    "                CheWins += 1\n",
    "\n",
    "        for i in range(2):\n",
    "            result = np.random.choice(np.array([1,0]), p=[0.6,0.4])\n",
    "            if result == 1:\n",
    "                ArsWins += 1\n",
    "            else:\n",
    "                ManWins += 1\n",
    "\n",
    "        for i in range(2):\n",
    "            result = np.random.choice(np.array([1,0]), p=[0.5,0.5])\n",
    "            if result == 1:\n",
    "                ArsWins += 1\n",
    "            else:\n",
    "                LivWins += 1\n",
    "\n",
    "        # ManU Games\n",
    "\n",
    "        for i in range(2):\n",
    "            result = np.random.choice(np.array([1,0]), p=[0.4,0.6])\n",
    "            if result == 1:\n",
    "                ManWins += 1\n",
    "            else:\n",
    "                LivWins += 1\n",
    "        for i in range(2):\n",
    "            result = np.random.choice(np.array([1,0]), p=[0.5,0.5])\n",
    "            if result == 1:\n",
    "                ManWins += 1\n",
    "            else:\n",
    "                CheWins += 1\n",
    "\n",
    "        # Chelsea Games\n",
    "\n",
    "        for i in range(2):\n",
    "            result = np.random.choice(np.array([1,0]), p=[0.6,0.4])\n",
    "            if result == 1:\n",
    "                CheWins += 1\n",
    "            else:\n",
    "                LivWins += 1\n",
    "\n",
    "        # Liverpool games are covered in every other team's instances of winning\n",
    "\n",
    "        TotA += ArsWins\n",
    "        TotC += CheWins\n",
    "        TotM += ManWins\n",
    "        TotL += LivWins\n",
    "\n",
    "        score = [ArsWins, CheWins, ManWins, LivWins]\n",
    "        # If the max score is equal to score[0] (or Arsenal Wins), we know that the max score out of the list of win totals for each tournament\n",
    "        # would either be the largest score or the score for which teams take a share of the title (a tie win I guess, man soccer is sad)\n",
    "        if max(score) == score[0]:\n",
    "\n",
    "            ArsChamps += 1\n",
    "        \n",
    "\n",
    "    \n",
    "    \n",
    "\n",
    "    print(\"Arsenal = {:.3f}, ManU = {:.3f}, Liverpool = {:.3f}, Chelsea = {:.3f}\".format((TotA/n), (TotM/n), (TotL/n), (TotC/n)))\n",
    "\n",
    "    print(\"Arsenal Win Probability: {:.3f}\".format(ArsChamps))\n"
   ]
  },
  {
   "cell_type": "markdown",
   "metadata": {},
   "source": [
    "**F**:  Call your `sim_tournament` function a sufficently large number of times to verify your answers in parts **C/D** in the simulations."
   ]
  },
  {
   "cell_type": "code",
   "execution_count": 39,
   "metadata": {},
   "outputs": [
    {
     "name": "stdout",
     "output_type": "stream",
     "text": [
      "Arsenal = 2.796, ManU = 2.619, Liverpool = 2.999, Chelsea = 3.586\n",
      "Arsenal Win Probability: 6.000\n"
     ]
    }
   ],
   "source": [
    "# sim_tournament(1)\n",
    "# sim_tournament(100)\n",
    "sim_tournament(10000)\n"
   ]
  },
  {
   "cell_type": "markdown",
   "metadata": {},
   "source": [
    "**G**:  Using your simulations from `sim_tournament`, estimate the probability that Arsenal wins outright or has a share of of the title."
   ]
  },
  {
   "cell_type": "code",
   "execution_count": null,
   "metadata": {},
   "outputs": [],
   "source": []
  },
  {
   "cell_type": "markdown",
   "metadata": {},
   "source": [
    "[Back to top](#top)\n",
    "\n",
    "<a id='p2'></a>\n",
    "\n",
    "## (30 pts) Problem 2 (Computation): Another Deck of Cards\n",
    "***\n",
    "\n",
    "Dale and Brennan are at their games again, but now the weather is not sports permitting.  So they're playing a variant of \"Egyptian Rat Slap,\" where players alternate revealing the top card off of a shuffled deck and can **slap** the card if its face matches the face of the card revealed previously.\n",
    "\n",
    "Unfortunately, they lost a bunch of cards off the deck, and have cobbled together an unusual assortment by stealing cards from their younger sibling and parents.  Their deck consists of:\n",
    "\n",
    "- The 40 \"ace through 10\" cards of a regular 52 card playing deck.  You may ignore suits in this problem, so for the purposes of their game this is 4 copies each of those 10 distinct faces.\n",
    "- 5 copies of the Shiny Holo \"Mudkip\" Pokemon card.\n",
    "- 1 \"Beta BGS 9 Quad 9+ Black Lotus\" Magic the Gathering card\n",
    "- 3 \"Olaf\" cards from the Frozen collectible card sets\n",
    "- 2 Michael Jordan Birmingham Barons cards\n",
    "\n",
    "Each time they play, they take turns flipping cards off the deck, with Dale revealing the first card.  The game is over as soon as two cards with the same face are revealed consecutively, and the player who revealed the second card of that matching pair wins.\n",
    "\n",
    "\n",
    "**A**: Create a function `ers(deck)` that:\n",
    "- Takes a list or np.array `deck` as input\n",
    "- Shuffles the deck, then checks if the entire deck could be revealed with consecutive matching faces or not.\n",
    "- If consecutive cards are drawn off the deck that share a face, record which player won by revealing the second card of the matching pair.\n",
    "\n",
    "Then run your function once and print the result, which should be one of: `[\"No consecutive matches\", \"Dale\",'Brennan\"].`\n",
    "\n",
    "*Usage notes*:\n",
    "- Your actual output can be integers or strings, but you should be able to convert them afterwards to the strings given.\n",
    "- You also may want to represent the entire deck as a list of integers, with repeats.  See `np.repeat`.\n",
    "- There are a lot of ways to check if consecutive cards match.  You can either loop over each card after shuffling (`np.shuffle` or `np.random.choice` can shuffle), or you can compare a deck ordering to the same ordering where you offset indices by one, or others you can maybe think of."
   ]
  },
  {
   "cell_type": "code",
   "execution_count": 15,
   "metadata": {},
   "outputs": [],
   "source": [
    "def ers(deck):\n",
    "    return 'what happened or something, up to you'"
   ]
  },
  {
   "cell_type": "markdown",
   "metadata": {},
   "source": [
    "**B**: Call your `ers` function a sufficently large number of times to estimate the probability that Dale and Brennan make it through a shuffle of the deck with *no* consecutive cards matching."
   ]
  },
  {
   "cell_type": "code",
   "execution_count": null,
   "metadata": {},
   "outputs": [],
   "source": []
  },
  {
   "cell_type": "markdown",
   "metadata": {},
   "source": [
    "**C**: Using intuition alone, which should be higher: the probability that Dale wins or the probability that Brennan wins?  You should revist the exercises in nb08 if needed.  Justify your intution in a sentence or two."
   ]
  },
  {
   "cell_type": "markdown",
   "metadata": {},
   "source": []
  },
  {
   "cell_type": "markdown",
   "metadata": {},
   "source": [
    "**D**: Check your intuition in **C** via your simulations from part **B**."
   ]
  },
  {
   "cell_type": "code",
   "execution_count": null,
   "metadata": {},
   "outputs": [],
   "source": []
  },
  {
   "cell_type": "markdown",
   "metadata": {},
   "source": [
    "\n",
    "---\n",
    "[Back to top](#top)\n",
    "<a id='p3'></a>\n",
    "## (40 pts) Problem 3 (Data): Working with Data\n"
   ]
  },
  {
   "cell_type": "markdown",
   "metadata": {},
   "source": [
    "The [Anage](https://genomics.senescence.info/species/index.html) database is a large repositiory of biological information, and includes various properties of various animals with an eye towards understanding the effects of aging in different species.  Most of the columns should be self-explanatory, but for more information you can consult their overview, [here](https://genomics.senescence.info/help.html#anage).\n",
    "\n",
    "A couple of [acronyms](https://genomics.senescence.info/software/demographic.html) in the columns: IMR stands for \"initial mortality rate,\" and represents non-age related deaths.  MRDT is the \"mortality doubling rate,\" and is a measure for the age-related species deaths.\n",
    "\n",
    "We will be exploring this data set in both of the Exam Coding assignments this semester.  For this assignment, we're going to do dive into primarily the birth weight column, and understand the different birth weights of various species.\n",
    "\n",
    "The data is loaded in with a couple of preliminary explorations below."
   ]
  },
  {
   "cell_type": "code",
   "execution_count": 16,
   "metadata": {
    "scrolled": false
   },
   "outputs": [
    {
     "name": "stdout",
     "output_type": "stream",
     "text": [
      "Index(['HAGRID', 'Kingdom', 'Phylum', 'Class', 'Order', 'Family', 'Genus',\n",
      "       'Species', 'Common name', 'Female maturity (days)',\n",
      "       'Male maturity (days)', 'Gestation/Incubation (days)', 'Weaning (days)',\n",
      "       'Litter/Clutch size', 'Litters/Clutches per year',\n",
      "       'Inter-litter/Interbirth interval', 'Birth weight (g)',\n",
      "       'Weaning weight (g)', 'Adult weight (g)', 'Growth rate (1/days)',\n",
      "       'Maximum longevity (yrs)', 'Source', 'Specimen origin', 'Sample size',\n",
      "       'Data quality', 'IMR (per yr)', 'MRDT (yrs)', 'Metabolic rate (W)',\n",
      "       'Body mass (g)', 'Temperature (K)', 'References'],\n",
      "      dtype='object')\n",
      "(4224, 31)\n"
     ]
    },
    {
     "data": {
      "text/html": [
       "<div>\n",
       "<style scoped>\n",
       "    .dataframe tbody tr th:only-of-type {\n",
       "        vertical-align: middle;\n",
       "    }\n",
       "\n",
       "    .dataframe tbody tr th {\n",
       "        vertical-align: top;\n",
       "    }\n",
       "\n",
       "    .dataframe thead th {\n",
       "        text-align: right;\n",
       "    }\n",
       "</style>\n",
       "<table border=\"1\" class=\"dataframe\">\n",
       "  <thead>\n",
       "    <tr style=\"text-align: right;\">\n",
       "      <th></th>\n",
       "      <th>HAGRID</th>\n",
       "      <th>Kingdom</th>\n",
       "      <th>Phylum</th>\n",
       "      <th>Class</th>\n",
       "      <th>Order</th>\n",
       "      <th>Family</th>\n",
       "      <th>Genus</th>\n",
       "      <th>Species</th>\n",
       "      <th>Common name</th>\n",
       "      <th>Female maturity (days)</th>\n",
       "      <th>...</th>\n",
       "      <th>Source</th>\n",
       "      <th>Specimen origin</th>\n",
       "      <th>Sample size</th>\n",
       "      <th>Data quality</th>\n",
       "      <th>IMR (per yr)</th>\n",
       "      <th>MRDT (yrs)</th>\n",
       "      <th>Metabolic rate (W)</th>\n",
       "      <th>Body mass (g)</th>\n",
       "      <th>Temperature (K)</th>\n",
       "      <th>References</th>\n",
       "    </tr>\n",
       "  </thead>\n",
       "  <tbody>\n",
       "    <tr>\n",
       "      <th>0</th>\n",
       "      <td>3.0</td>\n",
       "      <td>Animalia</td>\n",
       "      <td>Arthropoda</td>\n",
       "      <td>Branchiopoda</td>\n",
       "      <td>Diplostraca</td>\n",
       "      <td>Daphniidae</td>\n",
       "      <td>Daphnia</td>\n",
       "      <td>pulicaria</td>\n",
       "      <td>Daphnia</td>\n",
       "      <td>NaN</td>\n",
       "      <td>...</td>\n",
       "      <td>NaN</td>\n",
       "      <td>unknown</td>\n",
       "      <td>medium</td>\n",
       "      <td>acceptable</td>\n",
       "      <td>NaN</td>\n",
       "      <td>NaN</td>\n",
       "      <td>NaN</td>\n",
       "      <td>NaN</td>\n",
       "      <td>NaN</td>\n",
       "      <td>1.294130e+11</td>\n",
       "    </tr>\n",
       "    <tr>\n",
       "      <th>1</th>\n",
       "      <td>5.0</td>\n",
       "      <td>Animalia</td>\n",
       "      <td>Arthropoda</td>\n",
       "      <td>Insecta</td>\n",
       "      <td>Diptera</td>\n",
       "      <td>Drosophilidae</td>\n",
       "      <td>Drosophila</td>\n",
       "      <td>melanogaster</td>\n",
       "      <td>Fruit fly</td>\n",
       "      <td>7.0</td>\n",
       "      <td>...</td>\n",
       "      <td>NaN</td>\n",
       "      <td>captivity</td>\n",
       "      <td>large</td>\n",
       "      <td>acceptable</td>\n",
       "      <td>0.05</td>\n",
       "      <td>0.04</td>\n",
       "      <td>NaN</td>\n",
       "      <td>NaN</td>\n",
       "      <td>NaN</td>\n",
       "      <td>2.203250e+37</td>\n",
       "    </tr>\n",
       "    <tr>\n",
       "      <th>2</th>\n",
       "      <td>6.0</td>\n",
       "      <td>Animalia</td>\n",
       "      <td>Arthropoda</td>\n",
       "      <td>Insecta</td>\n",
       "      <td>Hymenoptera</td>\n",
       "      <td>Apidae</td>\n",
       "      <td>Apis</td>\n",
       "      <td>mellifera</td>\n",
       "      <td>Honey bee</td>\n",
       "      <td>NaN</td>\n",
       "      <td>...</td>\n",
       "      <td>812</td>\n",
       "      <td>unknown</td>\n",
       "      <td>medium</td>\n",
       "      <td>acceptable</td>\n",
       "      <td>NaN</td>\n",
       "      <td>NaN</td>\n",
       "      <td>NaN</td>\n",
       "      <td>NaN</td>\n",
       "      <td>NaN</td>\n",
       "      <td>6.340740e+54</td>\n",
       "    </tr>\n",
       "  </tbody>\n",
       "</table>\n",
       "<p>3 rows × 31 columns</p>\n",
       "</div>"
      ],
      "text/plain": [
       "   HAGRID   Kingdom      Phylum         Class        Order         Family  \\\n",
       "0     3.0  Animalia  Arthropoda  Branchiopoda  Diplostraca     Daphniidae   \n",
       "1     5.0  Animalia  Arthropoda       Insecta      Diptera  Drosophilidae   \n",
       "2     6.0  Animalia  Arthropoda       Insecta  Hymenoptera         Apidae   \n",
       "\n",
       "        Genus       Species Common name  Female maturity (days)  ...  Source  \\\n",
       "0     Daphnia     pulicaria     Daphnia                     NaN  ...     NaN   \n",
       "1  Drosophila  melanogaster   Fruit fly                     7.0  ...     NaN   \n",
       "2        Apis     mellifera   Honey bee                     NaN  ...     812   \n",
       "\n",
       "   Specimen origin  Sample size  Data quality  IMR (per yr)  MRDT (yrs)  \\\n",
       "0          unknown       medium    acceptable           NaN         NaN   \n",
       "1        captivity        large    acceptable          0.05        0.04   \n",
       "2          unknown       medium    acceptable           NaN         NaN   \n",
       "\n",
       "   Metabolic rate (W)  Body mass (g)  Temperature (K)    References  \n",
       "0                 NaN            NaN              NaN  1.294130e+11  \n",
       "1                 NaN            NaN              NaN  2.203250e+37  \n",
       "2                 NaN            NaN              NaN  6.340740e+54  \n",
       "\n",
       "[3 rows x 31 columns]"
      ]
     },
     "execution_count": 16,
     "metadata": {},
     "output_type": "execute_result"
    }
   ],
   "source": [
    "df=pd.read_csv('../data/AnAge.csv', encoding='UTF-8')\n",
    "print(df.columns) #information available: many numeric columns are blank for many species\n",
    "print(df.shape) #4224 species available\n",
    "df.head(3)"
   ]
  },
  {
   "cell_type": "markdown",
   "metadata": {},
   "source": [
    "**A**: Access an animal you like by its common name using `df.loc`, print the available data on that species, and explain why you like it."
   ]
  },
  {
   "cell_type": "code",
   "execution_count": null,
   "metadata": {},
   "outputs": [],
   "source": []
  },
  {
   "cell_type": "markdown",
   "metadata": {},
   "source": []
  },
  {
   "cell_type": "markdown",
   "metadata": {},
   "source": [
    "**B**: Birth weights are a very diverse variable.  Use `.describe` to get an overall view of the ranges of birth rates in the data."
   ]
  },
  {
   "cell_type": "code",
   "execution_count": null,
   "metadata": {},
   "outputs": [],
   "source": []
  },
  {
   "cell_type": "markdown",
   "metadata": {},
   "source": [
    "**C**: Create a series of histograms to explore the **shape** of the birth rate variable.\n",
    "\n",
    "- First, create a single histogram of birth rates, with 50 bins, labelled accordingly.  You should notice that it doesn't look very useful!\n",
    "- Next, create a figure with 4 density histograms, each with 20 bins, arranged into a 2-by-2 grid.  The first should histogram the birth weights of only animals whose birth weights are below 20g.  The second should show those whose weights are from 20g-200g; the third should show weights from 200g-2000g, and the fourth should show weights from 2000g-20000g.  What do you notice about the shapes of each of these histograms?  Are they skewed in a similar direction?  Label each histogram appropriately.\n",
    "- Finally, create a single histogram that shows the **logarithm** of birth weight across all of the available species in the data set.\n",
    "\n",
    "Then in Markdown speculate as to why might we want to use the last of these histograms instead of the original data values."
   ]
  },
  {
   "cell_type": "code",
   "execution_count": null,
   "metadata": {},
   "outputs": [],
   "source": []
  },
  {
   "cell_type": "markdown",
   "metadata": {},
   "source": []
  },
  {
   "cell_type": "markdown",
   "metadata": {},
   "source": [
    "**D**: Suppose we wanted to understand how humans and their closest relatives fit into this distribution.  To that end, we're going to explore species from the **primates**  order.  Our goal is to create a box plot of *each* of the **families** within the **primate** order.  But since a few of the families have very few individual species, instead create a box plot that contains a box for each primate **family** that has more than 11 \"birth weights\" present in the data  (more than 11 non-NaN rows).\n",
    "\n",
    "Put a vertical line for the birth weight of the \"sapiens\" species somewhere on the plot as a basis of comparison. \n",
    "\n",
    "In other words, you are to:\n",
    "- Figure out which families have primates actually have 12 or more species available\n",
    "- Make a box plot of the birth weights of **those** families\n",
    "- Figure out whether humans were already included in the plot you've made, and mark the human birth weight among primates somehow on the plot."
   ]
  },
  {
   "cell_type": "code",
   "execution_count": null,
   "metadata": {},
   "outputs": [],
   "source": []
  }
 ],
 "metadata": {
  "kernelspec": {
   "display_name": "Python 3",
   "language": "python",
   "name": "python3"
  },
  "language_info": {
   "codemirror_mode": {
    "name": "ipython",
    "version": 3
   },
   "file_extension": ".py",
   "mimetype": "text/x-python",
   "name": "python",
   "nbconvert_exporter": "python",
   "pygments_lexer": "ipython3",
   "version": "3.8.8"
  }
 },
 "nbformat": 4,
 "nbformat_minor": 2
}
