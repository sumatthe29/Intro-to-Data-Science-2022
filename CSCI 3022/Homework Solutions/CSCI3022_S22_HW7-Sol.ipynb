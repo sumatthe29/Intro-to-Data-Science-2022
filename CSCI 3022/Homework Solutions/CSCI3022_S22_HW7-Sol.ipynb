{
 "cells": [
  {
   "cell_type": "markdown",
   "metadata": {},
   "source": [
    "<a id='top'></a>\n",
    "\n",
    "# CSCI3022 S22\n",
    "\n",
    "\n",
    "\n",
    "# Homework 7: Bootstrapping and SLR\n",
    "\n",
    "## Due Monday, April 18 at 11:59 pm to Canvas and Gradescope\n",
    "***\n",
    "\n",
    "**Name**: ________________________________________________________________________\n",
    "\n",
    "***\n",
    "\n",
    "Your solutions to computational questions should include any specified Python code and results as well as written commentary on your conclusions.  Remember that you are encouraged to discuss the problems with your classmates, but **you must write all code and solutions on your own**.\n",
    "\n",
    "**NOTES**: \n",
    "\n",
    "- Any relevant data sets should be available on Canvas. To make life easier on the graders if they need to run your code, do not change the relative path names here. Instead, move the files around on your computer.\n",
    "- If you're not familiar with typesetting math directly into Markdown then by all means, do your work on paper first and then typeset it later.  Here is a [reference guide](https://math.meta.stackexchange.com/questions/5020/mathjax-basic-tutorial-and-quick-reference) linked on Canvas on writing math in Markdown. **All** of your written commentary, justifications and mathematical work should be in Markdown.  I also recommend the [wikibook](https://en.wikibooks.org/wiki/LaTeX) for LaTex.\n",
    "- Because you can technically evaluate notebook cells is a non-linear order, it's a good idea to do **Kernel $\\rightarrow$ Restart & Run All** as a check before submitting your solutions.  That way if we need to run your code you will know that it will work as expected. \n",
    "- It is **bad form** to make your reader interpret numerical output from your code.  If a question asks you to compute some value from the data you should show your code output **AND** write a summary of the results in Markdown directly below your code. \n",
    "- 45 points of this assignment are in problems.  The remaining 5 are for neatness, style, and overall exposition of both code and text.\n",
    "- This probably goes without saying, but... For any question that asks you to calculate something, you **must show all work and justify your answers to receive credit**. Sparse or nonexistent work will receive sparse or nonexistent credit. \n",
    "- There is *not a prescribed API* for these problems.  You may answer coding questions with whatever syntax or object typing you deem fit.  Your evaluation will primarily live in the clarity of how well you present your final results, so don't skip over any interpretations!  Your code should still be commented and readable to ensure you followed the given course algorithm.\n",
    "- There are two ways to quickly make a .pdf out of this notebook for Gradescope submission.  Either:\n",
    " - Use File -> Download as PDF via LaTeX.  This will require your system path find a working install of a TeX compiler\n",
    " - Easier: Use File ->  Print Preview, and then Right-Click -> Print using your default browser and \"Print to PDF\"\n",
    "\n"
   ]
  },
  {
   "cell_type": "code",
   "execution_count": 1,
   "metadata": {},
   "outputs": [
    {
     "name": "stderr",
     "output_type": "stream",
     "text": [
      "C:\\Users\\zacha\\Anaconda3\\lib\\site-packages\\statsmodels\\compat\\pandas.py:56: FutureWarning: The pandas.core.datetools module is deprecated and will be removed in a future version. Please use the pandas.tseries module instead.\n",
      "  from pandas.core import datetools\n"
     ]
    }
   ],
   "source": [
    "import numpy as np\n",
    "import pandas as pd\n",
    "import matplotlib.pylab as plt\n",
    "import scipy.stats as stats\n",
    "import statsmodels.api as sm\n",
    "from patsy import dmatrices\n",
    "%matplotlib inline"
   ]
  },
  {
   "cell_type": "markdown",
   "metadata": {},
   "source": [
    "\n",
    "---\n",
    "**Shortcuts:**  [Problem 1](#p1) | [Problem 2](#p2) |\n",
    "---\n"
   ]
  },
  {
   "cell_type": "markdown",
   "metadata": {},
   "source": [
    "<br>\n",
    "\n",
    "---\n",
    "<a/ id='p1'></a>\n",
    "[Back to top](#top)\n",
    "## Problem 1 (Small Samples; 20 points)\n",
    "\n",
    "Consider the `hubble.csv` data set we used in nb15. In that example, we used the large-sample normal approximation and used it to calculate a confidence interval for the mean of a galaxy's distance from Earth in Mega parsecs (column `x` of the data).\n",
    "\n",
    "Unfortunately, the data was only 24 observations!  What could we have done instead?\n"
   ]
  },
  {
   "cell_type": "code",
   "execution_count": 2,
   "metadata": {},
   "outputs": [
    {
     "data": {
      "text/html": [
       "<div>\n",
       "<style scoped>\n",
       "    .dataframe tbody tr th:only-of-type {\n",
       "        vertical-align: middle;\n",
       "    }\n",
       "\n",
       "    .dataframe tbody tr th {\n",
       "        vertical-align: top;\n",
       "    }\n",
       "\n",
       "    .dataframe thead th {\n",
       "        text-align: right;\n",
       "    }\n",
       "</style>\n",
       "<table border=\"1\" class=\"dataframe\">\n",
       "  <thead>\n",
       "    <tr style=\"text-align: right;\">\n",
       "      <th></th>\n",
       "      <th>Galaxy</th>\n",
       "      <th>y</th>\n",
       "      <th>x</th>\n",
       "    </tr>\n",
       "  </thead>\n",
       "  <tbody>\n",
       "    <tr>\n",
       "      <th>0</th>\n",
       "      <td>NGC0300</td>\n",
       "      <td>133</td>\n",
       "      <td>2.00</td>\n",
       "    </tr>\n",
       "    <tr>\n",
       "      <th>1</th>\n",
       "      <td>NGC0925</td>\n",
       "      <td>664</td>\n",
       "      <td>9.16</td>\n",
       "    </tr>\n",
       "    <tr>\n",
       "      <th>2</th>\n",
       "      <td>NGC1326A</td>\n",
       "      <td>1794</td>\n",
       "      <td>16.14</td>\n",
       "    </tr>\n",
       "    <tr>\n",
       "      <th>3</th>\n",
       "      <td>NGC1365</td>\n",
       "      <td>1594</td>\n",
       "      <td>17.95</td>\n",
       "    </tr>\n",
       "    <tr>\n",
       "      <th>4</th>\n",
       "      <td>NGC1425</td>\n",
       "      <td>1473</td>\n",
       "      <td>21.88</td>\n",
       "    </tr>\n",
       "    <tr>\n",
       "      <th>5</th>\n",
       "      <td>NGC2403</td>\n",
       "      <td>278</td>\n",
       "      <td>3.22</td>\n",
       "    </tr>\n",
       "    <tr>\n",
       "      <th>6</th>\n",
       "      <td>NGC2541</td>\n",
       "      <td>714</td>\n",
       "      <td>11.22</td>\n",
       "    </tr>\n",
       "    <tr>\n",
       "      <th>7</th>\n",
       "      <td>NGC2090</td>\n",
       "      <td>882</td>\n",
       "      <td>11.75</td>\n",
       "    </tr>\n",
       "    <tr>\n",
       "      <th>8</th>\n",
       "      <td>NGC3031</td>\n",
       "      <td>80</td>\n",
       "      <td>3.63</td>\n",
       "    </tr>\n",
       "    <tr>\n",
       "      <th>9</th>\n",
       "      <td>NGC3198</td>\n",
       "      <td>772</td>\n",
       "      <td>13.80</td>\n",
       "    </tr>\n",
       "  </tbody>\n",
       "</table>\n",
       "</div>"
      ],
      "text/plain": [
       "     Galaxy     y      x\n",
       "0   NGC0300   133   2.00\n",
       "1   NGC0925   664   9.16\n",
       "2  NGC1326A  1794  16.14\n",
       "3   NGC1365  1594  17.95\n",
       "4   NGC1425  1473  21.88\n",
       "5   NGC2403   278   3.22\n",
       "6   NGC2541   714  11.22\n",
       "7   NGC2090   882  11.75\n",
       "8   NGC3031    80   3.63\n",
       "9   NGC3198   772  13.80"
      ]
     },
     "execution_count": 2,
     "metadata": {},
     "output_type": "execute_result"
    }
   ],
   "source": [
    "# Path to the data - select the path that works for you \n",
    "file_path = '../data/hubble.csv'\n",
    "\n",
    "# Load the data into a DataFrame \n",
    "df = pd.read_csv(file_path)\n",
    "df.head(10)"
   ]
  },
  {
   "cell_type": "markdown",
   "metadata": {},
   "source": [
    "\n",
    "**Part A**:\n",
    "\n",
    "Make a histogram of the data and overlay the theoretical density of the normal with mean $\\bar{X}$ and variance $s^2$.  How closely do the data follow the histogram?\n"
   ]
  },
  {
   "cell_type": "code",
   "execution_count": 3,
   "metadata": {},
   "outputs": [
    {
     "data": {
      "image/png": "[encoded data removed]",
      "text/plain": [
       "<matplotlib.figure.Figure at 0x1ca997d4be0>"
      ]
     },
     "metadata": {},
     "output_type": "display_data"
    }
   ],
   "source": [
    "df.hist(column=['x'], bins=10);"
   ]
  },
  {
   "cell_type": "markdown",
   "metadata": {},
   "source": [
    "**Part B**:\n",
    "\n",
    "Things may not look perfectly normal in part A... but let's perform the tests that require normality anyways:\n",
    "\n",
    "For Part B only, assume each observation is independent and identically distributed as a normal random variable.\n",
    "\n",
    "- Create a 95% confidence interval for the mean of a galaxy's distance from Earth in Mega parsecs.\n",
    "- Create a 95% confidence interval for the standard deviation of a galaxy's distance from Earth in Mega parsecs."
   ]
  },
  {
   "cell_type": "code",
   "execution_count": 4,
   "metadata": {},
   "outputs": [
    {
     "name": "stdout",
     "output_type": "stream",
     "text": [
      "Sample mean is: 12.054583333333333\n",
      "The t-CI is:  9.599272544248016 14.50989412241865\n",
      "Via boxed fn: (9.599272544248016, 14.50989412241865)\n",
      "Sample SD is: 5.814648652263983\n",
      "The Chi-squared-SD-CI is:  4.519223941819864 8.156560101133483\n"
     ]
    }
   ],
   "source": [
    "n=len(df)\n",
    "xbar=np.sum([df['x']])/n\n",
    "sd=np.sqrt(np.sum([(xi-xbar)**2/(n-1) for xi in df['x']]))\n",
    "critt=stats.t.ppf(.975, n-1)\n",
    "print('Sample mean is:', xbar)\n",
    "print('The t-CI is: ', xbar-critt*sd/np.sqrt(n),xbar+critt*sd/np.sqrt(n))\n",
    "print('Via boxed fn:', stats.t.interval(.95, n-1, loc=xbar, scale=sd/np.sqrt(n)))\n",
    "\n",
    "xbar=np.sum(df['x'])/n\n",
    "sd=np.sqrt(np.sum((xi-xbar)**2/(n-1) for xi in df['x']))\n",
    "critz=stats.t.ppf(.95, n-1)\n",
    "print('Sample SD is:', sd)\n",
    "print('The Chi-squared-SD-CI is: ', \\\n",
    "      np.sqrt(sd**2*(n-1)/stats.chi2.ppf(0.975, n-1)), \\\n",
    "      np.sqrt(sd**2*(n-1)/stats.chi2.ppf(0.025, n-1)))\n",
    "\n"
   ]
  },
  {
   "cell_type": "markdown",
   "metadata": {},
   "source": [
    "**Part C**:\n",
    "\n",
    "For part C only, assume each observation is independent and identically distributed but is **not** normally distributed.  Instead, use bootstrapping to:\n",
    "\n",
    "- Create a 95% confidence interval for the mean of a galaxy's distance from Earth in Mega parsecs.\n",
    "- Create a 95% confidence interval for the standard deviation of a galaxy's distance from Earth in Mega parsecs.\n",
    "- Create a 95% confidence interval for the interquartile range (both lower and upper quartiles) of a galaxy's distance from Earth in Mega parsecs.\n",
    "\n",
    "Use 10,000 bootstrapped samples to make the statistics above."
   ]
  },
  {
   "cell_type": "code",
   "execution_count": 5,
   "metadata": {
    "scrolled": true
   },
   "outputs": [
    {
     "name": "stdout",
     "output_type": "stream",
     "text": [
      "Bootstrapped CI for mean: 9.738322916666666 14.354635416666664\n",
      "Bootstrapped CI for SD: 4.3292195822972905 6.8735423619406\n",
      "Bootstrapped CI for lower quartile: 3.22 11.899999999999999\n",
      "Bootstrapped CI for upper quartile: 14.065000000000001 17.95\n",
      "Bootstrapped CI for IQR: 4.085000000000001 12.530000000000001\n"
     ]
    }
   ],
   "source": [
    "nboot=10000\n",
    "bootsamp=np.random.choice(df['x'], replace=True, size=(nboot,len(df)))\n",
    "\n",
    "bootmeans=np.mean(bootsamp, axis=1)\n",
    "bootsd=np.std(bootsamp, ddof=1, axis=1)\n",
    "bootLQs=np.percentile(bootsamp, 25, axis=1)\n",
    "bootUQs=np.percentile(bootsamp, 75, axis=1)\n",
    "bootIQR=bootUQs-bootLQs\n",
    "\n",
    "\n",
    "print('Bootstrapped CI for mean:', np.percentile(bootmeans, 2.5), np.percentile(bootmeans, 97.5))\n",
    "print('Bootstrapped CI for SD:', np.percentile(bootsd, 2.5), np.percentile(bootsd, 97.5))\n",
    "print('Bootstrapped CI for lower quartile:', np.percentile(bootLQs, 2.5), np.percentile(bootLQs, 97.5))\n",
    "print('Bootstrapped CI for upper quartile:', np.percentile(bootUQs, 2.5), np.percentile(bootUQs, 97.5))\n",
    "print('Bootstrapped CI for IQR:', np.percentile(bootIQR, 2.5), np.percentile(bootIQR, 97.5))\n"
   ]
  },
  {
   "cell_type": "markdown",
   "metadata": {},
   "source": [
    "[Back to top](#top)\n",
    "\n",
    "<a id='p2'></a>\n",
    "\n",
    "## (25 pts) Problem 2 (Theory): Practice with SLR and Inference\n",
    "\n",
    "\n",
    "In this problem we will explore the `mortality.csv` data introduced in notebook21.  In that notebook we found some linear regression coefficients and did a related hypothesis test.  In this exercise we will \"finish\" analysis on that data set by exploring and visualizing the underlying assumptions, and performing some more nuanced inference.\n",
    "\n",
    "This data set has two variables:\n",
    "\n",
    "- `Rate`; the annual mortality rate (as a percentage) over the years 1958–1964 of 61 towns in England and Wales.\n",
    "- `Calc`; the recorded calcium concentration in the drinking water supply for those towns, in parts-per-million"
   ]
  },
  {
   "cell_type": "code",
   "execution_count": 6,
   "metadata": {},
   "outputs": [
    {
     "name": "stdout",
     "output_type": "stream",
     "text": [
      "61\n"
     ]
    },
    {
     "data": {
      "text/html": [
       "<div>\n",
       "<style scoped>\n",
       "    .dataframe tbody tr th:only-of-type {\n",
       "        vertical-align: middle;\n",
       "    }\n",
       "\n",
       "    .dataframe tbody tr th {\n",
       "        vertical-align: top;\n",
       "    }\n",
       "\n",
       "    .dataframe thead th {\n",
       "        text-align: right;\n",
       "    }\n",
       "</style>\n",
       "<table border=\"1\" class=\"dataframe\">\n",
       "  <thead>\n",
       "    <tr style=\"text-align: right;\">\n",
       "      <th></th>\n",
       "      <th>Rate</th>\n",
       "      <th>Calc</th>\n",
       "    </tr>\n",
       "  </thead>\n",
       "  <tbody>\n",
       "    <tr>\n",
       "      <th>0</th>\n",
       "      <td>1.247</td>\n",
       "      <td>105</td>\n",
       "    </tr>\n",
       "    <tr>\n",
       "      <th>1</th>\n",
       "      <td>1.392</td>\n",
       "      <td>73</td>\n",
       "    </tr>\n",
       "    <tr>\n",
       "      <th>2</th>\n",
       "      <td>1.260</td>\n",
       "      <td>21</td>\n",
       "    </tr>\n",
       "    <tr>\n",
       "      <th>3</th>\n",
       "      <td>1.259</td>\n",
       "      <td>133</td>\n",
       "    </tr>\n",
       "    <tr>\n",
       "      <th>4</th>\n",
       "      <td>1.236</td>\n",
       "      <td>101</td>\n",
       "    </tr>\n",
       "    <tr>\n",
       "      <th>5</th>\n",
       "      <td>1.627</td>\n",
       "      <td>53</td>\n",
       "    </tr>\n",
       "    <tr>\n",
       "      <th>6</th>\n",
       "      <td>1.581</td>\n",
       "      <td>14</td>\n",
       "    </tr>\n",
       "    <tr>\n",
       "      <th>7</th>\n",
       "      <td>1.609</td>\n",
       "      <td>18</td>\n",
       "    </tr>\n",
       "    <tr>\n",
       "      <th>8</th>\n",
       "      <td>1.755</td>\n",
       "      <td>12</td>\n",
       "    </tr>\n",
       "    <tr>\n",
       "      <th>9</th>\n",
       "      <td>1.723</td>\n",
       "      <td>44</td>\n",
       "    </tr>\n",
       "  </tbody>\n",
       "</table>\n",
       "</div>"
      ],
      "text/plain": [
       "    Rate  Calc\n",
       "0  1.247   105\n",
       "1  1.392    73\n",
       "2  1.260    21\n",
       "3  1.259   133\n",
       "4  1.236   101\n",
       "5  1.627    53\n",
       "6  1.581    14\n",
       "7  1.609    18\n",
       "8  1.755    12\n",
       "9  1.723    44"
      ]
     },
     "execution_count": 6,
     "metadata": {},
     "output_type": "execute_result"
    }
   ],
   "source": [
    "# Path to the data - select the path that works for you \n",
    "file_path = '../data/mortality.csv'\n",
    "\n",
    "# Load the data into a DataFrame \n",
    "df = pd.read_csv(file_path)\n",
    "print(len(df))\n",
    "df.head(10)"
   ]
  },
  {
   "cell_type": "code",
   "execution_count": 18,
   "metadata": {},
   "outputs": [
    {
     "data": {
      "text/plain": [
       "Text(0,0.5,'Y')"
      ]
     },
     "execution_count": 18,
     "metadata": {},
     "output_type": "execute_result"
    },
    {
     "data": {
      "image/png": "[encoded data removed]",
      "text/plain": [
       "<matplotlib.figure.Figure at 0x1ca998e7908>"
      ]
     },
     "metadata": {},
     "output_type": "display_data"
    }
   ],
   "source": [
    "fig, ax= plt.subplots(figsize=(8,6))\n",
    "ax.scatter(df['Calc'], df['Rate'])\n",
    "ax.set_xlabel('X')\n",
    "ax.set_ylabel('Y')"
   ]
  },
  {
   "cell_type": "markdown",
   "metadata": {},
   "source": [
    "**A)** Perform a simple linear regression model using the `OLS` method from `statsmodels`.  Print the resulting `summary` table and then as a print statement or in a markdown cell typeset the actual line of best fit, using the coefficients from your fit.  (See: `.params`.)"
   ]
  },
  {
   "cell_type": "code",
   "execution_count": 7,
   "metadata": {},
   "outputs": [
    {
     "data": {
      "text/html": [
       "<table class=\"simpletable\">\n",
       "<caption>OLS Regression Results</caption>\n",
       "<tr>\n",
       "  <th>Dep. Variable:</th>          <td>Rate</td>       <th>  R-squared:         </th> <td>   0.429</td>\n",
       "</tr>\n",
       "<tr>\n",
       "  <th>Model:</th>                   <td>OLS</td>       <th>  Adj. R-squared:    </th> <td>   0.419</td>\n",
       "</tr>\n",
       "<tr>\n",
       "  <th>Method:</th>             <td>Least Squares</td>  <th>  F-statistic:       </th> <td>   44.30</td>\n",
       "</tr>\n",
       "<tr>\n",
       "  <th>Date:</th>             <td>Fri, 22 Apr 2022</td> <th>  Prob (F-statistic):</th> <td>1.03e-08</td>\n",
       "</tr>\n",
       "<tr>\n",
       "  <th>Time:</th>                 <td>12:28:51</td>     <th>  Log-Likelihood:    </th> <td>  33.088</td>\n",
       "</tr>\n",
       "<tr>\n",
       "  <th>No. Observations:</th>      <td>    61</td>      <th>  AIC:               </th> <td>  -62.18</td>\n",
       "</tr>\n",
       "<tr>\n",
       "  <th>Df Residuals:</th>          <td>    59</td>      <th>  BIC:               </th> <td>  -57.96</td>\n",
       "</tr>\n",
       "<tr>\n",
       "  <th>Df Model:</th>              <td>     1</td>      <th>                     </th>     <td> </td>   \n",
       "</tr>\n",
       "<tr>\n",
       "  <th>Covariance Type:</th>      <td>nonrobust</td>    <th>                     </th>     <td> </td>   \n",
       "</tr>\n",
       "</table>\n",
       "<table class=\"simpletable\">\n",
       "<tr>\n",
       "      <td></td>         <th>coef</th>     <th>std err</th>      <th>t</th>      <th>P>|t|</th>  <th>[0.025</th>    <th>0.975]</th>  \n",
       "</tr>\n",
       "<tr>\n",
       "  <th>Intercept</th> <td>    1.6764</td> <td>    0.029</td> <td>   57.217</td> <td> 0.000</td> <td>    1.618</td> <td>    1.735</td>\n",
       "</tr>\n",
       "<tr>\n",
       "  <th>Calc</th>      <td>   -0.0032</td> <td>    0.000</td> <td>   -6.656</td> <td> 0.000</td> <td>   -0.004</td> <td>   -0.002</td>\n",
       "</tr>\n",
       "</table>\n",
       "<table class=\"simpletable\">\n",
       "<tr>\n",
       "  <th>Omnibus:</th>       <td> 0.570</td> <th>  Durbin-Watson:     </th> <td>   1.624</td>\n",
       "</tr>\n",
       "<tr>\n",
       "  <th>Prob(Omnibus):</th> <td> 0.752</td> <th>  Jarque-Bera (JB):  </th> <td>   0.694</td>\n",
       "</tr>\n",
       "<tr>\n",
       "  <th>Skew:</th>          <td> 0.112</td> <th>  Prob(JB):          </th> <td>   0.707</td>\n",
       "</tr>\n",
       "<tr>\n",
       "  <th>Kurtosis:</th>      <td> 2.528</td> <th>  Cond. No.          </th> <td>    96.7</td>\n",
       "</tr>\n",
       "</table>"
      ],
      "text/plain": [
       "<class 'statsmodels.iolib.summary.Summary'>\n",
       "\"\"\"\n",
       "                            OLS Regression Results                            \n",
       "==============================================================================\n",
       "Dep. Variable:                   Rate   R-squared:                       0.429\n",
       "Model:                            OLS   Adj. R-squared:                  0.419\n",
       "Method:                 Least Squares   F-statistic:                     44.30\n",
       "Date:                Fri, 22 Apr 2022   Prob (F-statistic):           1.03e-08\n",
       "Time:                        12:28:51   Log-Likelihood:                 33.088\n",
       "No. Observations:                  61   AIC:                            -62.18\n",
       "Df Residuals:                      59   BIC:                            -57.96\n",
       "Df Model:                           1                                         \n",
       "Covariance Type:            nonrobust                                         \n",
       "==============================================================================\n",
       "                 coef    std err          t      P>|t|      [0.025      0.975]\n",
       "------------------------------------------------------------------------------\n",
       "Intercept      1.6764      0.029     57.217      0.000       1.618       1.735\n",
       "Calc          -0.0032      0.000     -6.656      0.000      -0.004      -0.002\n",
       "==============================================================================\n",
       "Omnibus:                        0.570   Durbin-Watson:                   1.624\n",
       "Prob(Omnibus):                  0.752   Jarque-Bera (JB):                0.694\n",
       "Skew:                           0.112   Prob(JB):                        0.707\n",
       "Kurtosis:                       2.528   Cond. No.                         96.7\n",
       "==============================================================================\n",
       "\n",
       "Warnings:\n",
       "[1] Standard Errors assume that the covariance matrix of the errors is correctly specified.\n",
       "\"\"\""
      ]
     },
     "execution_count": 7,
     "metadata": {},
     "output_type": "execute_result"
    }
   ],
   "source": [
    "#Solution:\n",
    "y, x = dmatrices('Rate ~ Calc', data=df)\n",
    "lm=sm.OLS(y,x).fit()\n",
    "lm.summary()"
   ]
  },
  {
   "cell_type": "code",
   "execution_count": 8,
   "metadata": {},
   "outputs": [
    {
     "name": "stdout",
     "output_type": "stream",
     "text": [
      "Coefficients:  [ 1.6763556  -0.00322609]\n",
      "Best fit line was: Rate= 1.67636 +( -0.00323 )* Calc\n"
     ]
    }
   ],
   "source": [
    "#Solution:\n",
    "print('Coefficients: ', lm.params)\n",
    "print('Best fit line was: Rate=', np.round(lm.params[0],5), '+(', np.round(lm.params[1],5),')* Calc')\n"
   ]
  },
  {
   "cell_type": "markdown",
   "metadata": {},
   "source": [
    "\n",
    "#### Part B: Visualize.  Make a figure contianing 3 side-by-side plots.  Lefthand plot: scatter plot of the data set with overlay the line of best least-squares fit.  Middle plot: histogram of *residuals* of best least-squares fit are the y-axis.  Righthand plot: scatter plot where the original x-values are the x-axis and the *residuals* are the y-axis."
   ]
  },
  {
   "cell_type": "code",
   "execution_count": 9,
   "metadata": {},
   "outputs": [
    {
     "data": {
      "text/plain": [
       "<matplotlib.collections.LineCollection at 0x1ca9a2f67f0>"
      ]
     },
     "execution_count": 9,
     "metadata": {},
     "output_type": "execute_result"
    },
    {
     "data": {
      "image/png": "[encoded data removed]",
      "text/plain": [
       "<matplotlib.figure.Figure at 0x1ca9a2387b8>"
      ]
     },
     "metadata": {},
     "output_type": "display_data"
    }
   ],
   "source": [
    "#all plots:\n",
    "fig, ax= plt.subplots(figsize=(12,4), ncols=3)\n",
    "ax[0].scatter(df['Calc'], df['Rate'])\n",
    "ax[0].plot( df['Calc'], lm.fittedvalues)\n",
    "ax[0].set_title('Data and Fit')\n",
    "ax[1].hist(lm.resid)\n",
    "ax[1].set_title('Histogram of Residuals')\n",
    "ax[2].scatter(df['Calc'], lm.resid)\n",
    "ax[2].set_title('Component vs. Residuals')\n",
    "ax[2].hlines(0, xmin=np.min(df['Calc']), xmax=np.max(df['Calc']))"
   ]
  },
  {
   "cell_type": "markdown",
   "metadata": {},
   "source": [
    "**Part C**: For each of the 4 major assumptions of the simple linear regression model, use your plots in part B to decide whether or not the data set meets those assumptions."
   ]
  },
  {
   "cell_type": "markdown",
   "metadata": {},
   "source": [
    "**Solution:**\n",
    "- Does a straight line seem appropriate?  Linearity looks pretty good: the left-most plot has a clear downward trend, and it doesn't obviously require a curving line.\n",
    "- Independence:do the x-values tell us things about the **sign** of the errors.  As you follow the right-most plot left-to-right, we notice a good mix of positive and negative y-values along the way.  This means we're probably ok, here.\n",
    "- Homoskedasciticy: do the x-values tell us things about the **size** of the errors?  This also looks ok!  We have most of our data at smaller x-values, which in turn include our largest errors.  Otherwise the errors look pretty consistent as we look at the right-most plot.\n",
    "- Normality: the shape of the errors is about a bell curve.  Here we use the histogram, and it's definitely bell-shaped, without too many extreme outliers.  Doesn't look too bad!\n"
   ]
  },
  {
   "cell_type": "markdown",
   "metadata": {},
   "source": [
    "**D**: In the rest of this problem we will draw specific conclusions from our analysis and linear model.  For each prompt, you should provide both a numerical answer and a full sentence explaining the conclusion.\n",
    "\n",
    "**D1)**:  How much of the variance in the mortality rates could be explained by the calcium in the drinking water?  Does this seem like a high value?"
   ]
  },
  {
   "cell_type": "code",
   "execution_count": 10,
   "metadata": {},
   "outputs": [
    {
     "name": "stdout",
     "output_type": "stream",
     "text": [
      "Our model captured 42.88267193124972 percentage of the overall variance in Mortality\n"
     ]
    }
   ],
   "source": [
    "#Solution: this is the R^2 of our model!\n",
    "print('Our model captured', 100*lm.rsquared, 'percentage of the overall variance in Mortality')"
   ]
  },
  {
   "cell_type": "markdown",
   "metadata": {},
   "source": [
    "**Solution:**\n",
    "\n",
    "This is a lot for a social science type problem!  Note that this isn't about 42% of deaths, but rather: \"of the amount that death rates vary from town-to-town, 42% of that appears to be accountable to Calcium amounts in the drinking water\""
   ]
  },
  {
   "cell_type": "markdown",
   "metadata": {},
   "source": [
    "**D2)**:  A skeptic insists that \"there's no way water quality is actually affecting death rates.\"  You decide that your linear model demonstrates other wise.  State the null and alternative hypotheses, and use the values on your `summary` table at a significance of $\\alpha=0.01$ to argue against this skeptic."
   ]
  },
  {
   "cell_type": "code",
   "execution_count": 11,
   "metadata": {},
   "outputs": [
    {
     "name": "stdout",
     "output_type": "stream",
     "text": [
      "Compare  6.655535174800663  to  5.3235175069973675  and reject? True\n"
     ]
    }
   ],
   "source": [
    "proposed=0\n",
    "tstat=np.abs(lm.params[1]-proposed)/(lm.bse[1])\n",
    "tcrit=2*stats.t.ppf(0.995, len(df)-2)\n",
    "print('Compare ', tstat, ' to ', tcrit, ' and reject?',tstat>tcrit)\n"
   ]
  },
  {
   "cell_type": "markdown",
   "metadata": {},
   "source": [
    "**Solution:**\n",
    "\n",
    "This is already on our summary table!  We can just look at the p-value for the \"slope\" of `Calc`, and since it's very small (less than 0.001), we would conclude that it definitely **isn't** a slope of zero.  This correponds to testing:\n",
    "$$H_0: \\beta_1=0$$\n",
    "against\n",
    "$$H_A: \\beta_1\\ne0$$\n"
   ]
  },
  {
   "cell_type": "markdown",
   "metadata": {},
   "source": [
    "**D3)**:  The government decides they believe your analysis in **D2)** that `Calc` values matter, but augmenting the drinking supply with Calcium is costly.  They insist that they don't actually want to take any actions unless you can demonstrate that the effects of `Calc` concentration on mortality `Rate` are *large enough*.  In particular, they will implement a calcification campaign if and only if you can demonstrate that at a significance of $\\alpha=0.01$ one part-per-million of `Calcium` decreases mortality rate by more than 0.0025 percentage.\n",
    "\n",
    "State the null and alternative hypotheses, and use the values on your summary table to recommend an action to the government."
   ]
  },
  {
   "cell_type": "markdown",
   "metadata": {},
   "source": [
    "**Solution:**\n",
    "\n",
    "This isn't on our summary table, but it's **really close**.  This time we're testing\n",
    "$$H_0: \\beta_1=-0.0025$$\n",
    "against\n",
    "$$H_A: \\beta_1<-0.0025$$\n",
    "\n",
    "And as in the table before, it's a $t$-test.  But instead of a statistic of \n",
    "$$t=\\frac{estimated \\, slope}{s.e.(slope)}$$\n",
    "we will now test\n",
    "$$t=\\frac{estimated \\, slope - (-0.0025)}{s.e.(slope)}$$\n"
   ]
  },
  {
   "cell_type": "code",
   "execution_count": 12,
   "metadata": {},
   "outputs": [
    {
     "name": "stdout",
     "output_type": "stream",
     "text": [
      "Compare  -1.4979513340948107  to  -2.3912288325162177  and reject? False\n"
     ]
    }
   ],
   "source": [
    "proposed=-0.0025\n",
    "tstat=(lm.params[1]-proposed)/(lm.bse[1])\n",
    "tcrit=stats.t.ppf(0.01, len(df)-2)\n",
    "print('Compare ', tstat, ' to ', tcrit, ' and reject?',tstat<tcrit)\n"
   ]
  },
  {
   "cell_type": "markdown",
   "metadata": {},
   "source": [
    "The effect of Calcium is not **clearly** larger (more negative) than a slope of -0.0025 $\\frac{\\text{change in mortality %}}{\\text{change in ppm of Calcium}}$"
   ]
  },
  {
   "cell_type": "markdown",
   "metadata": {},
   "source": [
    "**D4)**:  The town of Manchester and their football clubs are loathsome.  While the town wasn't originally tested, we are told that the calcium concentration in their drinking water is exactly 100 ppm.\n",
    "\n",
    "What is the 95% **prediction** interval for the mortality rate in Manchester?  In other words, given our linear model, what is the interval that we think should contain the actual mortality rate for Manchester?\n",
    "\n",
    "What is the 95% **confidence** interval for the mortality rate in Manchester?  In other words, what is the interval that we think should contain the **mean** mortality rate for any town with a Calcium concentration of 100 ppm?\n"
   ]
  },
  {
   "cell_type": "code",
   "execution_count": 13,
   "metadata": {},
   "outputs": [
    {
     "data": {
      "text/html": [
       "<div>\n",
       "<style scoped>\n",
       "    .dataframe tbody tr th:only-of-type {\n",
       "        vertical-align: middle;\n",
       "    }\n",
       "\n",
       "    .dataframe tbody tr th {\n",
       "        vertical-align: top;\n",
       "    }\n",
       "\n",
       "    .dataframe thead th {\n",
       "        text-align: right;\n",
       "    }\n",
       "</style>\n",
       "<table border=\"1\" class=\"dataframe\">\n",
       "  <thead>\n",
       "    <tr style=\"text-align: right;\">\n",
       "      <th></th>\n",
       "      <th>mean</th>\n",
       "      <th>mean_se</th>\n",
       "      <th>mean_ci_lower</th>\n",
       "      <th>mean_ci_upper</th>\n",
       "      <th>obs_ci_lower</th>\n",
       "      <th>obs_ci_upper</th>\n",
       "    </tr>\n",
       "  </thead>\n",
       "  <tbody>\n",
       "    <tr>\n",
       "      <th>0</th>\n",
       "      <td>1.353746</td>\n",
       "      <td>0.031478</td>\n",
       "      <td>1.290759</td>\n",
       "      <td>1.416734</td>\n",
       "      <td>1.060696</td>\n",
       "      <td>1.646797</td>\n",
       "    </tr>\n",
       "  </tbody>\n",
       "</table>\n",
       "</div>"
      ],
      "text/plain": [
       "       mean   mean_se  mean_ci_lower  mean_ci_upper  obs_ci_lower  \\\n",
       "0  1.353746  0.031478       1.290759       1.416734      1.060696   \n",
       "\n",
       "   obs_ci_upper  \n",
       "0      1.646797  "
      ]
     },
     "execution_count": 13,
     "metadata": {},
     "output_type": "execute_result"
    }
   ],
   "source": [
    "#These are prediction and confidence bands!\n",
    "preds=lm.get_prediction(np.array([1,100]))\n",
    "preds.summary_frame(alpha=0.05)"
   ]
  },
  {
   "cell_type": "markdown",
   "metadata": {},
   "source": [
    "For Manchester itself, we think the prediction interval is the wider of these two intervals:\n",
    "$$[1.060696,1.646797]$$\n",
    "\n",
    "We think the confidence interval or mean for cities with 100 ppm is the narrower one, since we're more sure of where the mean is (where the line goes) than we are of where the line plus the error/noise/variability should go:\n",
    "\n",
    "$$[1.290759,1.416734]$$"
   ]
  },
  {
   "cell_type": "markdown",
   "metadata": {},
   "source": [
    "## [Back to top](#top)\n"
   ]
  }
 ],
 "metadata": {
  "kernelspec": {
   "display_name": "Python 3",
   "language": "python",
   "name": "python3"
  },
  "language_info": {
   "codemirror_mode": {
    "name": "ipython",
    "version": 3
   },
   "file_extension": ".py",
   "mimetype": "text/x-python",
   "name": "python",
   "nbconvert_exporter": "python",
   "pygments_lexer": "ipython3",
   "version": "3.6.4"
  }
 },
 "nbformat": 4,
 "nbformat_minor": 2
}
