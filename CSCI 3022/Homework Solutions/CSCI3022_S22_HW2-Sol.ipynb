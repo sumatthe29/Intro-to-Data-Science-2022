{
 "cells": [
  {
   "cell_type": "markdown",
   "metadata": {},
   "source": [
    "<a id='top'></a>\n",
    "\n",
    "# CSCI3022 S22\n",
    "\n",
    "\n",
    "\n",
    "# Homework 2: Probability and Munging\n",
    "\n",
    "## Due Friday, February 11 at 11:59 pm to Canvas and Gradescope\n",
    "***\n",
    "\n",
    "**Name**: ________________________________________________________________________\n",
    "\n",
    "***\n",
    "\n",
    "Your solutions to computational questions should include any specified Python code and results as well as written commentary on your conclusions.  Remember that you are encouraged to discuss the problems with your classmates, but **you must write all code and solutions on your own**.\n",
    "\n",
    "**NOTES**: \n",
    "\n",
    "- Any relevant data sets should be available on Canvas. To make life easier on the graders if they need to run your code, do not change the relative path names here. Instead, move the files around on your computer.\n",
    "- If you're not familiar with typesetting math directly into Markdown then by all means, do your work on paper first and then typeset it later.  Here is a [reference guide](https://math.meta.stackexchange.com/questions/5020/mathjax-basic-tutorial-and-quick-reference) linked on Canvas on writing math in Markdown. **All** of your written commentary, justifications and mathematical work should be in Markdown.  I also recommend the [wikibook](https://en.wikibooks.org/wiki/LaTeX) for LaTex.\n",
    "- Because you can technically evaluate notebook cells is a non-linear order, it's a good idea to do **Kernel $\\rightarrow$ Restart & Run All** as a check before submitting your solutions.  That way if we need to run your code you will know that it will work as expected. \n",
    "- It is **bad form** to make your reader interpret numerical output from your code.  If a question asks you to compute some value from the data you should show your code output **AND** write a summary of the results in Markdown directly below your code. \n",
    "- 45 points of this assignment are in problems.  The remaining 5 are for neatness, style, and overall exposition of both code and text.\n",
    "- This probably goes without saying, but... For any question that asks you to calculate something, you **must show all work and justify your answers to receive credit**. Sparse or nonexistent work will receive sparse or nonexistent credit. \n",
    "- There is *not a prescribed API* for these problems.  You may answer coding questions with whatever syntax or object typing you deem fit.  Your evaluation will primarily live in the clarity of how well you present your final results, so don't skip over any interpretations!  Your code should still be commented and readable to ensure you followed the given course algorithm.\n",
    "- There are two ways to quickly make a .pdf out of this notebook for Gradescope submission.  Either:\n",
    " - Use File -> Download as PDF via LaTeX.  This will require your system path find a working install of a TeX compiler\n",
    " - Easier: Use File ->  Print Preview, and then Right-Click -> Print using your default browser and \"Print to PDF\"\n",
    "\n"
   ]
  },
  {
   "cell_type": "code",
   "execution_count": 1,
   "metadata": {},
   "outputs": [],
   "source": [
    "import numpy as np\n",
    "import pandas as pd\n",
    "import matplotlib.pylab as plt\n",
    "%matplotlib inline"
   ]
  },
  {
   "cell_type": "markdown",
   "metadata": {},
   "source": [
    "\n",
    "## (15 pts) Problem 1: Bayes\n",
    "***\n",
    "\n",
    "Brennan and Dale are brothers who love hanging out together, doing activities, playing sports, etc.  Whenever they go on vacation, they do the following:\n",
    "\n",
    "- 1: Pick a sport to play *at random*.  Between a soccer ball, (American) football, and basketball, they choose one to bring to with them for the entire trip\n",
    "- 2: Each day they're on vacation they play exactly one game of whatever sportsball they brought.\n",
    "- 3: They record the winners, but at the end of the trip, they only have record of who won the games, and **not** which sport they were playing!\n",
    "\n",
    "You know a few things about the two, however.\n",
    "- Brennan is taller, and wins 75% of their basketball games.\n",
    "- Dale is stronger, and wins 2/3s of their football games.\n",
    "- They're evenly matched, and each soccer game is a 50-50 matchup.\n",
    "\n",
    "Denote $D$ by the event that Dale won a game, $B$ by the event Brennan won, $S$ by the event that they brought a soccer ball and played soccer, $F$ by the event that they brought a football and played football, and $H$ by the event that they brought a basketball and were hoopin'."
   ]
  },
  {
   "cell_type": "markdown",
   "metadata": {},
   "source": [
    "**A:**\n",
    "\n",
    "Suppose they go on a trip that's for a single day, so they only play one game.  What is $P(D)$, the probability that Dale won that game?\n"
   ]
  },
  {
   "cell_type": "markdown",
   "metadata": {},
   "source": [
    "**Solution**:\n",
    "\n",
    "Dale wins any of 3 ways, so we split across them using the Law of Total Probability:\n",
    "$$P(D)=P(D \\cap H) +P(D \\cap S)+P(D \\cap F) $$\n",
    "$$P(D)=P(D| H)P(H) +P(D | S)P(S)+P(D | F)P(F)=.472 $$\n"
   ]
  },
  {
   "cell_type": "code",
   "execution_count": 2,
   "metadata": {},
   "outputs": [
    {
     "data": {
      "text/plain": [
       "0.4722222222222222"
      ]
     },
     "execution_count": 2,
     "metadata": {},
     "output_type": "execute_result"
    }
   ],
   "source": [
    "(1/4)*(1/3)+(1/2)*(1/3)+(2/3)*(1/3)"
   ]
  },
  {
   "cell_type": "markdown",
   "metadata": {},
   "source": [
    "**B:**\n",
    "\n",
    "Suppose they go on a trip that's for a single day, and when they return Dale elatedly tells you that he won the game.  What is $P(F|D)$, the probability that the game that Dale won was a game of Football?\n"
   ]
  },
  {
   "cell_type": "markdown",
   "metadata": {},
   "source": [
    "**Solution**:\n",
    "\n",
    "Now we can use Bayes' rule, and we have already computed *both* the denominator and numerator in part **A**!\n",
    "$$P(F|D)=\\frac{P(D \\cap F)}{P(D)}=\\frac{P(D | F)P(F)}{P(D)}$$\n",
    "$$P(F|D)=\\frac{P(D | F)P(F)}{P(D| H)P(H) +P(D | S)P(S)+P(D | F)P(F)}=.471$$"
   ]
  },
  {
   "cell_type": "code",
   "execution_count": 3,
   "metadata": {},
   "outputs": [
    {
     "data": {
      "text/plain": [
       "0.47058823529411764"
      ]
     },
     "execution_count": 3,
     "metadata": {},
     "output_type": "execute_result"
    }
   ],
   "source": [
    "((2/3)*(1/3))/((1/4)*(1/3)+(1/2)*(1/3)+(2/3)*(1/3))"
   ]
  },
  {
   "cell_type": "markdown",
   "metadata": {},
   "source": [
    "**C:**\n",
    "\n",
    "Suppose they go on a trip that's for two days, and when they return Dale brags that we won *both* games.  What is $P(F|D_1 \\cap D_2)$, the probability that they brought a Football *given* that Dale won both (the first and the second) games.\n",
    "\n",
    "**Sanity Check:** It's certainly possible for Dale to win two basketball games in a row, but *when they play* football he's more likely to win two in a row, right?  The probability of the game being football should **increase** the more we see Dale win!"
   ]
  },
  {
   "cell_type": "markdown",
   "metadata": {},
   "source": [
    "**Solution:**\n",
    "\n",
    "Since they only pick the game once, the probabilities that are *independent* and turn into products are the consecutive wins **given** we already knew what game was being played.  So we again use Bayes' theorem, but the numerator and the denominator each include terms of the form $P(D_1 \\cap D_2 \\cap F) $ for \"the probability that Dale won two straight games and the game they were playing was Football.\"\n",
    "\n",
    "$$P(F|D_1 \\cap D_2)=\\frac{P(D_1 \\cap D_2 \\cap F)}{P(D_1 \\cap D_2)}=\\frac{P(D_1 \\cap D_2 | F)P(F)}{P(D_1 \\cap D_2)}=\\frac{P(D_1| F)P(D_2| F)P(F)}{P(D_1 \\cap D_2)}$$\n",
    "where the denominator is then the larger sum\n",
    "$$P(D_1 \\cap D_2)=P(D_1| H)P(D_2| H)P(H)+P(D_1| S)P(D_2| S)P(S)+P(D_1| F)P(D_2| F)P(F)=.588$$"
   ]
  },
  {
   "cell_type": "code",
   "execution_count": 4,
   "metadata": {},
   "outputs": [
    {
     "data": {
      "text/plain": [
       "0.5871559633027523"
      ]
     },
     "execution_count": 4,
     "metadata": {},
     "output_type": "execute_result"
    }
   ],
   "source": [
    "((2/3)**2*(1/3))/((1/4)**2*(1/3)+(1/2)**2*(1/3)+(2/3)**2*(1/3))"
   ]
  },
  {
   "cell_type": "markdown",
   "metadata": {},
   "source": [
    "**D:**\n",
    "\n",
    "Let's generalize!  Suppose they go on a trip that's $n$ days long, and when they return Dale brags that he won *every* game.  What is $P(F|D_1 \\cap D_2 \\cap \\dots D_n)$, the probability that they brought a Football *given* that Dale won all $n$ games?\n",
    "\n"
   ]
  },
  {
   "cell_type": "markdown",
   "metadata": {},
   "source": [
    "**Solution:**\n",
    "\n",
    "$$P(F|D_1 \\cap D_2 \\dot \\cap D_n)=\\frac{P(D_1 \\cap D_2 \\dot \\cap D_n \\cap F)}{P(D_1 \\cap D_2 \\dot \\cap D_n)}$$\n",
    "$$=\\frac{P(D|F)^n P(F)}{P(D|S)^n P(S)+P(D|H)^n P(H)+P(D|F)^n P(F)}$$\n",
    "$$=\\frac{(2/3)^n (1/3)}{(1/4)^n (1/3)+(1/2)^n (1/3)+(2/3)^n(1/3)}$$\n"
   ]
  },
  {
   "cell_type": "markdown",
   "metadata": {},
   "source": [
    "**E:**\n",
    "\n",
    "Part of the point of using Bayes' theorem in data science is it helps us answer a query like when we have enough data to be \"sure.\"  You should notice in your result from **D** that we're never entirely *sure* that the football was brought, even if Dale rattles off a super long win streak!  But we can get *pretty sure*, up to very high probabilities.  How high did $n$ have to be for there to be a 99% chance that the game was Football?\n",
    "\n",
    "Provide a numerical answer, and also corroborate with a line plot (`plt.plot`) where the $x$ axis is the length in days of the vacation $n$ and the $y$ axis is $P(F|D_1 \\cap D_2 \\cap \\dots D_n)$, the probability that the game was Football given that Dale won every game played.\n"
   ]
  },
  {
   "cell_type": "code",
   "execution_count": 5,
   "metadata": {},
   "outputs": [
    {
     "name": "stdout",
     "output_type": "stream",
     "text": [
      "Prob of F given  1  straight wins for Dale: 0.47058823529411764\n",
      "Prob of F given  2  straight wins for Dale: 0.5871559633027523\n",
      "Prob of F given  3  straight wins for Dale: 0.6781456953642383\n",
      "Prob of F given  4  straight wins for Dale: 0.7484012424630002\n",
      "Prob of F given  5  straight wins for Dale: 0.8033932380415327\n",
      "Prob of F given  6  straight wins for Dale: 0.8469125671584892\n",
      "Prob of F given  7  straight wins for Dale: 0.8814248037742589\n",
      "Prob of F given  8  straight wins for Dale: 0.9086745865183068\n",
      "Prob of F given  9  straight wins for Dale: 0.9300324185741691\n",
      "Prob of F given  10  straight wins for Dale: 0.9466393517705017\n",
      "Prob of F given  11  straight wins for Dale: 0.959457399677442\n",
      "Prob of F given  12  straight wins for Dale: 0.9692889655336266\n",
      "Prob of F given  13  straight wins for Dale: 0.9767912789455169\n",
      "Prob of F given  14  straight wins for Dale: 0.9824929236802663\n",
      "Prob of F given  15  straight wins for Dale: 0.9868123689410352\n",
      "Prob of F given  16  straight wins for Dale: 0.9900767099520386\n",
      "Prob of F given  17  straight wins for Dale: 0.9925390796017636\n",
      "Prob of F given  18  straight wins for Dale: 0.9943938742127975\n",
      "Prob of F given  19  straight wins for Dale: 0.9957895125148114\n",
      "Prob of F given  20  straight wins for Dale: 0.9968388098502671\n",
      "Prob of F given  21  straight wins for Dale: 0.9976272333238855\n",
      "Prob of F given  22  straight wins for Dale: 0.9982193691610629\n",
      "Prob of F given  23  straight wins for Dale: 0.998663932268934\n",
      "Prob of F given  24  straight wins for Dale: 0.9989976144476198\n"
     ]
    }
   ],
   "source": [
    "def p_f_given_n(n):\n",
    "    prob=((2/3)**n*(1/3))/((1/4)**n*(1/3)+(1/2)**n*(1/3)+(2/3)**n*(1/3))\n",
    "    return prob\n",
    "outcomes=list(range(1,25))\n",
    "pf_of_n=np.zeros(len(outcomes))\n",
    "for i in range(len(outcomes)):\n",
    "    pf_of_n[i]=p_f_given_n(outcomes[i])\n",
    "    print('Prob of F given ', outcomes[i], ' straight wins for Dale:', pf_of_n[i])"
   ]
  },
  {
   "cell_type": "code",
   "execution_count": 6,
   "metadata": {},
   "outputs": [
    {
     "data": {
      "text/plain": [
       "Text(0,0.5,'Probability')"
      ]
     },
     "execution_count": 6,
     "metadata": {},
     "output_type": "execute_result"
    },
    {
     "data": {
      "image/png": "[encoded data removed]",
      "text/plain": [
       "<matplotlib.figure.Figure at 0x1e19a77e320>"
      ]
     },
     "metadata": {},
     "output_type": "display_data"
    }
   ],
   "source": [
    "fig, ax=plt.subplots(figsize=(10,4))\n",
    "plt.plot(outcomes, pf_of_n)\n",
    "ax.set_title('Prob of Football as Dale wins')\n",
    "ax.set_title('Prob of Football as Dale wins')\n",
    "ax.set_xlabel('Consecutive Wins')\n",
    "ax.set_ylabel('Probability')"
   ]
  },
  {
   "cell_type": "markdown",
   "metadata": {},
   "source": [
    "From the print statement, we are a little more than 99% in the belief that the game was football after the 16th game."
   ]
  },
  {
   "cell_type": "markdown",
   "metadata": {},
   "source": [
    "\n",
    "## (30 pts) Problem 2: Boxplots and Reshaping Data\n",
    "***\n",
    "\n",
    "The recent [Marshall fire](https://www.bouldercounty.org/disasters/wildfires/marshall/) has had a devastating and profound effect on many members of the CU community.  As we support those members, we also may be interesting in attempting to understand whether or not we could have anticipated any of the risk factors involved in the fire.  We attempt an exploratory analysis of that here.\n",
    "\n",
    "Load in the data in `boulder_daily_weather.csv`\n",
    "\n",
    "\n",
    "Information on the file is as follows:\n",
    "\n",
    "- Temperatures are in degrees Fahrenheit and snow and precipitation are in inches.\n",
    "- Precipitation is the total liquid equivalent of all forms of precipitation (rain, snow, hail,...).\n",
    "- Missing values are indicated by -998.0.\n",
    "- Trace values (less than 1/10 for snow and 1/100 for rain) are indicated by -999.0.\n",
    "- Your file starts in 1970, although limited data goes back to 1899 from NOAA."
   ]
  },
  {
   "cell_type": "code",
   "execution_count": 7,
   "metadata": {},
   "outputs": [
    {
     "name": "stdout",
     "output_type": "stream",
     "text": [
      "Year           int64\n",
      "Month          int64\n",
      "Day            int64\n",
      "MaxT           int64\n",
      "MinT           int64\n",
      "Precip       float64\n",
      "Snow           int64\n",
      "SnowDepth      int64\n",
      "dtype: object\n"
     ]
    },
    {
     "data": {
      "text/html": [
       "<div>\n",
       "<style scoped>\n",
       "    .dataframe tbody tr th:only-of-type {\n",
       "        vertical-align: middle;\n",
       "    }\n",
       "\n",
       "    .dataframe tbody tr th {\n",
       "        vertical-align: top;\n",
       "    }\n",
       "\n",
       "    .dataframe thead th {\n",
       "        text-align: right;\n",
       "    }\n",
       "</style>\n",
       "<table border=\"1\" class=\"dataframe\">\n",
       "  <thead>\n",
       "    <tr style=\"text-align: right;\">\n",
       "      <th></th>\n",
       "      <th>Year</th>\n",
       "      <th>Month</th>\n",
       "      <th>Day</th>\n",
       "      <th>MaxT</th>\n",
       "      <th>MinT</th>\n",
       "      <th>Precip</th>\n",
       "      <th>Snow</th>\n",
       "      <th>SnowDepth</th>\n",
       "    </tr>\n",
       "  </thead>\n",
       "  <tbody>\n",
       "    <tr>\n",
       "      <th>0</th>\n",
       "      <td>1970</td>\n",
       "      <td>1</td>\n",
       "      <td>1</td>\n",
       "      <td>32</td>\n",
       "      <td>19</td>\n",
       "      <td>-999.0</td>\n",
       "      <td>-999</td>\n",
       "      <td>3</td>\n",
       "    </tr>\n",
       "    <tr>\n",
       "      <th>1</th>\n",
       "      <td>1970</td>\n",
       "      <td>1</td>\n",
       "      <td>2</td>\n",
       "      <td>33</td>\n",
       "      <td>15</td>\n",
       "      <td>0.0</td>\n",
       "      <td>0</td>\n",
       "      <td>3</td>\n",
       "    </tr>\n",
       "    <tr>\n",
       "      <th>2</th>\n",
       "      <td>1970</td>\n",
       "      <td>1</td>\n",
       "      <td>3</td>\n",
       "      <td>29</td>\n",
       "      <td>14</td>\n",
       "      <td>0.0</td>\n",
       "      <td>0</td>\n",
       "      <td>2</td>\n",
       "    </tr>\n",
       "    <tr>\n",
       "      <th>3</th>\n",
       "      <td>1970</td>\n",
       "      <td>1</td>\n",
       "      <td>4</td>\n",
       "      <td>33</td>\n",
       "      <td>9</td>\n",
       "      <td>0.0</td>\n",
       "      <td>0</td>\n",
       "      <td>2</td>\n",
       "    </tr>\n",
       "    <tr>\n",
       "      <th>4</th>\n",
       "      <td>1970</td>\n",
       "      <td>1</td>\n",
       "      <td>5</td>\n",
       "      <td>18</td>\n",
       "      <td>3</td>\n",
       "      <td>0.1</td>\n",
       "      <td>2</td>\n",
       "      <td>4</td>\n",
       "    </tr>\n",
       "  </tbody>\n",
       "</table>\n",
       "</div>"
      ],
      "text/plain": [
       "   Year  Month  Day  MaxT  MinT  Precip  Snow  SnowDepth\n",
       "0  1970      1    1    32    19  -999.0  -999          3\n",
       "1  1970      1    2    33    15     0.0     0          3\n",
       "2  1970      1    3    29    14     0.0     0          2\n",
       "3  1970      1    4    33     9     0.0     0          2\n",
       "4  1970      1    5    18     3     0.1     2          4"
      ]
     },
     "execution_count": 7,
     "metadata": {},
     "output_type": "execute_result"
    }
   ],
   "source": [
    "df=pd.read_csv('../data/boulder_daily_weather.csv', encoding='UTF-8')\n",
    "print(df.dtypes)\n",
    "df.head(5)\n"
   ]
  },
  {
   "cell_type": "code",
   "execution_count": 8,
   "metadata": {},
   "outputs": [
    {
     "data": {
      "text/html": [
       "<div>\n",
       "<style scoped>\n",
       "    .dataframe tbody tr th:only-of-type {\n",
       "        vertical-align: middle;\n",
       "    }\n",
       "\n",
       "    .dataframe tbody tr th {\n",
       "        vertical-align: top;\n",
       "    }\n",
       "\n",
       "    .dataframe thead th {\n",
       "        text-align: right;\n",
       "    }\n",
       "</style>\n",
       "<table border=\"1\" class=\"dataframe\">\n",
       "  <thead>\n",
       "    <tr style=\"text-align: right;\">\n",
       "      <th></th>\n",
       "      <th>Year</th>\n",
       "      <th>Month</th>\n",
       "      <th>Day</th>\n",
       "      <th>MaxT</th>\n",
       "      <th>MinT</th>\n",
       "      <th>Precip</th>\n",
       "      <th>Snow</th>\n",
       "      <th>SnowDepth</th>\n",
       "    </tr>\n",
       "  </thead>\n",
       "  <tbody>\n",
       "    <tr>\n",
       "      <th>19030</th>\n",
       "      <td>2021</td>\n",
       "      <td>12</td>\n",
       "      <td>30</td>\n",
       "      <td>44</td>\n",
       "      <td>16</td>\n",
       "      <td>0.00</td>\n",
       "      <td>0</td>\n",
       "      <td>0</td>\n",
       "    </tr>\n",
       "    <tr>\n",
       "      <th>19031</th>\n",
       "      <td>2021</td>\n",
       "      <td>12</td>\n",
       "      <td>31</td>\n",
       "      <td>44</td>\n",
       "      <td>25</td>\n",
       "      <td>0.26</td>\n",
       "      <td>4</td>\n",
       "      <td>4</td>\n",
       "    </tr>\n",
       "  </tbody>\n",
       "</table>\n",
       "</div>"
      ],
      "text/plain": [
       "       Year  Month  Day  MaxT  MinT  Precip  Snow  SnowDepth\n",
       "19030  2021     12   30    44    16    0.00     0          0\n",
       "19031  2021     12   31    44    25    0.26     4          4"
      ]
     },
     "execution_count": 8,
     "metadata": {},
     "output_type": "execute_result"
    }
   ],
   "source": [
    "df.tail(2)"
   ]
  },
  {
   "cell_type": "code",
   "execution_count": 9,
   "metadata": {},
   "outputs": [
    {
     "data": {
      "text/html": [
       "<div>\n",
       "<style scoped>\n",
       "    .dataframe tbody tr th:only-of-type {\n",
       "        vertical-align: middle;\n",
       "    }\n",
       "\n",
       "    .dataframe tbody tr th {\n",
       "        vertical-align: top;\n",
       "    }\n",
       "\n",
       "    .dataframe thead th {\n",
       "        text-align: right;\n",
       "    }\n",
       "</style>\n",
       "<table border=\"1\" class=\"dataframe\">\n",
       "  <thead>\n",
       "    <tr style=\"text-align: right;\">\n",
       "      <th></th>\n",
       "      <th>Year</th>\n",
       "      <th>Month</th>\n",
       "      <th>Day</th>\n",
       "      <th>MaxT</th>\n",
       "      <th>MinT</th>\n",
       "      <th>Precip</th>\n",
       "      <th>Snow</th>\n",
       "      <th>SnowDepth</th>\n",
       "    </tr>\n",
       "  </thead>\n",
       "  <tbody>\n",
       "    <tr>\n",
       "      <th>count</th>\n",
       "      <td>19032.000000</td>\n",
       "      <td>19032.000000</td>\n",
       "      <td>19032.000000</td>\n",
       "      <td>19032.000000</td>\n",
       "      <td>19032.000000</td>\n",
       "      <td>19032.000000</td>\n",
       "      <td>19032.000000</td>\n",
       "      <td>19032.000000</td>\n",
       "    </tr>\n",
       "    <tr>\n",
       "      <th>mean</th>\n",
       "      <td>1995.500000</td>\n",
       "      <td>6.513661</td>\n",
       "      <td>15.756831</td>\n",
       "      <td>38.490280</td>\n",
       "      <td>11.295607</td>\n",
       "      <td>-149.310692</td>\n",
       "      <td>-85.292350</td>\n",
       "      <td>-134.096574</td>\n",
       "    </tr>\n",
       "    <tr>\n",
       "      <th>std</th>\n",
       "      <td>15.008725</td>\n",
       "      <td>3.451325</td>\n",
       "      <td>8.811761</td>\n",
       "      <td>167.879418</td>\n",
       "      <td>164.444183</td>\n",
       "      <td>356.237912</td>\n",
       "      <td>279.500443</td>\n",
       "      <td>341.239301</td>\n",
       "    </tr>\n",
       "    <tr>\n",
       "      <th>min</th>\n",
       "      <td>1970.000000</td>\n",
       "      <td>1.000000</td>\n",
       "      <td>1.000000</td>\n",
       "      <td>-998.000000</td>\n",
       "      <td>-999.000000</td>\n",
       "      <td>-999.000000</td>\n",
       "      <td>-999.000000</td>\n",
       "      <td>-999.000000</td>\n",
       "    </tr>\n",
       "    <tr>\n",
       "      <th>25%</th>\n",
       "      <td>1982.750000</td>\n",
       "      <td>4.000000</td>\n",
       "      <td>8.000000</td>\n",
       "      <td>51.000000</td>\n",
       "      <td>26.000000</td>\n",
       "      <td>0.000000</td>\n",
       "      <td>0.000000</td>\n",
       "      <td>0.000000</td>\n",
       "    </tr>\n",
       "    <tr>\n",
       "      <th>50%</th>\n",
       "      <td>1995.500000</td>\n",
       "      <td>7.000000</td>\n",
       "      <td>16.000000</td>\n",
       "      <td>65.000000</td>\n",
       "      <td>38.000000</td>\n",
       "      <td>0.000000</td>\n",
       "      <td>0.000000</td>\n",
       "      <td>0.000000</td>\n",
       "    </tr>\n",
       "    <tr>\n",
       "      <th>75%</th>\n",
       "      <td>2008.250000</td>\n",
       "      <td>10.000000</td>\n",
       "      <td>23.000000</td>\n",
       "      <td>80.000000</td>\n",
       "      <td>51.000000</td>\n",
       "      <td>0.010000</td>\n",
       "      <td>0.000000</td>\n",
       "      <td>0.000000</td>\n",
       "    </tr>\n",
       "    <tr>\n",
       "      <th>max</th>\n",
       "      <td>2021.000000</td>\n",
       "      <td>12.000000</td>\n",
       "      <td>31.000000</td>\n",
       "      <td>102.000000</td>\n",
       "      <td>77.000000</td>\n",
       "      <td>9.080000</td>\n",
       "      <td>22.000000</td>\n",
       "      <td>27.000000</td>\n",
       "    </tr>\n",
       "  </tbody>\n",
       "</table>\n",
       "</div>"
      ],
      "text/plain": [
       "               Year         Month           Day          MaxT          MinT  \\\n",
       "count  19032.000000  19032.000000  19032.000000  19032.000000  19032.000000   \n",
       "mean    1995.500000      6.513661     15.756831     38.490280     11.295607   \n",
       "std       15.008725      3.451325      8.811761    167.879418    164.444183   \n",
       "min     1970.000000      1.000000      1.000000   -998.000000   -999.000000   \n",
       "25%     1982.750000      4.000000      8.000000     51.000000     26.000000   \n",
       "50%     1995.500000      7.000000     16.000000     65.000000     38.000000   \n",
       "75%     2008.250000     10.000000     23.000000     80.000000     51.000000   \n",
       "max     2021.000000     12.000000     31.000000    102.000000     77.000000   \n",
       "\n",
       "             Precip          Snow     SnowDepth  \n",
       "count  19032.000000  19032.000000  19032.000000  \n",
       "mean    -149.310692    -85.292350   -134.096574  \n",
       "std      356.237912    279.500443    341.239301  \n",
       "min     -999.000000   -999.000000   -999.000000  \n",
       "25%        0.000000      0.000000      0.000000  \n",
       "50%        0.000000      0.000000      0.000000  \n",
       "75%        0.010000      0.000000      0.000000  \n",
       "max        9.080000     22.000000     27.000000  "
      ]
     },
     "execution_count": 9,
     "metadata": {},
     "output_type": "execute_result"
    }
   ],
   "source": [
    "df.describe()"
   ]
  },
  {
   "cell_type": "markdown",
   "metadata": {},
   "source": [
    "### A) Clean and scrub data\n",
    "We need to pre-process a little to use this, since negative rainfall seems like it might not work well numerically.  Since we're trying to calculate the intensity of the drought, we're also going to make the assumption that \"trace\" rainfall doesn't actually help with water tables/crops/etc, and that the \"missing\" values might as well be \"0's\".\n",
    "\n",
    "- Replace all \"trace\" fill values with 0\n",
    "- Replace all \"missing\" data values with 0\n",
    "\n",
    "We'll work with only the `Precip` column here, but feel free to clean the other columns if you wish."
   ]
  },
  {
   "cell_type": "code",
   "execution_count": 10,
   "metadata": {},
   "outputs": [],
   "source": [
    "df.loc[df['Precip']==-999,'Precip']=0\n",
    "df.loc[df['Precip']==-998,'Precip']=0"
   ]
  },
  {
   "cell_type": "code",
   "execution_count": 11,
   "metadata": {},
   "outputs": [
    {
     "data": {
      "text/html": [
       "<div>\n",
       "<style scoped>\n",
       "    .dataframe tbody tr th:only-of-type {\n",
       "        vertical-align: middle;\n",
       "    }\n",
       "\n",
       "    .dataframe tbody tr th {\n",
       "        vertical-align: top;\n",
       "    }\n",
       "\n",
       "    .dataframe thead th {\n",
       "        text-align: right;\n",
       "    }\n",
       "</style>\n",
       "<table border=\"1\" class=\"dataframe\">\n",
       "  <thead>\n",
       "    <tr style=\"text-align: right;\">\n",
       "      <th></th>\n",
       "      <th>Year</th>\n",
       "      <th>Month</th>\n",
       "      <th>Day</th>\n",
       "      <th>MaxT</th>\n",
       "      <th>MinT</th>\n",
       "      <th>Precip</th>\n",
       "      <th>Snow</th>\n",
       "      <th>SnowDepth</th>\n",
       "    </tr>\n",
       "  </thead>\n",
       "  <tbody>\n",
       "    <tr>\n",
       "      <th>count</th>\n",
       "      <td>19032.000000</td>\n",
       "      <td>19032.000000</td>\n",
       "      <td>19032.000000</td>\n",
       "      <td>19032.000000</td>\n",
       "      <td>19032.000000</td>\n",
       "      <td>19032.000000</td>\n",
       "      <td>19032.000000</td>\n",
       "      <td>19032.000000</td>\n",
       "    </tr>\n",
       "    <tr>\n",
       "      <th>mean</th>\n",
       "      <td>1995.500000</td>\n",
       "      <td>6.513661</td>\n",
       "      <td>15.756831</td>\n",
       "      <td>38.490280</td>\n",
       "      <td>11.295607</td>\n",
       "      <td>0.054220</td>\n",
       "      <td>-85.292350</td>\n",
       "      <td>-134.096574</td>\n",
       "    </tr>\n",
       "    <tr>\n",
       "      <th>std</th>\n",
       "      <td>15.008725</td>\n",
       "      <td>3.451325</td>\n",
       "      <td>8.811761</td>\n",
       "      <td>167.879418</td>\n",
       "      <td>164.444183</td>\n",
       "      <td>0.199848</td>\n",
       "      <td>279.500443</td>\n",
       "      <td>341.239301</td>\n",
       "    </tr>\n",
       "    <tr>\n",
       "      <th>min</th>\n",
       "      <td>1970.000000</td>\n",
       "      <td>1.000000</td>\n",
       "      <td>1.000000</td>\n",
       "      <td>-998.000000</td>\n",
       "      <td>-999.000000</td>\n",
       "      <td>0.000000</td>\n",
       "      <td>-999.000000</td>\n",
       "      <td>-999.000000</td>\n",
       "    </tr>\n",
       "    <tr>\n",
       "      <th>25%</th>\n",
       "      <td>1982.750000</td>\n",
       "      <td>4.000000</td>\n",
       "      <td>8.000000</td>\n",
       "      <td>51.000000</td>\n",
       "      <td>26.000000</td>\n",
       "      <td>0.000000</td>\n",
       "      <td>0.000000</td>\n",
       "      <td>0.000000</td>\n",
       "    </tr>\n",
       "    <tr>\n",
       "      <th>50%</th>\n",
       "      <td>1995.500000</td>\n",
       "      <td>7.000000</td>\n",
       "      <td>16.000000</td>\n",
       "      <td>65.000000</td>\n",
       "      <td>38.000000</td>\n",
       "      <td>0.000000</td>\n",
       "      <td>0.000000</td>\n",
       "      <td>0.000000</td>\n",
       "    </tr>\n",
       "    <tr>\n",
       "      <th>75%</th>\n",
       "      <td>2008.250000</td>\n",
       "      <td>10.000000</td>\n",
       "      <td>23.000000</td>\n",
       "      <td>80.000000</td>\n",
       "      <td>51.000000</td>\n",
       "      <td>0.010000</td>\n",
       "      <td>0.000000</td>\n",
       "      <td>0.000000</td>\n",
       "    </tr>\n",
       "    <tr>\n",
       "      <th>max</th>\n",
       "      <td>2021.000000</td>\n",
       "      <td>12.000000</td>\n",
       "      <td>31.000000</td>\n",
       "      <td>102.000000</td>\n",
       "      <td>77.000000</td>\n",
       "      <td>9.080000</td>\n",
       "      <td>22.000000</td>\n",
       "      <td>27.000000</td>\n",
       "    </tr>\n",
       "  </tbody>\n",
       "</table>\n",
       "</div>"
      ],
      "text/plain": [
       "               Year         Month           Day          MaxT          MinT  \\\n",
       "count  19032.000000  19032.000000  19032.000000  19032.000000  19032.000000   \n",
       "mean    1995.500000      6.513661     15.756831     38.490280     11.295607   \n",
       "std       15.008725      3.451325      8.811761    167.879418    164.444183   \n",
       "min     1970.000000      1.000000      1.000000   -998.000000   -999.000000   \n",
       "25%     1982.750000      4.000000      8.000000     51.000000     26.000000   \n",
       "50%     1995.500000      7.000000     16.000000     65.000000     38.000000   \n",
       "75%     2008.250000     10.000000     23.000000     80.000000     51.000000   \n",
       "max     2021.000000     12.000000     31.000000    102.000000     77.000000   \n",
       "\n",
       "             Precip          Snow     SnowDepth  \n",
       "count  19032.000000  19032.000000  19032.000000  \n",
       "mean       0.054220    -85.292350   -134.096574  \n",
       "std        0.199848    279.500443    341.239301  \n",
       "min        0.000000   -999.000000   -999.000000  \n",
       "25%        0.000000      0.000000      0.000000  \n",
       "50%        0.000000      0.000000      0.000000  \n",
       "75%        0.010000      0.000000      0.000000  \n",
       "max        9.080000     22.000000     27.000000  "
      ]
     },
     "execution_count": 11,
     "metadata": {},
     "output_type": "execute_result"
    }
   ],
   "source": [
    "df.describe()"
   ]
  },
  {
   "cell_type": "markdown",
   "metadata": {},
   "source": [
    "### B) Explore a Pattern\n",
    "\n",
    "What months are the most dangerous for low-rainfall conditions?  Make a new data frame that totals the precipitation for each month since 1970.  The result should be 12 columns for the months and 52 rows for the years. Then create a box plot of the data, resulting in 12 side-by-side plots of monthly precipitation.  Which month looks to be the wettest?  The driest? The most variable?\n",
    "\n",
    "(*Hint:* I recommend a double loop over `(month, year)` pairs for ease of implementation.)"
   ]
  },
  {
   "cell_type": "code",
   "execution_count": 12,
   "metadata": {},
   "outputs": [],
   "source": [
    "newdata=np.zeros((52,12))\n",
    "for mi in range(12):\n",
    "    for yi in range(52):\n",
    "        month=mi+1\n",
    "        year=yi+1970\n",
    "        newdata[yi,mi]=np.sum(df.loc[(df['Month']==month)&(df['Year']==year), 'Precip'])\n",
    "newdf=pd.DataFrame(data=newdata, columns=range(1,13))"
   ]
  },
  {
   "cell_type": "code",
   "execution_count": 13,
   "metadata": {},
   "outputs": [
    {
     "data": {
      "text/html": [
       "<div>\n",
       "<style scoped>\n",
       "    .dataframe tbody tr th:only-of-type {\n",
       "        vertical-align: middle;\n",
       "    }\n",
       "\n",
       "    .dataframe tbody tr th {\n",
       "        vertical-align: top;\n",
       "    }\n",
       "\n",
       "    .dataframe thead th {\n",
       "        text-align: right;\n",
       "    }\n",
       "</style>\n",
       "<table border=\"1\" class=\"dataframe\">\n",
       "  <thead>\n",
       "    <tr style=\"text-align: right;\">\n",
       "      <th></th>\n",
       "      <th>1</th>\n",
       "      <th>2</th>\n",
       "      <th>3</th>\n",
       "      <th>4</th>\n",
       "      <th>5</th>\n",
       "      <th>6</th>\n",
       "      <th>7</th>\n",
       "      <th>8</th>\n",
       "      <th>9</th>\n",
       "      <th>10</th>\n",
       "      <th>11</th>\n",
       "      <th>12</th>\n",
       "    </tr>\n",
       "  </thead>\n",
       "  <tbody>\n",
       "    <tr>\n",
       "      <th>0</th>\n",
       "      <td>0.10</td>\n",
       "      <td>0.03</td>\n",
       "      <td>3.86</td>\n",
       "      <td>0.63</td>\n",
       "      <td>1.17</td>\n",
       "      <td>2.61</td>\n",
       "      <td>1.35</td>\n",
       "      <td>0.20</td>\n",
       "      <td>3.83</td>\n",
       "      <td>1.09</td>\n",
       "      <td>1.60</td>\n",
       "      <td>0.18</td>\n",
       "    </tr>\n",
       "    <tr>\n",
       "      <th>1</th>\n",
       "      <td>0.51</td>\n",
       "      <td>1.36</td>\n",
       "      <td>0.78</td>\n",
       "      <td>6.01</td>\n",
       "      <td>2.00</td>\n",
       "      <td>0.41</td>\n",
       "      <td>1.37</td>\n",
       "      <td>0.10</td>\n",
       "      <td>4.21</td>\n",
       "      <td>0.72</td>\n",
       "      <td>0.56</td>\n",
       "      <td>0.66</td>\n",
       "    </tr>\n",
       "    <tr>\n",
       "      <th>2</th>\n",
       "      <td>1.15</td>\n",
       "      <td>0.44</td>\n",
       "      <td>0.68</td>\n",
       "      <td>1.52</td>\n",
       "      <td>1.22</td>\n",
       "      <td>3.66</td>\n",
       "      <td>2.24</td>\n",
       "      <td>1.79</td>\n",
       "      <td>1.18</td>\n",
       "      <td>1.26</td>\n",
       "      <td>2.15</td>\n",
       "      <td>1.14</td>\n",
       "    </tr>\n",
       "    <tr>\n",
       "      <th>3</th>\n",
       "      <td>1.09</td>\n",
       "      <td>0.17</td>\n",
       "      <td>1.74</td>\n",
       "      <td>4.42</td>\n",
       "      <td>4.88</td>\n",
       "      <td>0.48</td>\n",
       "      <td>1.14</td>\n",
       "      <td>0.32</td>\n",
       "      <td>2.31</td>\n",
       "      <td>0.69</td>\n",
       "      <td>1.84</td>\n",
       "      <td>1.13</td>\n",
       "    </tr>\n",
       "    <tr>\n",
       "      <th>4</th>\n",
       "      <td>0.90</td>\n",
       "      <td>1.07</td>\n",
       "      <td>1.22</td>\n",
       "      <td>3.07</td>\n",
       "      <td>0.00</td>\n",
       "      <td>2.08</td>\n",
       "      <td>0.51</td>\n",
       "      <td>0.37</td>\n",
       "      <td>2.13</td>\n",
       "      <td>2.24</td>\n",
       "      <td>1.06</td>\n",
       "      <td>0.46</td>\n",
       "    </tr>\n",
       "  </tbody>\n",
       "</table>\n",
       "</div>"
      ],
      "text/plain": [
       "     1     2     3     4     5     6     7     8     9     10    11    12\n",
       "0  0.10  0.03  3.86  0.63  1.17  2.61  1.35  0.20  3.83  1.09  1.60  0.18\n",
       "1  0.51  1.36  0.78  6.01  2.00  0.41  1.37  0.10  4.21  0.72  0.56  0.66\n",
       "2  1.15  0.44  0.68  1.52  1.22  3.66  2.24  1.79  1.18  1.26  2.15  1.14\n",
       "3  1.09  0.17  1.74  4.42  4.88  0.48  1.14  0.32  2.31  0.69  1.84  1.13\n",
       "4  0.90  1.07  1.22  3.07  0.00  2.08  0.51  0.37  2.13  2.24  1.06  0.46"
      ]
     },
     "execution_count": 13,
     "metadata": {},
     "output_type": "execute_result"
    }
   ],
   "source": [
    "newdf.head()"
   ]
  },
  {
   "cell_type": "code",
   "execution_count": 14,
   "metadata": {},
   "outputs": [
    {
     "data": {
      "text/plain": [
       "<matplotlib.axes._subplots.AxesSubplot at 0x1e19ab69f98>"
      ]
     },
     "execution_count": 14,
     "metadata": {},
     "output_type": "execute_result"
    },
    {
     "data": {
      "image/png": "[encoded data removed]",
      "text/plain": [
       "<matplotlib.figure.Figure at 0x1e19ab68c88>"
      ]
     },
     "metadata": {},
     "output_type": "display_data"
    }
   ],
   "source": [
    "newdf.boxplot()"
   ]
  },
  {
   "cell_type": "markdown",
   "metadata": {},
   "source": [
    "**Solution:**\n",
    "\n",
    "May is both the wettest (highest median and quartiles) and the most variable (tallest box).  Driest is a little tougher, but visually is either January or December."
   ]
  },
  {
   "cell_type": "markdown",
   "metadata": {},
   "source": [
    "For the rest of the problem, we will use the original data frame with the **daily** data.\n",
    "\n",
    "### C) Create four new columns to track drought intensity:\n",
    "\n",
    "- `DaysRainless` that holds the number of days since the last non-trace precipitation.  In other words, this column will have a \"0\" if there was Precip>0 on that day, and otherwise will hold the number of days back since the last observed Precip>0.\n",
    "\n",
    "- `DaysUnimpressive` that holds the number of days since the last *significant* precipitation, where it rained at least .1 inches in a calendar day.  In other words, this column will have a \"0\" if there was Precip>.1 on that day, and otherwise will hold the number of days back since the last observed Precip>.10.\n",
    "\n",
    "- `Precip30` that holds the cumulative amount of precipitation in the last 30 days.\n",
    " \n",
    "- `Precip120` that holds the cumulative amount of precipitation in the last 120 days.\n",
    "\n",
    "Because each of these look \"backwards\" and require data prior to date you enter them in, you may begin calculating them starting in 1971, then remove or `drop` the 1970 data from the data frame afterwards.\n",
    "\n",
    "(*Hints*: A simple loop should be good for all of these, but careful with using indices: 1970 was a leap year!  I recommend using slicing to \"go back\" 30/120 days for the Precip variables, and using a counter/incrementor to count \"days since\" on the other two.)"
   ]
  },
  {
   "cell_type": "code",
   "execution_count": 15,
   "metadata": {},
   "outputs": [],
   "source": [
    "DRctr=0\n",
    "P30=0\n",
    "P120=0\n",
    "DIctr=0\n",
    "#doing just the indicator/counters for year 1, then the averages for later years\n",
    "for i in range(366):\n",
    "    if df.loc[i,'Precip']>0:\n",
    "        DRctr=0\n",
    "    else: DRctr+=1\n",
    "    df.loc[i,'DaysRainless']=DRctr\n",
    "    \n",
    "    if df.loc[i,'Precip']>.1:\n",
    "        DIctr=0\n",
    "    else: DIctr+=1\n",
    "    df.loc[i,'DaysUnimpressive']=DIctr"
   ]
  },
  {
   "cell_type": "code",
   "execution_count": 16,
   "metadata": {},
   "outputs": [],
   "source": [
    "for i in range(366, len(df)):\n",
    "    if df.loc[i,'Precip']>0:\n",
    "        DRctr=0\n",
    "    else: DRctr+=1\n",
    "    df.loc[i,'DaysRainless']=DRctr\n",
    "    \n",
    "    if df.loc[i,'Precip']>.1:\n",
    "        DIctr=0\n",
    "    else: DIctr+=1\n",
    "    df.loc[i,'DaysUnimpressive']=DIctr\n",
    "    \n",
    "    df.loc[i,'Precip30']=np.sum(df.loc[(i-30):i,'Precip'])\n",
    "    df.loc[i,'Precip120']=np.sum(df.loc[((i-120)):i,'Precip'])\n"
   ]
  },
  {
   "cell_type": "code",
   "execution_count": 17,
   "metadata": {},
   "outputs": [],
   "source": [
    "df=df[df['Year']>1970]"
   ]
  },
  {
   "cell_type": "code",
   "execution_count": 18,
   "metadata": {},
   "outputs": [
    {
     "data": {
      "image/png": "[encoded data removed]",
      "text/plain": [
       "<matplotlib.figure.Figure at 0x1e19ada4b00>"
      ]
     },
     "metadata": {},
     "output_type": "display_data"
    }
   ],
   "source": [
    "plt.hist(df.loc[366:,'Precip120'], bins=np.linspace(0,25,26)); #not needed, but heres results of 120-day-precip"
   ]
  },
  {
   "cell_type": "markdown",
   "metadata": {},
   "source": [
    "### D) Measure Extremity\n",
    "\n",
    "Suppose we were tasked with using data-based methods to predict fire risk based on this data.  One way we might do so is determine where or not the weather has been unsually dry in the recent months.  There are two common ways we measure \"extremity\" of an observation (among others).\n",
    "\n",
    "- A **Z-score**.  The **Z-score** for an observation $X_i$ is given by $$Z_i=\\frac{X_i-\\bar{X}}{s_X},$$where $\\bar{X}$ are the mean and standard deviation of the data $X$, as usual.  We interpret it with the sentence: how many standard deviations above or below the average value for $X$ was the $i$th observation?  Values near 0 are \"close to average\" and values exceeding $\\pm 2$ tend to be considered \"large.\"\n",
    "\n",
    "- A proportion.  A data is extreme if it is one of the largest or smallest observations in a data set.  We can compute it by counting the *proportions* of data values less than or greater than the observation in question.  In other words: a drought might be considered extreme if only 1% of days had **less** recent rainfall, or if only 1% of days had **more** days-since-last-precipitation. \n",
    "\n",
    "Using these measures, calculate \"how extreme\" the drought in Boulder on Dec 30 2021 was.  Output your results into a 4x2 table where each row is one of the 4 measures created in **C** and the two columns are Z-scores and \"extremity proportion.\""
   ]
  },
  {
   "cell_type": "code",
   "execution_count": 19,
   "metadata": {},
   "outputs": [
    {
     "name": "stdout",
     "output_type": "stream",
     "text": [
      "Stats for DaysRainless; Dec 30 measured 6.0 -0.00115718517351914 0.2437051323261545\n",
      "Stats for DaysUnimpressive; Dec 30 measured 92.0 4.327496399544752 0.008411014679095682\n",
      "Stats for Precip30; Dec 30 measured 0.16 -0.9898180138285533 0.052341155041251475\n",
      "Stats for Precip120; Dec 30 measured 0.9400000000000001 -1.6916644953027793 0.00792885460195007\n"
     ]
    }
   ],
   "source": [
    "z_dr=(df.loc[19030,'DaysRainless']-np.mean(df['DaysRainless']))/np.std(df['DaysRainless'], ddof=1)\n",
    "z_du=(df.loc[19030,'DaysUnimpressive']-np.mean(df['DaysUnimpressive']))/np.std(df['DaysUnimpressive'], ddof=1)\n",
    "z_p30=(df.loc[19030,'Precip30']-np.mean(df['Precip30']))/np.std(df['Precip30'], ddof=1)\n",
    "z_p120=(df.loc[19030,'Precip120']-np.mean(df['Precip120']))/np.std(df['Precip120'], ddof=1)\n",
    "\n",
    "prop_dr=np.sum(df['DaysRainless']>df.loc[19030,'DaysRainless'])/len(df)\n",
    "prop_du=np.sum(df['DaysUnimpressive']>df.loc[19030,'DaysUnimpressive'])/len(df)\n",
    "prop_p30=np.sum(df['Precip30']<df.loc[19030,'Precip30'])/len(df)\n",
    "prop_p120=np.sum(df['Precip120']<df.loc[19030,'Precip120'])/len(df)\n",
    "\n",
    "print('Stats for DaysRainless; Dec 30 measured',df.loc[19030,'DaysRainless'], z_dr, prop_dr)\n",
    "print('Stats for DaysUnimpressive; Dec 30 measured',df.loc[19030,'DaysUnimpressive'], z_du, prop_du)\n",
    "print('Stats for Precip30; Dec 30 measured',df.loc[19030,'Precip30'], z_p30, prop_p30)\n",
    "print('Stats for Precip120; Dec 30 measured',df.loc[19030,'Precip120'], z_p120, prop_p120)"
   ]
  },
  {
   "cell_type": "markdown",
   "metadata": {},
   "source": [
    "It was pretty typical for Days Rainless, since the score is \"close to the mean\" and a full 1/4 of the data set had longer days.  However, the 120-day precipitation measures and \"days since major rain\" tell a better picture: it was in the most extreme 1% of data values for both scores, and a pretty sizable 92 days (or 4.3 standard deviations) above the average length between reasonable rainfalls in Colorado."
   ]
  },
  {
   "cell_type": "markdown",
   "metadata": {},
   "source": [
    "### E) Make some More Pictures\n",
    "\n",
    "Does it feel like droughts might be getting worse over time?  Make a plot of three side-by-side box plots of the values of `DaysUnimpressive` taken for:\n",
    "- Years 1971-1990\n",
    "- Years 1991-2010\n",
    "- Years 2011-present\n",
    "\n",
    "Does there appear to be a difference in the boxplots in the medians?   In the Quartiles?  What about in the whiskers or prevalance of outliers?"
   ]
  },
  {
   "cell_type": "code",
   "execution_count": 62,
   "metadata": {},
   "outputs": [
    {
     "name": "stdout",
     "output_type": "stream",
     "text": [
      "Numerical box values in [lower quartile, median, upper quartile] tuples:\n",
      "70-90: [ 2.  7. 15.]\n",
      "90-10: [ 2.  6. 13.]\n",
      "10-present: [ 2.  6. 13.]\n"
     ]
    },
    {
     "name": "stderr",
     "output_type": "stream",
     "text": [
      "C:\\Users\\zacha\\Anaconda3\\lib\\site-packages\\numpy\\core\\fromnumeric.py:52: FutureWarning: reshape is deprecated and will raise in a subsequent release. Please use .values.reshape(...) instead\n",
      "  return getattr(obj, method)(*args, **kwds)\n"
     ]
    },
    {
     "data": {
      "image/png": "[encoded data removed]",
      "text/plain": [
       "<matplotlib.figure.Figure at 0x1e19c984630>"
      ]
     },
     "metadata": {},
     "output_type": "display_data"
    }
   ],
   "source": [
    "fig, ax=plt.subplots(figsize=(10,4))\n",
    "\n",
    "early=df.loc[(df['Year']>1970) & (df['Year']<1991), 'DaysUnimpressive']\n",
    "middle=df.loc[(df['Year']>1990) & (df['Year']<2011), 'DaysUnimpressive']\n",
    "recent=df.loc[(df['Year']>2010), 'DaysUnimpressive']\n",
    "              \n",
    "flierprops = dict(marker='o', markersize=.2) #smaller points make it easier to see here, but aren't needed\n",
    "ax.boxplot([early,middle,recent], flierprops=flierprops);\n",
    "ax.set_xticklabels(['1971-1990','1991-2010','Since 2011'])\n",
    "\n",
    "print(\"Numerical box values in [lower quartile, median, upper quartile] tuples:\")\n",
    "print(\"70-90:\", np.percentile(early,[25,50,75]))\n",
    "print(\"90-10:\", np.percentile(middle,[25,50,75]))\n",
    "print(\"10-present:\", np.percentile(recent,[25,50,75]))"
   ]
  },
  {
   "cell_type": "markdown",
   "metadata": {},
   "source": [
    "**Solution:**\n",
    "\n",
    "Based on these measures it doesn't look to be getting any worse: the most recent window has the same box as the 1990-2010 window, and even lower median and upper quartile than the earlier box.\n",
    "\n",
    "(...maybe you want to check: is there a chance that very long streak in the earliest data included missing data that we \"renamed\" to be 0?)"
   ]
  },
  {
   "cell_type": "markdown",
   "metadata": {},
   "source": [
    "### F) Discuss\n",
    "\n",
    "Does it seem like these measures are working?  Skim the [USGS introductory material](https://www.usgs.gov/faqs/why-doesnt-drought-end-when-it-rains) and its associated pages on droughts and rainfall.  Are our measures able to capture some of the ideas there-in?  Why or why not?  In a markdown cell, use a few sentences to describe strengths and weaknesses of our calculations in estimating drought intensity."
   ]
  },
  {
   "cell_type": "markdown",
   "metadata": {},
   "source": []
  },
  {
   "cell_type": "markdown",
   "metadata": {},
   "source": [
    "**Solution**:\n",
    "\n",
    "They're... ok?  It's an attempt to determine things like how much rain actually penetrated the topsoil, but models for things like actual plant hydration/water capacity that might affect things like tree versus grass fires would require a more nuanced look at the geography and biology.  Ideally you learned how hard these things can be to predict though: even those the conditions were **very** bad on December 30, they weren't the worst we've ever seen in terms of driness.  Instead, some combination of the seasonal weather provided the tinder where as the very windy day (and possibly some human interaction) provided the spark that made such an event possible for our city."
   ]
  }
 ],
 "metadata": {
  "kernelspec": {
   "display_name": "Python 3",
   "language": "python",
   "name": "python3"
  },
  "language_info": {
   "codemirror_mode": {
    "name": "ipython",
    "version": 3
   },
   "file_extension": ".py",
   "mimetype": "text/x-python",
   "name": "python",
   "nbconvert_exporter": "python",
   "pygments_lexer": "ipython3",
   "version": "3.6.4"
  }
 },
 "nbformat": 4,
 "nbformat_minor": 2
}
