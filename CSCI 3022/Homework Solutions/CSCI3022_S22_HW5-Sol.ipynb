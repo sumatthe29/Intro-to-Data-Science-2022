{
 "cells": [
  {
   "cell_type": "markdown",
   "metadata": {},
   "source": [
    "<a id='top'></a>\n",
    "\n",
    "# CSCI3022 S22\n",
    "\n",
    "\n",
    "\n",
    "# Homework 5: Confidence Intervals\n",
    "\n",
    "## Due Monday, April 4 at 11:59 pm to Canvas and Gradescope\n",
    "***\n",
    "\n",
    "**Name**: ________________________________________________________________________\n",
    "\n",
    "***\n",
    "\n",
    "Your solutions to computational questions should include any specified Python code and results as well as written commentary on your conclusions.  Remember that you are encouraged to discuss the problems with your classmates, but **you must write all code and solutions on your own**.\n",
    "\n",
    "**NOTES**: \n",
    "\n",
    "- Any relevant data sets should be available on Canvas. To make life easier on the graders if they need to run your code, do not change the relative path names here. Instead, move the files around on your computer.\n",
    "- If you're not familiar with typesetting math directly into Markdown then by all means, do your work on paper first and then typeset it later.  Here is a [reference guide](https://math.meta.stackexchange.com/questions/5020/mathjax-basic-tutorial-and-quick-reference) linked on Canvas on writing math in Markdown. **All** of your written commentary, justifications and mathematical work should be in Markdown.  I also recommend the [wikibook](https://en.wikibooks.org/wiki/LaTeX) for LaTex.\n",
    "- Because you can technically evaluate notebook cells is a non-linear order, it's a good idea to do **Kernel $\\rightarrow$ Restart & Run All** as a check before submitting your solutions.  That way if we need to run your code you will know that it will work as expected. \n",
    "- It is **bad form** to make your reader interpret numerical output from your code.  If a question asks you to compute some value from the data you should show your code output **AND** write a summary of the results in Markdown directly below your code. \n",
    "- 45 points of this assignment are in problems.  The remaining 5 are for neatness, style, and overall exposition of both code and text.\n",
    "- This probably goes without saying, but... For any question that asks you to calculate something, you **must show all work and justify your answers to receive credit**. Sparse or nonexistent work will receive sparse or nonexistent credit. \n",
    "- There is *not a prescribed API* for these problems.  You may answer coding questions with whatever syntax or object typing you deem fit.  Your evaluation will primarily live in the clarity of how well you present your final results, so don't skip over any interpretations!  Your code should still be commented and readable to ensure you followed the given course algorithm.\n",
    "- There are two ways to quickly make a .pdf out of this notebook for Gradescope submission.  Either:\n",
    " - Use File -> Download as PDF via LaTeX.  This will require your system path find a working install of a TeX compiler\n",
    " - Easier: Use File ->  Print Preview, and then Right-Click -> Print using your default browser and \"Print to PDF\"\n",
    "\n"
   ]
  },
  {
   "cell_type": "code",
   "execution_count": 2,
   "metadata": {},
   "outputs": [],
   "source": [
    "import numpy as np\n",
    "import pandas as pd\n",
    "import matplotlib.pylab as plt\n",
    "import scipy.stats as stats\n",
    "%matplotlib inline"
   ]
  },
  {
   "cell_type": "markdown",
   "metadata": {},
   "source": [
    "\n",
    "---\n",
    "**Shortcuts:**  [Problem 1](#p1) | [Problem 2](#p2) | [Problem 3](#p3) |\n",
    "---\n"
   ]
  },
  {
   "cell_type": "markdown",
   "metadata": {},
   "source": [
    "[Back to top](#top)\n",
    "\n",
    "<a id='p1'></a>\n",
    "\n",
    "## (15 pts) Problem 1 (Computation): How did we do?\n",
    "***\n",
    "\n",
    "In prior (and future) homeworks and the exam coding, we have placed a large emphasis on using **simulations** to estimate probabilities.  In these cases, we're actually simulating a process or game and then counting outcomes as *proportions* to estimate what we believe are the exact *probabilities*.\n",
    "\n",
    "On Homework 3 we we just stated that our simulated *proportions* would match the theoretical *probabilities* if our sample size was large enough.  But it's important in data science to always convey our sense of error, in some form of **uncertainty quantification**.  Confidence intervals are a simple way to do this!\n",
    "\n",
    "**A**: For *your* results from the \"poker hands\" problem of HW 3 Problem 2, what is the corresponding 99% confidence interval on the probability of getting 3-of-a-kind?\n",
    "\n",
    "*Note:* If you didn't actually do this problem, you may use the solution simulation values of 213 \"3-of-a-kind\" hands in 10000 simulations.  But use your own exact value if possible!"
   ]
  },
  {
   "cell_type": "code",
   "execution_count": 42,
   "metadata": {},
   "outputs": [
    {
     "name": "stdout",
     "output_type": "stream",
     "text": [
      "CI of: 0.017580952926315202 0.025019047073684797\n"
     ]
    }
   ],
   "source": [
    "phat=213/10000\n",
    "zcrit=stats.norm.ppf(.995)\n",
    "se=np.sqrt(phat*(1-phat)/10000)\n",
    "print('CI of:', phat-zcrit*se,phat+zcrit*se)"
   ]
  },
  {
   "cell_type": "markdown",
   "metadata": {},
   "source": [
    "**B**: For *your* results from the \"NFL overtime\" problem of HW 3 Problem 3, what is the 99% corresponding confidence interval on how much more likely it is for team 1 (receiving the ball first) to win than team 2?\n",
    "\n",
    "*Note:* If you didn't actually do this problem, you may use the solution simulation values of 542 \"team 1 wins\" and 321 \"team 2 wins\" in 1000 simulations.  But use your own exact values if possible!"
   ]
  },
  {
   "cell_type": "code",
   "execution_count": 41,
   "metadata": {},
   "outputs": [
    {
     "name": "stdout",
     "output_type": "stream",
     "text": [
      "CI of: 0.16538385467408695 0.2766161453259131\n"
     ]
    }
   ],
   "source": [
    "p1hat=542/1000\n",
    "p2hat=321/1000\n",
    "diff=p1hat-p2hat\n",
    "zcrit=stats.norm.ppf(.995)\n",
    "se=np.sqrt(p1hat*(1-p1hat)/1000+p2hat*(1-p2hat)/1000)\n",
    "print('CI of:', diff-zcrit*se,diff+zcrit*se)"
   ]
  },
  {
   "cell_type": "markdown",
   "metadata": {},
   "source": [
    "[Back to top](#top)\n",
    "\n",
    "<a id='p2'></a>\n",
    "\n",
    "## (10 pts) Problem 2 (Theory): How big a Sample?\n",
    "***\n",
    "\n",
    "As Problem 1 suggests, the goal of our simulations is usually to be \"as close as possible\" to the true value.\n",
    "\n",
    "Towards that end, use Markdown to answer the following **exactly**:\n",
    "\n",
    "How many simulations are necessary to ensure that the confidence interval centered around a sample proportion $\\hat{p}$ is of width **at most** 1%?  Use a significance of 95\\% and approximate that $z_{0.025}=2$.\n",
    "\n",
    "*Hint*: The width of the confidence interval for proportions depends on $\\hat{p}$.  What is the worst case scenario that makes it widest?  How big should $n$ be to account for this?"
   ]
  },
  {
   "cell_type": "markdown",
   "metadata": {},
   "source": [
    "**Solution:**  \n",
    "\n",
    "The width of the interval is 2 times the stuff after the \"plus or minus\" sign, so we have:\n",
    "\n",
    "width$=2 \\cdot z_{0.025} \\sqrt{\\frac{\\hat{p}(1-\\hat{p})}{n}}$\n",
    "\n",
    "Our goal is to make this less than 0.01 or 1%.  We plug in 2 for the critical value and note that the \"worst case\" scenario is when the binomial has highest variance, which is $\\hat{p}=.5$ or $\\hat{p}(1-\\hat{p})=\\frac{1}{4}$.\n",
    "\n",
    "$$2 \\cdot z_{0.025}  \\sqrt{\\frac{\\hat{p}(1-\\hat{p})}{n}}<0.01 \\implies 2 \\cdot 2  \\sqrt{\\frac{1}{4n}}<\\frac{1}{100}$$\n",
    "$$\\implies 2 \\sqrt{\\frac{1}{n}}<\\frac{1}{100} \\implies \\sqrt{\\frac{1}{n}}<\\frac{1}{200}\\implies \\frac{1}{n}<\\frac{1}{200^2}$$\n",
    "$$\\implies n> 200^2 \\implies n> 40000$$\n"
   ]
  },
  {
   "cell_type": "markdown",
   "metadata": {},
   "source": [
    "[Back to top](#top)\n",
    "\n",
    "<a id='p3'></a>\n",
    "\n",
    "## (20 pts) Problem 3 (Computation): How different are the months?\n",
    "***\n",
    "\n",
    "Consider the Boulder Weather data also used in Homework 2.\n",
    "\n",
    "Load in the data in boulder_daily_weather.csv\n",
    "\n",
    "Information on the file is as follows:\n",
    "\n",
    "- Temperatures are in degrees Fahrenheit and snow and precipitation are in inches.\n",
    "- Precipitation is the total liquid equivalent of all forms of precipitation (rain, snow, hail,...).\n",
    "- Missing values are indicated by -998.0.\n",
    "- Trace values (less than 1/10 for snow and 1/100 for rain) are indicated by -999.0.\n",
    "- Your file starts in 1970, although limited data goes back to 1899 from NOAA.\n"
   ]
  },
  {
   "cell_type": "code",
   "execution_count": 5,
   "metadata": {},
   "outputs": [
    {
     "name": "stdout",
     "output_type": "stream",
     "text": [
      "   Year  Month  Day  MaxT  MinT  Precip  Snow  SnowDepth\n",
      "0  1970      1    1    32    19  -999.0  -999          3\n",
      "1  1970      1    2    33    15     0.0     0          3\n",
      "Year           int64\n",
      "Month          int64\n",
      "Day            int64\n",
      "MaxT           int64\n",
      "MinT           int64\n",
      "Precip       float64\n",
      "Snow           int64\n",
      "SnowDepth      int64\n",
      "dtype: object\n"
     ]
    },
    {
     "data": {
      "text/html": [
       "<div>\n",
       "<style scoped>\n",
       "    .dataframe tbody tr th:only-of-type {\n",
       "        vertical-align: middle;\n",
       "    }\n",
       "\n",
       "    .dataframe tbody tr th {\n",
       "        vertical-align: top;\n",
       "    }\n",
       "\n",
       "    .dataframe thead th {\n",
       "        text-align: right;\n",
       "    }\n",
       "</style>\n",
       "<table border=\"1\" class=\"dataframe\">\n",
       "  <thead>\n",
       "    <tr style=\"text-align: right;\">\n",
       "      <th></th>\n",
       "      <th>Year</th>\n",
       "      <th>Month</th>\n",
       "      <th>Day</th>\n",
       "      <th>MaxT</th>\n",
       "      <th>MinT</th>\n",
       "      <th>Precip</th>\n",
       "      <th>Snow</th>\n",
       "      <th>SnowDepth</th>\n",
       "    </tr>\n",
       "  </thead>\n",
       "  <tbody>\n",
       "    <tr>\n",
       "      <th>count</th>\n",
       "      <td>19032.000000</td>\n",
       "      <td>19032.000000</td>\n",
       "      <td>19032.000000</td>\n",
       "      <td>19032.000000</td>\n",
       "      <td>19032.000000</td>\n",
       "      <td>19032.000000</td>\n",
       "      <td>19032.000000</td>\n",
       "      <td>19032.000000</td>\n",
       "    </tr>\n",
       "    <tr>\n",
       "      <th>mean</th>\n",
       "      <td>1995.500000</td>\n",
       "      <td>6.513661</td>\n",
       "      <td>15.756831</td>\n",
       "      <td>38.490280</td>\n",
       "      <td>11.295607</td>\n",
       "      <td>-149.310692</td>\n",
       "      <td>-85.292350</td>\n",
       "      <td>-134.096574</td>\n",
       "    </tr>\n",
       "    <tr>\n",
       "      <th>std</th>\n",
       "      <td>15.008725</td>\n",
       "      <td>3.451325</td>\n",
       "      <td>8.811761</td>\n",
       "      <td>167.879418</td>\n",
       "      <td>164.444183</td>\n",
       "      <td>356.237912</td>\n",
       "      <td>279.500443</td>\n",
       "      <td>341.239301</td>\n",
       "    </tr>\n",
       "    <tr>\n",
       "      <th>min</th>\n",
       "      <td>1970.000000</td>\n",
       "      <td>1.000000</td>\n",
       "      <td>1.000000</td>\n",
       "      <td>-998.000000</td>\n",
       "      <td>-999.000000</td>\n",
       "      <td>-999.000000</td>\n",
       "      <td>-999.000000</td>\n",
       "      <td>-999.000000</td>\n",
       "    </tr>\n",
       "    <tr>\n",
       "      <th>25%</th>\n",
       "      <td>1982.750000</td>\n",
       "      <td>4.000000</td>\n",
       "      <td>8.000000</td>\n",
       "      <td>51.000000</td>\n",
       "      <td>26.000000</td>\n",
       "      <td>0.000000</td>\n",
       "      <td>0.000000</td>\n",
       "      <td>0.000000</td>\n",
       "    </tr>\n",
       "    <tr>\n",
       "      <th>50%</th>\n",
       "      <td>1995.500000</td>\n",
       "      <td>7.000000</td>\n",
       "      <td>16.000000</td>\n",
       "      <td>65.000000</td>\n",
       "      <td>38.000000</td>\n",
       "      <td>0.000000</td>\n",
       "      <td>0.000000</td>\n",
       "      <td>0.000000</td>\n",
       "    </tr>\n",
       "    <tr>\n",
       "      <th>75%</th>\n",
       "      <td>2008.250000</td>\n",
       "      <td>10.000000</td>\n",
       "      <td>23.000000</td>\n",
       "      <td>80.000000</td>\n",
       "      <td>51.000000</td>\n",
       "      <td>0.010000</td>\n",
       "      <td>0.000000</td>\n",
       "      <td>0.000000</td>\n",
       "    </tr>\n",
       "    <tr>\n",
       "      <th>max</th>\n",
       "      <td>2021.000000</td>\n",
       "      <td>12.000000</td>\n",
       "      <td>31.000000</td>\n",
       "      <td>102.000000</td>\n",
       "      <td>77.000000</td>\n",
       "      <td>9.080000</td>\n",
       "      <td>22.000000</td>\n",
       "      <td>27.000000</td>\n",
       "    </tr>\n",
       "  </tbody>\n",
       "</table>\n",
       "</div>"
      ],
      "text/plain": [
       "               Year         Month           Day          MaxT          MinT  \\\n",
       "count  19032.000000  19032.000000  19032.000000  19032.000000  19032.000000   \n",
       "mean    1995.500000      6.513661     15.756831     38.490280     11.295607   \n",
       "std       15.008725      3.451325      8.811761    167.879418    164.444183   \n",
       "min     1970.000000      1.000000      1.000000   -998.000000   -999.000000   \n",
       "25%     1982.750000      4.000000      8.000000     51.000000     26.000000   \n",
       "50%     1995.500000      7.000000     16.000000     65.000000     38.000000   \n",
       "75%     2008.250000     10.000000     23.000000     80.000000     51.000000   \n",
       "max     2021.000000     12.000000     31.000000    102.000000     77.000000   \n",
       "\n",
       "             Precip          Snow     SnowDepth  \n",
       "count  19032.000000  19032.000000  19032.000000  \n",
       "mean    -149.310692    -85.292350   -134.096574  \n",
       "std      356.237912    279.500443    341.239301  \n",
       "min     -999.000000   -999.000000   -999.000000  \n",
       "25%        0.000000      0.000000      0.000000  \n",
       "50%        0.000000      0.000000      0.000000  \n",
       "75%        0.010000      0.000000      0.000000  \n",
       "max        9.080000     22.000000     27.000000  "
      ]
     },
     "execution_count": 5,
     "metadata": {},
     "output_type": "execute_result"
    }
   ],
   "source": [
    "df=pd.read_csv('../data/boulder_daily_weather.csv', encoding='UTF-8')\n",
    "print(df.head(2))\n",
    "print(df.dtypes)\n",
    "df.head(5)\n",
    "df.describe()"
   ]
  },
  {
   "cell_type": "markdown",
   "metadata": {},
   "source": [
    "**A:** Remove all locations where the `MaxT` variable is set to the missing or trace fill value. Do **not** remove any rows that have `MaxT` but are missing other variables."
   ]
  },
  {
   "cell_type": "code",
   "execution_count": 16,
   "metadata": {},
   "outputs": [],
   "source": [
    "#solution:\n",
    "months=np.unique(df['Month'])\n",
    "df.loc[df['MaxT']==-998, 'MaxT']=np.nan\n",
    "df.loc[df['MaxT']==-999, 'MaxT']=np.nan\n"
   ]
  },
  {
   "cell_type": "markdown",
   "metadata": {},
   "source": [
    "**B:** For each of the 12 months of the year, find and print the means, standard deviations, and number of observations of the `MaxT` variable for that month."
   ]
  },
  {
   "cell_type": "code",
   "execution_count": 21,
   "metadata": {},
   "outputs": [
    {
     "data": {
      "text/plain": [
       "array([[  45.95806452,   12.15889726, 1550.        ],\n",
       "       [  48.08315863,   12.55853718, 1431.        ],\n",
       "       [  55.81024668,   11.56837335, 1581.        ],\n",
       "       [  62.49294872,   11.34054815, 1560.        ],\n",
       "       [  71.08544304,   10.11853325, 1580.        ],\n",
       "       [  82.39084967,    8.63413276, 1530.        ],\n",
       "       [  87.59898798,    6.58353135, 1581.        ],\n",
       "       [  85.62127929,    6.47308579, 1579.        ],\n",
       "       [  77.95866667,    9.71087838, 1500.        ],\n",
       "       [  66.08993034,   11.28570183, 1579.        ],\n",
       "       [  53.67533333,   12.4637135 , 1500.        ],\n",
       "       [  46.16962025,   12.50166656, 1580.        ]])"
      ]
     },
     "execution_count": 21,
     "metadata": {},
     "output_type": "execute_result"
    }
   ],
   "source": [
    "#solution:\n",
    "#filling in a data frame: 12x3; for each month: mean MaxT, sd MaxT, n\n",
    "monthlyvalues=np.zeros((12,3))\n",
    "\n",
    "ctr=0\n",
    "for month in months:\n",
    "    data=df.loc[df['Month']==month, 'MaxT']\n",
    "    data=data.dropna()\n",
    "    monthlyvalues[ctr,0]=np.mean(data)\n",
    "    monthlyvalues[ctr,1]=np.std(data, ddof=1)\n",
    "    monthlyvalues[ctr,2]=len(data)\n",
    "    ctr+=1\n",
    "    \n",
    "monthlyvalues"
   ]
  },
  {
   "cell_type": "markdown",
   "metadata": {},
   "source": [
    "**C:** Make a plot where the X-axis is the month of the year (1-12) and the y-axis is the mean `MaxT`.  Do any of the months appear very close in temperature?"
   ]
  },
  {
   "cell_type": "code",
   "execution_count": 32,
   "metadata": {},
   "outputs": [
    {
     "data": {
      "text/plain": [
       "<matplotlib.collections.PathCollection at 0x21823d93a60>"
      ]
     },
     "execution_count": 32,
     "metadata": {},
     "output_type": "execute_result"
    },
    {
     "data": {
      "image/png": "[encoded data removed]",
      "text/plain": [
       "<Figure size 432x288 with 1 Axes>"
      ]
     },
     "metadata": {
      "needs_background": "light"
     },
     "output_type": "display_data"
    }
   ],
   "source": [
    "#solution:\n",
    "plt.scatter(range(1,13), monthlyvalues[:,0])"
   ]
  },
  {
   "cell_type": "markdown",
   "metadata": {},
   "source": [
    "**Solution:**  Hard to say, but a lot of these points are pretty close together!  Jan and Dec have the closest means, but many more are within a couple of degrees of one another: March/November, July/August, and Dec/Feb are quite close as well."
   ]
  },
  {
   "cell_type": "markdown",
   "metadata": {},
   "source": [
    "**D:** For each *pair* of months (a total of $\\binom n2$ pairs), compute a 99% confidence interval on the difference in the mean maximum temperatutes `MaxT`.  Use the large-sample normal approximation.\n",
    "\n",
    "Whenever 0 is inside the confidence interval for that difference in means, make note of it."
   ]
  },
  {
   "cell_type": "code",
   "execution_count": 38,
   "metadata": {},
   "outputs": [
    {
     "name": "stdout",
     "output_type": "stream",
     "text": [
      "Months 1 and 12 have a CI that includes 0\n"
     ]
    }
   ],
   "source": [
    "zcrit=stats.norm.ppf(.995)\n",
    "for mo1 in range(12):\n",
    "    for mo2 in range(mo1+1,12):\n",
    "        meandiff=monthlyvalues[mo1,0]-monthlyvalues[mo2,0]\n",
    "        pooledse=np.sqrt(monthlyvalues[mo1,1]**2/monthlyvalues[mo1,2]+monthlyvalues[mo2,1]**2/monthlyvalues[mo1,2])\n",
    "        CImin=meandiff-zcrit*pooledse\n",
    "        CImax=meandiff+zcrit*pooledse\n",
    "#         print(mo1, mo2, CImin, CImax)\n",
    "        if (CImin<0) and (CImax>0):\n",
    "            print('Months', mo1+1, 'and', mo2+1, 'have a CI that includes 0')"
   ]
  },
  {
   "cell_type": "markdown",
   "metadata": {},
   "source": [
    "**E:** What months have \"about the same\" *average* maximum temperature in part **D**?  Does this match what you expected from part **C**?"
   ]
  },
  {
   "cell_type": "markdown",
   "metadata": {},
   "source": [
    "**Solution:**  Only Dec and January!  Our sample size is large enough that we're pretty sure the other differences are \"big enough\" that they intervals don't include 0."
   ]
  },
  {
   "cell_type": "markdown",
   "metadata": {},
   "source": [
    "**F:** In the prior problem, we computed a lot of intervals, and we allowed each interval to have a confidence of 99%. What is the probability that *each and every* interval contained the true value of $\\mu_A-\\mu_B$?\n",
    "\n",
    "*Hint*: this is not the same question as follows in Part G."
   ]
  },
  {
   "cell_type": "markdown",
   "metadata": {},
   "source": [
    "**Solution:**  0 or 1.  They either do or they don't.  We don't *know* the true means, but they were either inside the interval or they weren't.  This is **not random**."
   ]
  },
  {
   "cell_type": "markdown",
   "metadata": {},
   "source": [
    "**G:** Suppose we are *planning* to gather a large data set, where we will construct $\\binom n2$ independent confidence intervals for the respective means $\\mu_i$ of $\\binom n2$ independent random samples, each of which is constructed at a 99% confidence.\n",
    "\n",
    "What is the probability that at least one interval does not end up covering the true mean $\\binom n2$ for that feature/variable?"
   ]
  },
  {
   "cell_type": "markdown",
   "metadata": {},
   "source": [
    "**Solution:**  Unlike in part F, this is random.  **Before** we gather data and compute means $\\bar{X}$ for each flower/feature, there is a 95\\% chance that *any given* interval contains the targeted value.\n",
    "\n",
    "We're actually asking for the probability that if we flip 12 coins with a 95% chance of heads, what is the probability we get \"all heads?\"\n",
    "\n",
    "We can evalute this as a binomial, or simply note that \"all heads\" is the product of a set of 12 independent events with probability $.95$."
   ]
  }
 ],
 "metadata": {
  "kernelspec": {
   "display_name": "Python 3",
   "language": "python",
   "name": "python3"
  },
  "language_info": {
   "codemirror_mode": {
    "name": "ipython",
    "version": 3
   },
   "file_extension": ".py",
   "mimetype": "text/x-python",
   "name": "python",
   "nbconvert_exporter": "python",
   "pygments_lexer": "ipython3",
   "version": "3.8.5"
  }
 },
 "nbformat": 4,
 "nbformat_minor": 2
}
