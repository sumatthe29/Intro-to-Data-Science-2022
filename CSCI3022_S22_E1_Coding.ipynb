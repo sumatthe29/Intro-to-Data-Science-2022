{
 "cells": [
  {
   "cell_type": "markdown",
   "metadata": {},
   "source": [
    "<a id='top'></a>\n",
    "\n",
    "# CSCI3022 S22\n",
    "\n",
    "\n",
    "\n",
    "# Exam 1 Coding\n",
    "\n",
    "## Due Friday, March 18 at 11:59 pm to Canvas and Gradescope\n",
    "***\n",
    "\n",
    "**Name**: ________________________________________________________________________\n",
    "\n",
    "***\n",
    "\n",
    "This exam coding segment is due on Canvas by **11:59 PM on Friday March 18*. Your solutions to theoretical questions should be done in Markdown/MathJax directly below the associated question.  Your solutions to computational questions should include any specified Python code and results as well as written commentary on your conclusions.  \n",
    "\n",
    "**Here are the rules:** \n",
    "\n",
    "1. All work, code and analysis, must be your own. \n",
    "2. You may use your course notes, posted lecture slides, textbooks, in-class notebooks, and homework solutions as resources.  You may also search online for answers to general knowledge questions like the form of a probability distribution function or how to perform a particular operation in Python/Pandas. \n",
    "3. This is meant to be like a coding portion of your midterm exam. So, the instructional team will be a bit less helpful than we typically are with homework. For example, we will not check answers, significantly debug your code, and so on.  But please don't feel like you're totally alone on this: feel free to ask questions or ask for help, and we will decide how best to provide that assistance.\n",
    "4. If something is left open-ended, it is because we want to see how you approach the kinds of problems you will encounter in the wild, where it will not always be clear what sort of tests/methods should be applied. Feel free to ask clarifying questions though.\n",
    "5. You may **NOT** post to message boards or other online resources asking for help.\n",
    "6. You may **NOT** copy-paste solutions *from anywhere*.\n",
    "7. You may **NOT** collaborate with classmates or anyone else.\n",
    "8. In short, **your work must be your own**. It really is that simple.\n",
    "\n",
    "Violation of the above rules will result in an immediate academic sanction (*at the very least*, you will receive a 0 on this exam coding assignment or an F in the course, depending on severity), and a trip to the Honor Code Council.\n",
    "\n",
    "**By submitting this assignment, you agree to abide by the rules given above.**\n",
    "\n",
    "***\n",
    "\n",
    "**NOTES**: \n",
    "\n",
    "- You may not use late days on the exam coding nor can you drop your exam coding grades. \n",
    "- If you have a question for us, post it as a **PRIVATE** message on Piazza.  If we decide that the question is appropriate for the entire class, then we will add it to a exam coding clarifications thread. (NB: you should use public posts for the epidemiology \"warmup\" prompts).\n",
    "- Do **NOT** load or use any Python packages that are not available in Anaconda 3.6. The exam coding assignmnet is designed to be completed using only the packages in the first given code cell.\n",
    "- Some problems with code may be autograded.  If we provide a function API **do not** change it.  If we do not provide a function API then you're free to structure your code however you like. \n",
    "- This should go without saying, but... For any question that asks you to calculate something, you **must show all work to receive credit**. Sparse or nonexistent work will receive sparse or nonexistent credit.\n",
    "- There is *not a prescribed API* for these problems.  You may answer coding questions with whatever syntax or object typing you deem fit.  Your evaluation will primarily live in the clarity of how well you present your final results, so don't skip over any interpretations!  Your code should still be commented and readable to ensure you followed the given course algorithm.\n",
    "- There are two ways to quickly make a .pdf out of this notebook for Gradescope submission.  Either:\n",
    " - Use File -> Download as PDF via LaTeX.  This will require your system path find a working install of a TeX compiler\n",
    " - Easier: Use File ->  Print Preview, and then Right-Click -> Print using your default browser and \"Print to PDF\"\n",
    "\n",
    "---\n",
    "**Shortcuts:**  [Problem 1](#p1) | [Problem 2](#p2) | [Problem 3](#p3) | [Bottom](#bot)\n",
    "\n",
    "---"
   ]
  },
  {
   "cell_type": "code",
   "execution_count": 3,
   "metadata": {},
   "outputs": [],
   "source": [
    "import numpy as np\n",
    "import pandas as pd\n",
    "import matplotlib.pylab as plt\n",
    "import scipy.stats as stats\n",
    "import itertools\n",
    "%matplotlib inline"
   ]
  },
  {
   "cell_type": "markdown",
   "metadata": {},
   "source": [
    "[Back to top](#top)\n",
    "\n",
    "<a id='p1'></a>\n",
    "\n",
    "## 30 pts) Problem 1 (Theory and Computation): Working with Distributions\n",
    "***\n",
    "\n",
    "Here in CSCI3022, we're Arsenal fans.  They have a cool shade of red, we've been itching for some soccer hooliganism in our lives, and really nobody wants to root for Tottenham.\n",
    "\n",
    "Suppose that the English soccer leagues decide to redo their not-very-prestigous Carabao Cup.  Under the new format, the top 4 teams will each play one another **twice**, for a total of 6 games played for each team or 12 games total.  The teams in 2023 are announced as: `[Arsenal, ManUtd, Liverpool, Chelsea]`.  We rejoice, because Arsenal are in and Tottenham aren't!  Losers!\n",
    "\n",
    "We then decide to begin to tackle some data science questions.  We survey some data from prior years, and conclude that each match is *independent* of other matches.  Further, we have following probabilities, which we are confident should hold in 2023:\n",
    "\n",
    "- Arsenal  will beat ManUtd  60% of the time.\n",
    "- Arsenal will beat Chelsea 30% of the time.\n",
    "- Arsenal will beat Liverpool 50% of the time.\n",
    "- ManUtd will beat Liverpool 40% of the time.\n",
    "- ManUtd will beat Chelsea 50% of the time.\n",
    "- Chelsea will beat Liverpool 60% of the time.\n",
    "\n",
    "There are no ties (games go to shootouts), so each game is a win for one team and a loss for the other.\n",
    "\n",
    "At the end of the tournament, the team with the most wins in their 6 games is the winner (or has a share of the title).\n"
   ]
  },
  {
   "cell_type": "markdown",
   "metadata": {},
   "source": [
    "**A**: Using Markdown, what is the exact probability that Aresenal beats Chelsea both times they play?"
   ]
  },
  {
   "cell_type": "markdown",
   "metadata": {},
   "source": []
  },
  {
   "cell_type": "markdown",
   "metadata": {},
   "source": [
    "**B**: Using a single call to `scipy.stats`, verify your answer to part **A**."
   ]
  },
  {
   "cell_type": "code",
   "execution_count": null,
   "metadata": {},
   "outputs": [],
   "source": []
  },
  {
   "cell_type": "markdown",
   "metadata": {},
   "source": [
    "**C**: Using Markdown, what are the exact **expected** number of wins for Aresenal and the **variance** of that number?\n",
    "\n",
    "*Reminder: if you're summing two independent random variables, both the means and variances also sum!*"
   ]
  },
  {
   "cell_type": "markdown",
   "metadata": {},
   "source": []
  },
  {
   "cell_type": "markdown",
   "metadata": {},
   "source": [
    "**D**:  Using one or more calls to `scipy.stats`, verify your answer to part **C**."
   ]
  },
  {
   "cell_type": "code",
   "execution_count": null,
   "metadata": {},
   "outputs": [],
   "source": []
  },
  {
   "cell_type": "markdown",
   "metadata": {},
   "source": [
    "**E**:  Write a function `sim_tournament` that simulates all 12 games with the probabilities above.  For each team, return their number of wins from that simulation.  Afterwards (outside the function itself), run it once and print the number of wins for each team after that one tournament.\n",
    "\n",
    "*Usage note*: You may find that storing the win probabilities given in a $4 \\times 4$ matrix/array makes it easier to loop over all of the 6 possible matchups.  You could use set it up where e.g. the $(i,j)th$ entry is the probability that team $i$ beats team $j$."
   ]
  },
  {
   "cell_type": "code",
   "execution_count": null,
   "metadata": {},
   "outputs": [],
   "source": [
    "def sim_tournament():\n",
    "    return 'wins or something, up to you'"
   ]
  },
  {
   "cell_type": "markdown",
   "metadata": {},
   "source": [
    "**F**:  Call your `sim_tournament` function a sufficently large number of times to verify your answers in parts **C/D** in the simulations."
   ]
  },
  {
   "cell_type": "code",
   "execution_count": null,
   "metadata": {},
   "outputs": [],
   "source": []
  },
  {
   "cell_type": "markdown",
   "metadata": {},
   "source": [
    "**G**:  Using your simulations from `sim_tournament`, estimate the probability that Arsenal wins outright or has a share of of the title."
   ]
  },
  {
   "cell_type": "code",
   "execution_count": null,
   "metadata": {},
   "outputs": [],
   "source": []
  },
  {
   "cell_type": "markdown",
   "metadata": {},
   "source": [
    "[Back to top](#top)\n",
    "\n",
    "<a id='p2'></a>\n",
    "\n",
    "## (30 pts) Problem 2 (Computation): Another Deck of Cards\n",
    "***\n",
    "\n",
    "Dale and Brennan are at their games again, but now the weather is not sports permitting.  So they're playing a variant of \"Egyptian Rat Slap,\" where players alternate revealing the top card off of a shuffled deck and can **slap** the card if its face matches the face of the card revealed previously.\n",
    "\n",
    "Unfortunately, they lost a bunch of cards off the deck, and have cobbled together an unusual assortment by stealing cards from their younger sibling and parents.  Their deck consists of:\n",
    "\n",
    "- The 40 \"ace through 10\" cards of a regular 52 card playing deck.  You may ignore suits in this problem, so for the purposes of their game this is 4 copies each of those 10 distinct faces.\n",
    "- 5 copies of the Shiny Holo \"Mudkip\" Pokemon card.\n",
    "- 1 \"Beta BGS 9 Quad 9+ Black Lotus\" Magic the Gathering card\n",
    "- 3 \"Olaf\" cards from the Frozen collectible card sets\n",
    "- 2 Michael Jordan Birmingham Barons cards\n",
    "\n",
    "Each time they play, they take turns flipping cards off the deck, with Dale revealing the first card.  The game is over as soon as two cards with the same face are revealed consecutively, and the player who revealed the second card of that matching pair wins.\n",
    "\n",
    "\n",
    "**A**: Create a function `ers(deck)` that:\n",
    "- Takes a list or np.array `deck` as input\n",
    "- Shuffles the deck, then checks if the entire deck could be revealed with consecutive matching faces or not.\n",
    "- If consecutive cards are drawn off the deck that share a face, record which player won by revealing the second card of the matching pair.\n",
    "\n",
    "Then run your function once and print the result, which should be one of: `[\"No consecutive matches\", \"Dale\",'Brennan\"].`\n",
    "\n",
    "*Usage notes*:\n",
    "- Your actual output can be integers or strings, but you should be able to convert them afterwards to the strings given.\n",
    "- You also may want to represent the entire deck as a list of integers, with repeats.  See `np.repeat`.\n",
    "- There are a lot of ways to check if consecutive cards match.  You can either loop over each card after shuffling (`np.shuffle` or `np.random.choice` can shuffle), or you can compare a deck ordering to the same ordering where you offset indices by one, or others you can maybe think of."
   ]
  },
  {
   "cell_type": "code",
   "execution_count": 1,
   "metadata": {},
   "outputs": [],
   "source": [
    "def ers(deck):\n",
    "    return 'what happened or something, up to you'"
   ]
  },
  {
   "cell_type": "markdown",
   "metadata": {},
   "source": [
    "**B**: Call your `ers` function a sufficently large number of times to estimate the probability that Dale and Brennan make it through a shuffle of the deck with *no* consecutive cards matching."
   ]
  },
  {
   "cell_type": "code",
   "execution_count": null,
   "metadata": {},
   "outputs": [],
   "source": []
  },
  {
   "cell_type": "markdown",
   "metadata": {},
   "source": [
    "**C**: Using intuition alone, which should be higher: the probability that Dale wins or the probability that Brennan wins?  You should revist the exercises in nb08 if needed.  Justify your intution in a sentence or two."
   ]
  },
  {
   "cell_type": "markdown",
   "metadata": {},
   "source": []
  },
  {
   "cell_type": "markdown",
   "metadata": {},
   "source": [
    "**D**: Check your intuition in **C** via your simulations from part **B**."
   ]
  },
  {
   "cell_type": "code",
   "execution_count": null,
   "metadata": {},
   "outputs": [],
   "source": []
  },
  {
   "cell_type": "markdown",
   "metadata": {},
   "source": [
    "\n",
    "---\n",
    "[Back to top](#top)\n",
    "<a id='p3'></a>\n",
    "## (40 pts) Problem 3 (Data): Working with Data\n"
   ]
  },
  {
   "cell_type": "markdown",
   "metadata": {},
   "source": [
    "The [Anage](https://genomics.senescence.info/species/index.html) database is a large repositiory of biological information, and includes various properties of various animals with an eye towards understanding the effects of aging in different species.  Most of the columns should be self-explanatory, but for more information you can consult their overview, [here](https://genomics.senescence.info/help.html#anage).\n",
    "\n",
    "A couple of [acronyms](https://genomics.senescence.info/software/demographic.html) in the columns: IMR stands for \"initial mortality rate,\" and represents non-age related deaths.  MRDT is the \"mortality doubling rate,\" and is a measure for the age-related species deaths.\n",
    "\n",
    "We will be exploring this data set in both of the Exam Coding assignments this semester.  For this assignment, we're going to do dive into primarily the birth weight column, and understand the different birth weights of various species.\n",
    "\n",
    "The data is loaded in with a couple of preliminary explorations below."
   ]
  },
  {
   "cell_type": "code",
   "execution_count": 4,
   "metadata": {
    "scrolled": false
   },
   "outputs": [
    {
     "ename": "NameError",
     "evalue": "name 'pd' is not defined",
     "output_type": "error",
     "traceback": [
      "\u001b[1;31m---------------------------------------------------------------------------\u001b[0m",
      "\u001b[1;31mNameError\u001b[0m                                 Traceback (most recent call last)",
      "\u001b[1;32m<ipython-input-4-971a20d841c3>\u001b[0m in \u001b[0;36m<module>\u001b[1;34m\u001b[0m\n\u001b[1;32m----> 1\u001b[1;33m \u001b[0mdf\u001b[0m\u001b[1;33m=\u001b[0m\u001b[0mpd\u001b[0m\u001b[1;33m.\u001b[0m\u001b[0mread_csv\u001b[0m\u001b[1;33m(\u001b[0m\u001b[1;34m'../data/AnAge.csv'\u001b[0m\u001b[1;33m,\u001b[0m \u001b[0mencoding\u001b[0m\u001b[1;33m=\u001b[0m\u001b[1;34m'UTF-8'\u001b[0m\u001b[1;33m)\u001b[0m\u001b[1;33m\u001b[0m\u001b[1;33m\u001b[0m\u001b[0m\n\u001b[0m\u001b[0;32m      2\u001b[0m \u001b[0mprint\u001b[0m\u001b[1;33m(\u001b[0m\u001b[0mdf\u001b[0m\u001b[1;33m.\u001b[0m\u001b[0mcolumns\u001b[0m\u001b[1;33m)\u001b[0m \u001b[1;31m#information available: many numeric columns are blank for many species\u001b[0m\u001b[1;33m\u001b[0m\u001b[1;33m\u001b[0m\u001b[0m\n\u001b[0;32m      3\u001b[0m \u001b[0mprint\u001b[0m\u001b[1;33m(\u001b[0m\u001b[0mdf\u001b[0m\u001b[1;33m.\u001b[0m\u001b[0mshape\u001b[0m\u001b[1;33m)\u001b[0m \u001b[1;31m#4224 species available\u001b[0m\u001b[1;33m\u001b[0m\u001b[1;33m\u001b[0m\u001b[0m\n\u001b[0;32m      4\u001b[0m \u001b[0mdf\u001b[0m\u001b[1;33m.\u001b[0m\u001b[0mhead\u001b[0m\u001b[1;33m(\u001b[0m\u001b[1;36m3\u001b[0m\u001b[1;33m)\u001b[0m\u001b[1;33m\u001b[0m\u001b[1;33m\u001b[0m\u001b[0m\n",
      "\u001b[1;31mNameError\u001b[0m: name 'pd' is not defined"
     ]
    }
   ],
   "source": [
    "df=pd.read_csv('../data/AnAge.csv', encoding='UTF-8')\n",
    "print(df.columns) #information available: many numeric columns are blank for many species\n",
    "print(df.shape) #4224 species available\n",
    "df.head(3)"
   ]
  },
  {
   "cell_type": "markdown",
   "metadata": {},
   "source": [
    "**A**: Access an animal you like by its common name using `df.loc`, print the available data on that species, and explain why you like it."
   ]
  },
  {
   "cell_type": "code",
   "execution_count": null,
   "metadata": {},
   "outputs": [],
   "source": []
  },
  {
   "cell_type": "markdown",
   "metadata": {},
   "source": []
  },
  {
   "cell_type": "markdown",
   "metadata": {},
   "source": [
    "**B**: Birth weights are a very diverse variable.  Use `.describe` to get an overall view of the ranges of birth rates in the data."
   ]
  },
  {
   "cell_type": "code",
   "execution_count": null,
   "metadata": {},
   "outputs": [],
   "source": []
  },
  {
   "cell_type": "markdown",
   "metadata": {},
   "source": [
    "**C**: Create a series of histograms to explore the **shape** of the birth rate variable.\n",
    "\n",
    "- First, create a single histogram of birth rates, with 50 bins, labelled accordingly.  You should notice that it doesn't look very useful!\n",
    "- Next, create a figure with 4 density histograms, each with 20 bins, arranged into a 2-by-2 grid.  The first should histogram the birth weights of only animals whose birth weights are below 20g.  The second should show those whose weights are from 20g-200g; the third should show weights from 200g-2000g, and the fourth should show weights from 2000g-20000g.  What do you notice about the shapes of each of these histograms?  Are they skewed in a similar direction?  Label each histogram appropriately.\n",
    "- Finally, create a single histogram that shows the **logarithm** of birth weight across all of the available species in the data set.\n",
    "\n",
    "Then in Markdown speculate as to why might we want to use the last of these histograms instead of the original data values."
   ]
  },
  {
   "cell_type": "code",
   "execution_count": null,
   "metadata": {},
   "outputs": [],
   "source": []
  },
  {
   "cell_type": "markdown",
   "metadata": {},
   "source": []
  },
  {
   "cell_type": "markdown",
   "metadata": {},
   "source": [
    "**D**: Suppose we wanted to understand how humans and their closest relatives fit into this distribution.  To that end, we're going to explore species from the **primates**  order.  Our goal is to create a box plot of *each* of the **families** within the **primate** order.  But since a few of the families have very few individual species, instead create a box plot that contains a box for each primate **family** that has more than 11 \"birth weights\" present in the data  (more than 11 non-NaN rows).\n",
    "\n",
    "Put a vertical line for the birth weight of the \"sapiens\" species somewhere on the plot as a basis of comparison. \n",
    "\n",
    "In other words, you are to:\n",
    "- Figure out which families have primates actually have 12 or more species available\n",
    "- Make a box plot of the birth weights of **those** families\n",
    "- Figure out whether humans were already included in the plot you've made, and mark the human birth weight among primates somehow on the plot."
   ]
  },
  {
   "cell_type": "code",
   "execution_count": null,
   "metadata": {},
   "outputs": [],
   "source": []
  }
 ],
 "metadata": {
  "kernelspec": {
   "display_name": "Python 3",
   "language": "python",
   "name": "python3"
  },
  "language_info": {
   "codemirror_mode": {
    "name": "ipython",
    "version": 3
   },
   "file_extension": ".py",
   "mimetype": "text/x-python",
   "name": "python",
   "nbconvert_exporter": "python",
   "pygments_lexer": "ipython3",
   "version": "3.6.4"
  }
 },
 "nbformat": 4,
 "nbformat_minor": 2
}
